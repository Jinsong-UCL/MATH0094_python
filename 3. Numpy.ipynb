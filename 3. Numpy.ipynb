{
 "cells": [
  {
   "cell_type": "markdown",
   "metadata": {
    "toc": true
   },
   "source": [
    " <h1>Table of Contents<span class=\"tocSkip\"></span></h1>\n",
    "<div class=\"toc\"><ul class=\"toc-item\"><li><span><a href=\"#In-this-notebook\" data-toc-modified-id=\"In-this-notebook-1\"><span class=\"toc-item-num\">1&nbsp;&nbsp;</span>In this notebook</a></span></li><li><span><a href=\"#More-on-arrays\" data-toc-modified-id=\"More-on-arrays-2\"><span class=\"toc-item-num\">2&nbsp;&nbsp;</span>More on arrays</a></span></li><li><span><a href=\"#Broadcasting\" data-toc-modified-id=\"Broadcasting-3\"><span class=\"toc-item-num\">3&nbsp;&nbsp;</span>Broadcasting</a></span></li><li><span><a href=\"#Some-canonical-matrices/vectors\" data-toc-modified-id=\"Some-canonical-matrices/vectors-4\"><span class=\"toc-item-num\">4&nbsp;&nbsp;</span>Some canonical matrices/vectors</a></span></li><li><span><a href=\"#Inverting-a-matrix\" data-toc-modified-id=\"Inverting-a-matrix-5\"><span class=\"toc-item-num\">5&nbsp;&nbsp;</span>Inverting a matrix</a></span></li><li><span><a href=\"#Solving-linear-systems\" data-toc-modified-id=\"Solving-linear-systems-6\"><span class=\"toc-item-num\">6&nbsp;&nbsp;</span>Solving linear systems</a></span></li><li><span><a href=\"#Exercises\" data-toc-modified-id=\"Exercises-7\"><span class=\"toc-item-num\">7&nbsp;&nbsp;</span>Exercises</a></span></li></ul></div>"
   ]
  },
  {
   "cell_type": "markdown",
   "metadata": {},
   "source": [
    "# (More on) Numpy\n",
    "\n",
    "**Camilo A. Garcia Trillos - 2020**\n",
    "\n",
    "---"
   ]
  },
  {
   "cell_type": "markdown",
   "metadata": {},
   "source": [
    "## In this notebook \n",
    "\n",
    "We learn more about the Numpy package: we look at arrays and matrices, and some of the associated modules.\n"
   ]
  },
  {
   "cell_type": "markdown",
   "metadata": {},
   "source": [
    "We start by importing the modules we will use in this notebook: only numpy."
   ]
  },
  {
   "cell_type": "code",
   "execution_count": 1,
   "metadata": {},
   "outputs": [],
   "source": [
    "import numpy as np"
   ]
  },
  {
   "cell_type": "markdown",
   "metadata": {},
   "source": [
    "<a id=\"arrays\"></a>\n",
    "\n",
    "## More on arrays"
   ]
  },
  {
   "cell_type": "markdown",
   "metadata": {},
   "source": [
    "Let us look deeper at the numpy library. The numpy library contains useful tools to work with vectors and matrices, solve linear operations and generate random entries.\n",
    "\n",
    "\n",
    "We have a look at data types and their implications, basic operations, some canonical matrices, matrix inversion and solution of linear systems.\n",
    "\n",
    "\n",
    "\n"
   ]
  },
  {
   "cell_type": "code",
   "execution_count": 2,
   "metadata": {},
   "outputs": [],
   "source": [
    "a = np.array([1,3,6,1])"
   ]
  },
  {
   "cell_type": "code",
   "execution_count": 3,
   "metadata": {
    "scrolled": true
   },
   "outputs": [
    {
     "data": {
      "text/plain": "array([1, 3, 6, 1])"
     },
     "execution_count": 3,
     "metadata": {},
     "output_type": "execute_result"
    }
   ],
   "source": [
    "a"
   ]
  },
  {
   "cell_type": "markdown",
   "metadata": {},
   "source": [
    "Two important methods for arrays are *size* and *shape*. The former give sus the total number of elements in an array. The latter tells us how these elements are organised, whcih is particularly useful to define matrices or higher order tensors."
   ]
  },
  {
   "cell_type": "code",
   "execution_count": 4,
   "metadata": {},
   "outputs": [
    {
     "data": {
      "text/plain": "4"
     },
     "execution_count": 4,
     "metadata": {},
     "output_type": "execute_result"
    }
   ],
   "source": [
    "a.size # The number of total elements in the array"
   ]
  },
  {
   "cell_type": "code",
   "execution_count": 5,
   "metadata": {},
   "outputs": [
    {
     "data": {
      "text/plain": "(4,)"
     },
     "execution_count": 5,
     "metadata": {},
     "output_type": "execute_result"
    }
   ],
   "source": [
    "a.shape"
   ]
  },
  {
   "cell_type": "markdown",
   "metadata": {},
   "source": [
    "This means that at this time, all elements are organised in a unique row. We can render this vector into a 'column vector' or into a 2x2 matrix *with the same entries* simply assigning the shape we want or by using the *reshape* method."
   ]
  },
  {
   "cell_type": "code",
   "execution_count": 6,
   "metadata": {},
   "outputs": [
    {
     "name": "stdout",
     "output_type": "stream",
     "text": [
      "original\n",
      "[1 3 6 1]\n",
      "column vector (inplace)\n",
      "[[1 3 6 1]]\n",
      "matrix\n",
      "[[1 3]\n",
      " [6 1]]\n"
     ]
    }
   ],
   "source": [
    "print('original')\n",
    "print(a)\n",
    "a.shape=(1,4)\n",
    "print('column vector (inplace)')\n",
    "print(a)\n",
    "b = a.reshape(2,2)\n",
    "print('matrix')\n",
    "print(b)\n",
    "\n"
   ]
  },
  {
   "cell_type": "markdown",
   "metadata": {},
   "source": [
    "When assigning the *shape* property, the array itself changes (this is called 'inplace'):"
   ]
  },
  {
   "cell_type": "code",
   "execution_count": 7,
   "metadata": {},
   "outputs": [
    {
     "data": {
      "text/plain": "array([[1, 3, 6, 1]])"
     },
     "execution_count": 7,
     "metadata": {},
     "output_type": "execute_result"
    }
   ],
   "source": [
    "a"
   ]
  },
  {
   "cell_type": "code",
   "execution_count": 8,
   "metadata": {},
   "outputs": [
    {
     "name": "stdout",
     "output_type": "stream",
     "text": [
      "3\n",
      "[1 3 6 1]\n"
     ]
    }
   ],
   "source": [
    "print(a[0,1]) # This is OK\n",
    "print(a[0]) # this is OK\n",
    "# a[1] #This is an error"
   ]
  },
  {
   "cell_type": "markdown",
   "metadata": {},
   "source": [
    "The above error occurs because there is only one entry on the first dimension of the array.\n",
    "\n",
    "Arrays, unlike lists, cannot in general combine different types of entries. The vector we created above was an integer vector (note the lack of dots at the end of all prints!). Hence, if we try to assign a float, we will get a roundup version of it"
   ]
  },
  {
   "cell_type": "code",
   "execution_count": 9,
   "metadata": {},
   "outputs": [],
   "source": [
    "a[0,1] = 9.2"
   ]
  },
  {
   "cell_type": "code",
   "execution_count": 10,
   "metadata": {},
   "outputs": [
    {
     "data": {
      "text/plain": "array([[1, 9, 6, 1]])"
     },
     "execution_count": 10,
     "metadata": {},
     "output_type": "execute_result"
    }
   ],
   "source": [
    "a"
   ]
  },
  {
   "cell_type": "markdown",
   "metadata": {},
   "source": [
    "As mentioned above, 9.2 becomes 9. Let su try now by creating a vector of floats from the start:"
   ]
  },
  {
   "cell_type": "code",
   "execution_count": 11,
   "metadata": {},
   "outputs": [],
   "source": [
    "b = np.array([1.0,3,6])"
   ]
  },
  {
   "cell_type": "code",
   "execution_count": 12,
   "metadata": {},
   "outputs": [
    {
     "data": {
      "text/plain": "array([1., 3., 6.])"
     },
     "execution_count": 12,
     "metadata": {},
     "output_type": "execute_result"
    }
   ],
   "source": [
    "b"
   ]
  },
  {
   "cell_type": "code",
   "execution_count": 13,
   "metadata": {},
   "outputs": [],
   "source": [
    "b[1] = 9.2"
   ]
  },
  {
   "cell_type": "code",
   "execution_count": 14,
   "metadata": {},
   "outputs": [
    {
     "data": {
      "text/plain": "array([1. , 9.2, 6. ])"
     },
     "execution_count": 14,
     "metadata": {},
     "output_type": "execute_result"
    }
   ],
   "source": [
    "b"
   ]
  },
  {
   "cell_type": "markdown",
   "metadata": {},
   "source": [
    "Note the difference!  The array b was initialized to have floats, thanks to writing 1.0 instead of 1.  Thus, in contrast to a, it contains 9.2 (instead of 9, as the array a does)\n",
    "\n",
    "As *lists*, arrays are assigned by reference. What follows should not surprise you if you followed the first notebook.\n"
   ]
  },
  {
   "cell_type": "code",
   "execution_count": 15,
   "metadata": {},
   "outputs": [
    {
     "name": "stdout",
     "output_type": "stream",
     "text": [
      "c: [7.1 9.2 6. ]\n",
      "b: [7.1 9.2 6. ]\n"
     ]
    }
   ],
   "source": [
    "c = b\n",
    "c\n",
    "c[0] = 7.1\n",
    "print('c:',c)\n",
    "print('b:', b)"
   ]
  },
  {
   "cell_type": "markdown",
   "metadata": {},
   "source": [
    "If an independent copy of a given array is needed, we can use the method *copy*"
   ]
  },
  {
   "cell_type": "code",
   "execution_count": 16,
   "metadata": {},
   "outputs": [
    {
     "name": "stdout",
     "output_type": "stream",
     "text": [
      "[7.1 1.  6. ]\n",
      "[7.1 9.2 6. ]\n"
     ]
    }
   ],
   "source": [
    "c=b.copy()\n",
    "c\n",
    "c[1]=1\n",
    "print(c)\n",
    "print(b)"
   ]
  },
  {
   "cell_type": "markdown",
   "metadata": {},
   "source": [
    "In the previous notebook, we looked at the method *arange*. Here are ways to use it:"
   ]
  },
  {
   "cell_type": "code",
   "execution_count": 17,
   "metadata": {},
   "outputs": [
    {
     "data": {
      "text/plain": "array([ 3, 10, 17, 24, 31, 38])"
     },
     "execution_count": 17,
     "metadata": {},
     "output_type": "execute_result"
    }
   ],
   "source": [
    "d = np.arange(3, 42, 7)\n",
    "d"
   ]
  },
  {
   "cell_type": "code",
   "execution_count": 18,
   "metadata": {},
   "outputs": [
    {
     "data": {
      "text/plain": "array([38, 31, 24, 17, 10,  3])"
     },
     "execution_count": 18,
     "metadata": {},
     "output_type": "execute_result"
    }
   ],
   "source": [
    "d = np.arange(38, 2, -7)\n",
    "d"
   ]
  },
  {
   "cell_type": "code",
   "execution_count": 19,
   "metadata": {},
   "outputs": [
    {
     "data": {
      "text/plain": "array([0, 1, 2, 3, 4, 5, 6, 7, 8, 9])"
     },
     "execution_count": 19,
     "metadata": {},
     "output_type": "execute_result"
    }
   ],
   "source": [
    "d = np.arange(10)\n",
    "d"
   ]
  },
  {
   "cell_type": "markdown",
   "metadata": {},
   "source": [
    "<a id=\"broadcasting\"></a>\n",
    "## Broadcasting\n",
    "\n",
    "We mentioned in the previous notebook that there was an exception to the rule of operating with the exact same dimensions. This exception is called broadcasting. Let us first present an example: try to figure out what is happening"
   ]
  },
  {
   "cell_type": "markdown",
   "metadata": {},
   "source": [
    "**Example 1**"
   ]
  },
  {
   "cell_type": "code",
   "execution_count": 20,
   "metadata": {},
   "outputs": [
    {
     "data": {
      "text/plain": "array([[0, 1],\n       [2, 3],\n       [4, 5],\n       [6, 7],\n       [8, 9]])"
     },
     "execution_count": 20,
     "metadata": {},
     "output_type": "execute_result"
    }
   ],
   "source": [
    "d.shape = (5,2)\n",
    "d"
   ]
  },
  {
   "cell_type": "code",
   "execution_count": 21,
   "metadata": {},
   "outputs": [],
   "source": [
    "e = np.array([1,3])"
   ]
  },
  {
   "cell_type": "code",
   "execution_count": 22,
   "metadata": {},
   "outputs": [
    {
     "name": "stdout",
     "output_type": "stream",
     "text": [
      "[[ 0  3]\n",
      " [ 2  9]\n",
      " [ 4 15]\n",
      " [ 6 21]\n",
      " [ 8 27]]\n",
      "(5, 2) (2,)\n"
     ]
    }
   ],
   "source": [
    "print(d * e)\n",
    "print(d.shape, e.shape)"
   ]
  },
  {
   "cell_type": "markdown",
   "metadata": {},
   "source": [
    "**Example 2**"
   ]
  },
  {
   "cell_type": "code",
   "execution_count": 23,
   "metadata": {},
   "outputs": [
    {
     "name": "stdout",
     "output_type": "stream",
     "text": [
      "[[ 0  3]\n",
      " [ 2  9]\n",
      " [ 4 15]\n",
      " [ 6 21]\n",
      " [ 8 27]]\n",
      "(5, 2) (1, 2)\n"
     ]
    }
   ],
   "source": [
    "e.shape = (1,2)\n",
    "print(d * e)\n",
    "print(d.shape, e.shape)"
   ]
  },
  {
   "cell_type": "markdown",
   "metadata": {},
   "source": [
    "**Example 3**"
   ]
  },
  {
   "cell_type": "code",
   "execution_count": 24,
   "metadata": {},
   "outputs": [
    {
     "name": "stdout",
     "output_type": "stream",
     "text": [
      "f:  [[1]\n",
      " [1]\n",
      " [1]\n",
      " [2]\n",
      " [2]] and the shape of f: (5, 1)\n"
     ]
    }
   ],
   "source": [
    "f = np.array([1,1,1,2,2]).reshape(-1,1)\n",
    "print('f: ',f, 'and the shape of f:', f.shape)"
   ]
  },
  {
   "cell_type": "code",
   "execution_count": 25,
   "metadata": {},
   "outputs": [
    {
     "name": "stdout",
     "output_type": "stream",
     "text": [
      "[[ 0  1]\n",
      " [ 2  3]\n",
      " [ 4  5]\n",
      " [12 14]\n",
      " [16 18]]\n",
      "(5, 1) (5, 2)\n"
     ]
    }
   ],
   "source": [
    "print(f*d)\n",
    "print(f.shape, d.shape)"
   ]
  },
  {
   "cell_type": "markdown",
   "metadata": {},
   "source": [
    "**Example 4**\n",
    "\n",
    "However, recall that the following gives an error:"
   ]
  },
  {
   "cell_type": "code",
   "execution_count": 26,
   "metadata": {},
   "outputs": [
    {
     "name": "stdout",
     "output_type": "stream",
     "text": [
      "(5, 2) (3,)\n"
     ]
    }
   ],
   "source": [
    "g = np.array([1,2,3])\n",
    "print(d.shape,g.shape)\n",
    "# print(g*d) # This gives an error"
   ]
  },
  {
   "cell_type": "markdown",
   "metadata": {},
   "source": [
    "If you have not figure it out, the explanation is as follows: suppose we are operating the arrays a and b. Suppose that the shape of a is $(m_1,m_2)$, while the shapes of b are $(n_1,n_2)$:\n",
    "- If $n_i \\neq m_i$  **and** both are different from one or empty for some $i=1, 2$, then the operation cannot be done.\n",
    "- If $n_i \\neq m_i$  **and** one of the two is equal to one or empty for some $i=1, 2$, then the operation is done by completing the missing dimensions via copying the remaining components.\n",
    "\n",
    "Look again to the example to make sure you understand this process. In particular, see how the empty spaces can be accomodated to the above template.\n",
    "\n",
    "**Note:** arrays can be *tensors*, i.e. have more than 2 dimensions. Broadcasting is generalised as you would expect.\n"
   ]
  },
  {
   "cell_type": "markdown",
   "metadata": {},
   "source": [
    "**Example 5**\n",
    "\n",
    "Observe the following example"
   ]
  },
  {
   "cell_type": "code",
   "execution_count": 27,
   "metadata": {},
   "outputs": [],
   "source": [
    "d[0,0] = 1"
   ]
  },
  {
   "cell_type": "code",
   "execution_count": 28,
   "metadata": {},
   "outputs": [
    {
     "data": {
      "text/plain": "array([[1, 1],\n       [2, 3],\n       [4, 5],\n       [6, 7],\n       [8, 9]])"
     },
     "execution_count": 28,
     "metadata": {},
     "output_type": "execute_result"
    }
   ],
   "source": [
    "d"
   ]
  },
  {
   "cell_type": "code",
   "execution_count": 29,
   "metadata": {},
   "outputs": [
    {
     "data": {
      "text/plain": "array([[1.        , 1.        ],\n       [0.5       , 0.33333333],\n       [0.25      , 0.2       ],\n       [0.16666667, 0.14285714],\n       [0.125     , 0.11111111]])"
     },
     "execution_count": 29,
     "metadata": {},
     "output_type": "execute_result"
    }
   ],
   "source": [
    "1/d"
   ]
  },
  {
   "cell_type": "markdown",
   "metadata": {},
   "source": [
    "The above works, because 1 is taken as an array of empty size, so it can be broadcasted by repeating itself to operate on each entry.\n",
    "\n",
    "Note though that the following is an error:"
   ]
  },
  {
   "cell_type": "code",
   "execution_count": 30,
   "metadata": {},
   "outputs": [],
   "source": [
    "# d ** (-1) # This raises an error"
   ]
  },
  {
   "cell_type": "markdown",
   "metadata": {},
   "source": [
    "What's wrong?  We initialized d with integers, and there is no well defined change of type for this operation."
   ]
  },
  {
   "cell_type": "code",
   "execution_count": 31,
   "metadata": {},
   "outputs": [
    {
     "data": {
      "text/plain": "dtype('int64')"
     },
     "execution_count": 31,
     "metadata": {},
     "output_type": "execute_result"
    }
   ],
   "source": [
    "d.dtype # Observe the type of this array"
   ]
  },
  {
   "cell_type": "code",
   "execution_count": 32,
   "metadata": {},
   "outputs": [],
   "source": [
    "d = d.astype(float) # Set it to float"
   ]
  },
  {
   "cell_type": "code",
   "execution_count": 33,
   "metadata": {},
   "outputs": [
    {
     "data": {
      "text/plain": "dtype('float64')"
     },
     "execution_count": 33,
     "metadata": {},
     "output_type": "execute_result"
    }
   ],
   "source": [
    "d.dtype # Observe again the type"
   ]
  },
  {
   "cell_type": "code",
   "execution_count": 34,
   "metadata": {},
   "outputs": [
    {
     "data": {
      "text/plain": "array([[1.        , 1.        ],\n       [0.5       , 0.33333333],\n       [0.25      , 0.2       ],\n       [0.16666667, 0.14285714],\n       [0.125     , 0.11111111]])"
     },
     "execution_count": 34,
     "metadata": {},
     "output_type": "execute_result"
    }
   ],
   "source": [
    "d ** (-1) # The correct answer appears."
   ]
  },
  {
   "cell_type": "code",
   "execution_count": 35,
   "metadata": {},
   "outputs": [
    {
     "data": {
      "text/plain": "array([[ True,  True],\n       [ True,  True],\n       [ True,  True],\n       [ True,  True],\n       [ True,  True]])"
     },
     "execution_count": 35,
     "metadata": {},
     "output_type": "execute_result"
    }
   ],
   "source": [
    "(d ** (-1)) == (1/d)"
   ]
  },
  {
   "cell_type": "markdown",
   "metadata": {},
   "source": [
    "<a id=\"canonical\"></a>\n",
    "## Some canonical matrices/vectors\n"
   ]
  },
  {
   "cell_type": "markdown",
   "metadata": {},
   "source": [
    "Let us introduce some canonical matrices and vectors."
   ]
  },
  {
   "cell_type": "code",
   "execution_count": 36,
   "metadata": {},
   "outputs": [
    {
     "name": "stdout",
     "output_type": "stream",
     "text": [
      "[0. 0. 0. 0. 0. 0. 0. 0. 0. 0.]\n",
      "[[1. 1. 1. 1. 1.]\n",
      " [1. 1. 1. 1. 1.]]\n"
     ]
    }
   ],
   "source": [
    "# Zeros and ones matrix/vector\n",
    "\n",
    "print (np.zeros(10))\n",
    "a = np.ones((2,5))\n",
    "print(a)"
   ]
  },
  {
   "cell_type": "markdown",
   "metadata": {},
   "source": [
    "By default these are float. If an integer is desired, this  has to be stated explicitly."
   ]
  },
  {
   "cell_type": "code",
   "execution_count": 37,
   "metadata": {},
   "outputs": [
    {
     "name": "stdout",
     "output_type": "stream",
     "text": [
      "[0 0 0 0 0 0 0 0 0 0]\n"
     ]
    }
   ],
   "source": [
    "b=np.zeros(10, dtype=int)\n",
    "print (b)"
   ]
  },
  {
   "cell_type": "markdown",
   "metadata": {},
   "source": [
    "Some other useful functions are zeros_like and ones_like: they create zeros and ones of the lentgh and type of the parameter"
   ]
  },
  {
   "cell_type": "code",
   "execution_count": 38,
   "metadata": {},
   "outputs": [
    {
     "name": "stdout",
     "output_type": "stream",
     "text": [
      "[[0. 0. 0. 0. 0.]\n",
      " [0. 0. 0. 0. 0.]]\n",
      "[1 1 1 1 1 1 1 1 1 1]\n"
     ]
    }
   ],
   "source": [
    "print(np.zeros_like(a))\n",
    "print(np.ones_like(b))"
   ]
  },
  {
   "cell_type": "markdown",
   "metadata": {},
   "source": [
    "We have also an identity matrix and the function diag. Let us look at what they do:"
   ]
  },
  {
   "cell_type": "code",
   "execution_count": 39,
   "metadata": {},
   "outputs": [],
   "source": [
    "c=np.eye(5)"
   ]
  },
  {
   "cell_type": "code",
   "execution_count": 40,
   "metadata": {},
   "outputs": [
    {
     "name": "stdout",
     "output_type": "stream",
     "text": [
      "[[ 1.  0.  0.  0.  0.]\n",
      " [ 0.  1.  0.  0.  0.]\n",
      " [ 0.  0. 10.  0.  0.]\n",
      " [ 0.  0.  0.  1.  0.]\n",
      " [ 0.  0.  0.  0.  1.]]\n",
      "=====\n",
      "[ 1.  1. 10.  1.  1.]\n"
     ]
    }
   ],
   "source": [
    "c[2][2]=10\n",
    "print(c)\n",
    "print('=====')\n",
    "print(np.diag(c))"
   ]
  },
  {
   "cell_type": "markdown",
   "metadata": {},
   "source": [
    "Diag can also be used to build a diagonal matrix, as shown below."
   ]
  },
  {
   "cell_type": "code",
   "execution_count": 41,
   "metadata": {},
   "outputs": [
    {
     "data": {
      "text/plain": "array([[0, 0, 0, 0, 0, 0, 0, 0],\n       [0, 1, 0, 0, 0, 0, 0, 0],\n       [0, 0, 2, 0, 0, 0, 0, 0],\n       [0, 0, 0, 3, 0, 0, 0, 0],\n       [0, 0, 0, 0, 4, 0, 0, 0],\n       [0, 0, 0, 0, 0, 5, 0, 0],\n       [0, 0, 0, 0, 0, 0, 6, 0],\n       [0, 0, 0, 0, 0, 0, 0, 7]])"
     },
     "execution_count": 41,
     "metadata": {},
     "output_type": "execute_result"
    }
   ],
   "source": [
    "np.diag(np.arange(8))"
   ]
  },
  {
   "cell_type": "markdown",
   "metadata": {},
   "source": [
    "<a id=\"inverting\"></a>\n",
    "## Inverting a matrix"
   ]
  },
  {
   "cell_type": "markdown",
   "metadata": {},
   "source": [
    "Recall how to generate a random Gaussian matrix: here we generate a matrix of size 3x3, where each entry is i.i.d. with distribution $\\mathcal N(0,1)$"
   ]
  },
  {
   "cell_type": "code",
   "execution_count": 42,
   "metadata": {},
   "outputs": [
    {
     "data": {
      "text/plain": "array([[ 1.98383875,  1.22518942, -1.74340608],\n       [-2.21712834,  0.46381802, -1.11359998],\n       [-0.42817125, -1.20089685, -1.53003983]])"
     },
     "execution_count": 42,
     "metadata": {},
     "output_type": "execute_result"
    }
   ],
   "source": [
    "rng = np.random.default_rng()\n",
    "g = rng.standard_normal((3,3))\n",
    "g"
   ]
  },
  {
   "cell_type": "markdown",
   "metadata": {},
   "source": [
    "We can check that the matrix is invertible, by looking at the rank of the matrix"
   ]
  },
  {
   "cell_type": "code",
   "execution_count": 43,
   "metadata": {},
   "outputs": [
    {
     "data": {
      "text/plain": "3"
     },
     "execution_count": 43,
     "metadata": {},
     "output_type": "execute_result"
    }
   ],
   "source": [
    "np.linalg.matrix_rank(g)"
   ]
  },
  {
   "cell_type": "markdown",
   "metadata": {},
   "source": [
    "If the rank is 3 then we can invert the matrix g.  We already showed that *g ** (-1)* does not give the matrix inverse. Instead it computes the reciprocals of each component:"
   ]
  },
  {
   "cell_type": "code",
   "execution_count": 44,
   "metadata": {},
   "outputs": [
    {
     "data": {
      "text/plain": "array([[ 0.50407323,  0.81620032, -0.57358983],\n       [-0.45103388,  2.156018  , -0.89798852],\n       [-2.33551413, -0.83271099, -0.65357775]])"
     },
     "execution_count": 44,
     "metadata": {},
     "output_type": "execute_result"
    }
   ],
   "source": [
    "g ** (-1)"
   ]
  },
  {
   "cell_type": "markdown",
   "metadata": {},
   "source": [
    "Instead the package numpy has a specific command to obtain the matrix inverse:"
   ]
  },
  {
   "cell_type": "code",
   "execution_count": 45,
   "metadata": {},
   "outputs": [],
   "source": [
    "g_inv = np.linalg.inv(g)"
   ]
  },
  {
   "cell_type": "code",
   "execution_count": 46,
   "metadata": {},
   "outputs": [
    {
     "data": {
      "text/plain": "array([[ 0.1621881 , -0.3144152 ,  0.04403352],\n       [ 0.23100224,  0.29964532, -0.48130495],\n       [-0.22669616, -0.14719851, -0.28813386]])"
     },
     "execution_count": 46,
     "metadata": {},
     "output_type": "execute_result"
    }
   ],
   "source": [
    "g_inv"
   ]
  },
  {
   "cell_type": "markdown",
   "metadata": {},
   "source": [
    "Let's check:"
   ]
  },
  {
   "cell_type": "code",
   "execution_count": 47,
   "metadata": {},
   "outputs": [
    {
     "data": {
      "text/plain": "array([[ 1.00000000e+00, -1.34835727e-16,  4.12731285e-17],\n       [-2.51480965e-17,  1.00000000e+00,  1.77787612e-17],\n       [ 4.41314899e-17,  1.19457669e-16,  1.00000000e+00]])"
     },
     "execution_count": 47,
     "metadata": {},
     "output_type": "execute_result"
    }
   ],
   "source": [
    "g@g_inv"
   ]
  },
  {
   "cell_type": "markdown",
   "metadata": {},
   "source": [
    "Apart from rounding errors this is basically the identity matrix."
   ]
  },
  {
   "cell_type": "markdown",
   "metadata": {},
   "source": [
    "We need to be careful though:\n",
    "- Inverting matrices is expensive\n",
    "- Inversion is done numerically, and this algorithm is not *stable* when applied to certain matrices. \n",
    "\n",
    "Let us illustrate this point with an example. We are going to use another canonical matrix, the [Hilbert matrix](https://en.wikipedia.org/wiki/Hilbert_matrix). This matrix is famous for being ill conditioned (that is, there is a huge gap between its eigenvalues), which makes it a bad example for inversion algorithms."
   ]
  },
  {
   "cell_type": "code",
   "execution_count": 48,
   "metadata": {},
   "outputs": [],
   "source": [
    "from scipy.linalg import hilbert\n",
    "\n",
    "dim = 13\n",
    "ill_conditioned = hilbert(dim)\n",
    "#ill_conditioned"
   ]
  },
  {
   "cell_type": "code",
   "execution_count": 49,
   "metadata": {},
   "outputs": [
    {
     "data": {
      "text/plain": "4.7863923023780064e+17"
     },
     "execution_count": 49,
     "metadata": {},
     "output_type": "execute_result"
    }
   ],
   "source": [
    "np.linalg.cond(ill_conditioned)"
   ]
  },
  {
   "cell_type": "code",
   "execution_count": 50,
   "metadata": {},
   "outputs": [
    {
     "data": {
      "text/plain": "array([1.        , 1.00000029, 1.0000776 , 1.00030518, 0.99238687,\n       0.98805085, 0.94275134, 0.6014303 , 0.79631152, 0.60006177,\n       1.08939814, 0.92097063, 1.01171875])"
     },
     "execution_count": 50,
     "metadata": {},
     "output_type": "execute_result"
    }
   ],
   "source": [
    "ill_inverse = np.linalg.inv(ill_conditioned)\n",
    "np.diag(ill_conditioned @ ill_inverse )   # If inverse is perfect, all entries here would be one (can you see why?)"
   ]
  },
  {
   "cell_type": "code",
   "execution_count": 51,
   "metadata": {},
   "outputs": [
    {
     "data": {
      "text/plain": "array([-0.82885124, -0.45175585, -0.28844112, -0.1791205 , -0.09182011,\n       -0.01765168,  0.04692487,  0.1038551 ,  0.15445767,  0.19972684,\n        0.24045054,  0.27726858,  0.31070785])"
     },
     "execution_count": 51,
     "metadata": {},
     "output_type": "execute_result"
    }
   ],
   "source": [
    "b = np.ones(dim)\n",
    "ill_conditioned @ (ill_inverse @ b) # If inverse is perfect, all entries here would be one (can you see why?)"
   ]
  },
  {
   "cell_type": "markdown",
   "metadata": {},
   "source": [
    "Note that the above tests show that we are not really getting a good approximation of the inverse.\n",
    "\n",
    "There are several ways to account for this problem. One can add a small amount to the diagonal"
   ]
  },
  {
   "cell_type": "code",
   "execution_count": 52,
   "metadata": {},
   "outputs": [
    {
     "name": "stdout",
     "output_type": "stream",
     "text": [
      "0.04 1.0\n"
     ]
    }
   ],
   "source": [
    "ill_min = np.min(ill_conditioned)\n",
    "ill_max = np.max(ill_conditioned)\n",
    "print(ill_min,ill_max)"
   ]
  },
  {
   "cell_type": "code",
   "execution_count": 53,
   "metadata": {},
   "outputs": [],
   "source": [
    "better_cond = ill_conditioned + np.diag (ill_min*0.05*np.ones(dim) )\n",
    "better_inv = np.linalg.inv(better_cond)"
   ]
  },
  {
   "cell_type": "code",
   "execution_count": 54,
   "metadata": {},
   "outputs": [
    {
     "data": {
      "text/plain": "array([1.00160478, 0.99015151, 0.99379173, 1.00807935, 1.01921242,\n       1.02373631, 1.02185175, 1.01473545, 1.00365078, 0.98968786,\n       0.97371675, 0.95640769, 0.93826756])"
     },
     "execution_count": 54,
     "metadata": {},
     "output_type": "execute_result"
    }
   ],
   "source": [
    "ill_conditioned @ (better_inv @ b) # If inverse is perfect, all entries here would be one (can you see why?)"
   ]
  },
  {
   "cell_type": "markdown",
   "metadata": {},
   "source": [
    "Note that this solution is much closer to the one vector, and so the inverse is close to what we would like. \n",
    "\n",
    "But this solution has a *bias*, that is, we have a systematic error. A more expensive alternative is to add an error that is neglected in probability: we add  a small random amount to the matrix, and then average out a couple of solutions"
   ]
  },
  {
   "cell_type": "code",
   "execution_count": 55,
   "metadata": {},
   "outputs": [],
   "source": [
    "noise_factor = np.diag(rng.random(dim) *0.02)"
   ]
  },
  {
   "cell_type": "code",
   "execution_count": 56,
   "metadata": {},
   "outputs": [
    {
     "data": {
      "text/plain": "(0.0, 0.0007041062884113994, 0.019912364149678247)"
     },
     "execution_count": 56,
     "metadata": {},
     "output_type": "execute_result"
    }
   ],
   "source": [
    "np.min(noise_factor), np.mean(noise_factor), np.max(noise_factor)"
   ]
  },
  {
   "cell_type": "code",
   "execution_count": 57,
   "metadata": {},
   "outputs": [],
   "source": [
    "better_cond2 = ill_conditioned + noise_factor\n",
    "better_inv2 = np.linalg.inv(better_cond2)"
   ]
  },
  {
   "cell_type": "code",
   "execution_count": 58,
   "metadata": {},
   "outputs": [
    {
     "data": {
      "text/plain": "array([0.99978703, 0.98299876, 1.01352384, 1.0316158 , 1.03468996,\n       1.02671412, 1.01144453, 0.99162023, 0.96911505, 0.94518493,\n       0.92066456, 0.89610487, 0.87186566])"
     },
     "execution_count": 58,
     "metadata": {},
     "output_type": "execute_result"
    }
   ],
   "source": [
    "ill_conditioned @ (better_inv2 @ b)"
   ]
  },
  {
   "cell_type": "markdown",
   "metadata": {},
   "source": [
    "This works specially well when the matrix is a calculated covariance matrix: in this case one can randomly perturb the data before calculating the covariance."
   ]
  },
  {
   "cell_type": "markdown",
   "metadata": {},
   "source": [
    "<a id=\"lin_sys\"></a>\n",
    "\n",
    "## Solving linear systems\n",
    "\n",
    "Sometimes we are not interested in finding the inverse matrix but rather in solving a liner system like\n",
    "\n",
    "$$A {\\bf x} ={\\bf b}$$\n",
    "\n",
    "Doing this directly is usually more efficient.\n",
    "\n",
    "There is a whole theory on how to solve linear equations(this is at the core of numerical analysis), but we will simply use the predifined functions."
   ]
  },
  {
   "cell_type": "code",
   "execution_count": 59,
   "metadata": {},
   "outputs": [
    {
     "data": {
      "text/plain": "array([ 3.81427568e+00, -8.52406796e+02,  4.18627157e+04, -8.38422715e+05,\n        8.74650261e+06, -5.38443457e+07,  2.09652792e+08, -5.35753454e+08,\n        9.10436098e+08, -1.01878859e+09,  7.20893064e+08, -2.92250884e+08,\n        5.17063946e+07])"
     },
     "execution_count": 59,
     "metadata": {},
     "output_type": "execute_result"
    }
   ],
   "source": [
    "x = np.linalg.solve(ill_conditioned, b)\n",
    "x"
   ]
  },
  {
   "cell_type": "markdown",
   "metadata": {},
   "source": [
    "We test it:"
   ]
  },
  {
   "cell_type": "code",
   "execution_count": 60,
   "metadata": {},
   "outputs": [
    {
     "data": {
      "text/plain": "array([1.        , 1.        , 1.00000001, 1.        , 1.        ,\n       1.00000001, 1.        , 1.00000001, 1.        , 1.00000001,\n       0.99999999, 1.        , 1.        ])"
     },
     "execution_count": 60,
     "metadata": {},
     "output_type": "execute_result"
    }
   ],
   "source": [
    "ill_conditioned @ x"
   ]
  },
  {
   "cell_type": "markdown",
   "metadata": {},
   "source": [
    "Very close to $b$ (a vector of ones). Compare with the result we obain using the inverse:"
   ]
  },
  {
   "cell_type": "code",
   "execution_count": 61,
   "metadata": {},
   "outputs": [
    {
     "data": {
      "text/plain": "array([-0.82885124, -0.45175585, -0.28844112, -0.1791205 , -0.09182011,\n       -0.01765168,  0.04692487,  0.1038551 ,  0.15445767,  0.19972684,\n        0.24045054,  0.27726858,  0.31070785])"
     },
     "execution_count": 61,
     "metadata": {},
     "output_type": "execute_result"
    }
   ],
   "source": [
    "x2 = ill_inverse@b\n",
    "ill_conditioned@x2"
   ]
  },
  {
   "cell_type": "markdown",
   "metadata": {},
   "source": [
    "And compare with what we obtain using the modified inverse (with the small perturbation):"
   ]
  },
  {
   "cell_type": "code",
   "execution_count": 62,
   "metadata": {},
   "outputs": [
    {
     "data": {
      "text/plain": "array([1.00160478, 0.99015151, 0.99379173, 1.00807935, 1.01921242,\n       1.02373631, 1.02185175, 1.01473545, 1.00365078, 0.98968786,\n       0.97371675, 0.95640769, 0.93826756])"
     },
     "execution_count": 62,
     "metadata": {},
     "output_type": "execute_result"
    }
   ],
   "source": [
    "x3 = better_inv@b\n",
    "ill_conditioned@x3"
   ]
  },
  {
   "cell_type": "markdown",
   "metadata": {},
   "source": [
    "Better... but solving the linear system is superior. \n",
    "\n",
    "**Remark:** Finding an inverse might be advantageous if several linear systems with the smae matrices have to be solved one after the other. "
   ]
  },
  {
   "cell_type": "markdown",
   "metadata": {},
   "source": [
    "<a id=\"exercises\"></a>\n",
    "\n",
    "## Exercises\n",
    "\n",
    "1. Create a function  'special_gaussian(n)'  that generates a sample of $n$ independent Gaussians, where the variance of the $i$th component is $1/i$. (Note: You must use np.random.randn). Do not forget to avoid erros and test your function."
   ]
  },
  {
   "cell_type": "code",
   "execution_count": 67,
   "metadata": {},
   "outputs": [
    {
     "name": "stdout",
     "output_type": "stream",
     "text": [
      "<class 'int'>\n"
     ]
    },
    {
     "data": {
      "text/plain": "array([ 0.00431777,  0.46070032, -0.75584664,  0.13589773, -0.62454832,\n       -0.15900776,  0.41588751,  0.28553175,  0.26949862,  0.06578657])"
     },
     "execution_count": 67,
     "metadata": {},
     "output_type": "execute_result"
    }
   ],
   "source": [
    "def special_gaussian2(n):\n",
    "    variance = 1/ np.arange(1,n+1)\n",
    "    return np.random.randn(n)*variance**0.5\n",
    "\n",
    "\n",
    "\n",
    "\n",
    "def special_gaussian(n):\n",
    "    print(type(n))\n",
    "    if n <= 0 or type(n)!= int:\n",
    "        raise TypeError (\"Please entre a valid positive integer\")\n",
    "    return special_gaussian2(n)\n",
    "\n",
    "special_gaussian(10)\n"
   ]
  },
  {
   "cell_type": "markdown",
   "metadata": {},
   "source": [
    "2. We consider a one-period market model in a finite probability space. \n",
    "\n",
    "Create a function 'complete_market_1p(S0,S1)' that receives a vector S0 with the initial prices of the assets in a market, and a matrix S1 that gives the prices of each asset in the market under each scenario, and returns a boolean that states if the market is complete or not."
   ]
  },
  {
   "cell_type": "code",
   "execution_count": 68,
   "metadata": {},
   "outputs": [
    {
     "data": {
      "text/plain": "False"
     },
     "execution_count": 68,
     "metadata": {},
     "output_type": "execute_result"
    }
   ],
   "source": [
    "def complete_market_1p(S0, S1):\n",
    "    return np.linalg.matrix_rank(S1.T) == S1.shape[1]\n",
    "\n",
    "S0 = np.array([1,2])\n",
    "S1 = np.array([[1,2,1],[3,2,1]])\n",
    "complete_market_1p(S0,S1)"
   ]
  }
 ],
 "metadata": {
  "anaconda-cloud": {},
  "kernelspec": {
   "display_name": "Python 3",
   "language": "python",
   "name": "python3"
  },
  "language_info": {
   "codemirror_mode": {
    "name": "ipython",
    "version": 3
   },
   "file_extension": ".py",
   "mimetype": "text/x-python",
   "name": "python",
   "nbconvert_exporter": "python",
   "pygments_lexer": "ipython3",
   "version": "3.7.7"
  },
  "toc": {
   "base_numbering": 1,
   "nav_menu": {},
   "number_sections": true,
   "sideBar": true,
   "skip_h1_title": true,
   "title_cell": "Table of Contents",
   "title_sidebar": "Contents",
   "toc_cell": true,
   "toc_position": {},
   "toc_section_display": true,
   "toc_window_display": false
  }
 },
 "nbformat": 4,
 "nbformat_minor": 2
}