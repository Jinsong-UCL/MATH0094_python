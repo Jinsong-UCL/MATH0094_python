{
 "cells": [
  {
   "cell_type": "markdown",
   "metadata": {
    "collapsed": false,
    "deletable": false,
    "editable": false,
    "nbgrader": {
     "grade": false,
     "grade_id": "bf73bd",
     "locked": true,
     "schema_version": 3,
     "solution": false,
     "task": false
    }
   },
   "source": [
    "# Assignment 1"
   ]
  },
  {
   "cell_type": "markdown",
   "metadata": {
    "collapsed": false,
    "deletable": false,
    "editable": false,
    "nbgrader": {
     "grade": false,
     "grade_id": "7bf599",
     "locked": true,
     "schema_version": 3,
     "solution": false,
     "task": false
    }
   },
   "source": [
    "\n",
    "**Deadline:** Friday 13th November, 10a.m. London Time\n",
    "\n",
    "Be sure to read and understand the file ['Instructions'](./Instructions.md) for detailed information on this assignment.\n",
    "\n",
    "\n",
    "**IMPORTANT: Please type the following sentence in the next cell: \"I agree to solve this assignment according to the given instructions and UCL's ethics code.\"**\n",
    "\n",
    "\n"
   ]
  },
  {
   "cell_type": "markdown",
   "metadata": {
    "collapsed": false,
    "deletable": false,
    "nbgrader": {
     "cell_type": "markdown",
     "checksum": "a7ced33f1b83d13b6b3d9997559d935e",
     "grade": true,
     "grade_id": "8c8876",
     "locked": false,
     "points": 0,
     "schema_version": 3,
     "solution": true,
     "task": false
    }
   },
   "source": [
    "YOUR ANSWER HERE"
   ]
  },
  {
   "cell_type": "code",
   "execution_count": 0,
   "metadata": {
    "collapsed": false
   },
   "outputs": [
   ],
   "source": [
    "# Some packages you might need in the following\n",
    "\n",
    "from nose.tools import assert_equal, assert_raises  # Some functions to produce some of the checks before\n",
    "\n",
    "import numpy as np\n",
    "import matplotlib.pylab as plt\n",
    "from numpy.random import default_rng\n",
    "from scipy.optimize import minimize\n",
    "\n"
   ]
  },
  {
   "cell_type": "markdown",
   "metadata": {
    "collapsed": false,
    "deletable": false,
    "editable": false,
    "nbgrader": {
     "grade": false,
     "grade_id": "p1",
     "locked": true,
     "schema_version": 3,
     "solution": false,
     "task": false
    }
   },
   "source": [
    "## Question 1. [40 points]\n",
    "\n",
    "An investor has utility function $$u(x) = \\begin{cases} \\frac{|x|^{p}}{x} & \\text{ if } x\\neq 0;\\\\ 0 & \\text{ if } x=0\\end{cases},$$ for $p>1$."
   ]
  },
  {
   "cell_type": "markdown",
   "metadata": {
    "collapsed": false,
    "deletable": false,
    "editable": false,
    "nbgrader": {
     "grade": false,
     "grade_id": "1e3480",
     "locked": true,
     "schema_version": 3,
     "solution": false,
     "task": false
    }
   },
   "source": [
    "- 1.1. Implement this utility function [10 points]"
   ]
  },
  {
   "cell_type": "code",
   "execution_count": 0,
   "metadata": {
    "collapsed": false,
    "deletable": false,
    "nbgrader": {
     "cell_type": "code",
     "checksum": "b9f6be674f540061b23dc6adb880ef97",
     "grade": false,
     "grade_id": "q11",
     "locked": false,
     "schema_version": 3,
     "solution": true,
     "task": false
    }
   },
   "outputs": [
   ],
   "source": [
    "def u(x, p): \n",
    "    \"\"\"\n",
    "    Compute the utility function $u$ defined above on a real 'x' and a given fixed value 'p'>1\n",
    "    \"\"\"\n",
    "    # YOUR CODE HERE\n",
    "    raise NotImplementedError()"
   ]
  },
  {
   "cell_type": "code",
   "execution_count": 0,
   "metadata": {
    "collapsed": false,
    "deletable": false,
    "editable": false,
    "nbgrader": {
     "grade": true,
     "grade_id": "v11values",
     "locked": true,
     "points": 6,
     "schema_version": 3,
     "solution": false,
     "task": false
    }
   },
   "outputs": [
   ],
   "source": [
    "# Check that the definition is correct for some inputs:\n",
    "\n",
    "assert_equal(u(0,2), 0)\n",
    "assert_equal(u(2,2), 2)\n"
   ]
  },
  {
   "cell_type": "code",
   "execution_count": 0,
   "metadata": {
    "collapsed": false,
    "deletable": false,
    "editable": false,
    "nbgrader": {
     "grade": true,
     "grade_id": "v11errors",
     "locked": true,
     "points": 4,
     "schema_version": 3,
     "solution": false,
     "task": false
    }
   },
   "outputs": [
   ],
   "source": [
   ]
  },
  {
   "cell_type": "markdown",
   "metadata": {
    "collapsed": false,
    "deletable": false,
    "editable": false,
    "nbgrader": {
     "grade": false,
     "grade_id": "adfd52",
     "locked": true,
     "schema_version": 3,
     "solution": false,
     "task": false
    }
   },
   "source": [
    "- 1.2. Define now a function 'u_vec' that receives a numpy array or a list and a real p larger than one and returns an array with the utility function above applied entry-wise [10 points]."
   ]
  },
  {
   "cell_type": "code",
   "execution_count": 0,
   "metadata": {
    "collapsed": false,
    "deletable": false,
    "nbgrader": {
     "cell_type": "code",
     "checksum": "c20edee5bad8c17035ec149c24f3962d",
     "grade": false,
     "grade_id": "q12",
     "locked": false,
     "schema_version": 3,
     "solution": true,
     "task": false
    }
   },
   "outputs": [
   ],
   "source": [
    "def u_vec(xvec, p):  \n",
    "    \"\"\"\n",
    "    Receives a numpy array or a list 'xvec' and a real 'p'>1 and returns an array with the utility function above applied entry-wise\n",
    "    \"\"\"\n",
    "    # YOUR CODE HERE\n",
    "    raise NotImplementedError()"
   ]
  },
  {
   "cell_type": "code",
   "execution_count": 0,
   "metadata": {
    "collapsed": false,
    "deletable": false,
    "editable": false,
    "nbgrader": {
     "grade": true,
     "grade_id": "v12",
     "locked": true,
     "points": 10,
     "schema_version": 3,
     "solution": false,
     "task": false
    }
   },
   "outputs": [
   ],
   "source": [
    "\n",
    "np.testing.assert_array_equal(u_vec([-1,0,2],2),np.array([-1,0,2]))\n",
    "assert_raises(TypeError, u_vec, ['a'],2  )\n"
   ]
  },
  {
   "cell_type": "markdown",
   "metadata": {
    "collapsed": false,
    "deletable": false,
    "editable": false,
    "nbgrader": {
     "grade": false,
     "grade_id": "b8ce68",
     "locked": true,
     "schema_version": 3,
     "solution": false,
     "task": false
    }
   },
   "source": [
    "- 1.3 Create a function that calculates the coefficient of absolute risk aversion of this function for a given real 'x' [10 points]\n"
   ]
  },
  {
   "cell_type": "code",
   "execution_count": 0,
   "metadata": {
    "collapsed": false,
    "deletable": false,
    "nbgrader": {
     "cell_type": "code",
     "checksum": "8a6ee665a1fee066677234750539e43f",
     "grade": false,
     "grade_id": "q13",
     "locked": false,
     "schema_version": 3,
     "solution": true,
     "task": false
    }
   },
   "outputs": [
   ],
   "source": [
    "def ara(x,p):\n",
    "    \"\"\"\n",
    "    Compute the coefficient of absolute risk aversion \n",
    "    \"\"\"\n",
    "    # YOUR CODE HERE\n",
    "    raise NotImplementedError()"
   ]
  },
  {
   "cell_type": "code",
   "execution_count": 0,
   "metadata": {
    "collapsed": false,
    "deletable": false,
    "editable": false,
    "nbgrader": {
     "grade": true,
     "grade_id": "v13a",
     "locked": true,
     "points": 7,
     "schema_version": 3,
     "solution": false,
     "task": false
    }
   },
   "outputs": [
   ],
   "source": [
    "# Check that the definition is correct for some inputs:\n",
    "\n",
    "assert_equal(ara(1,2), 0)\n",
    "assert_equal(ara(2,3), -1/2)\n"
   ]
  },
  {
   "cell_type": "code",
   "execution_count": 0,
   "metadata": {
    "collapsed": false,
    "deletable": false,
    "editable": false,
    "nbgrader": {
     "grade": true,
     "grade_id": "v13b",
     "locked": true,
     "points": 3,
     "remove": false,
     "schema_version": 3,
     "solution": false,
     "task": false
    }
   },
   "outputs": [
   ],
   "source": [
    "\n",
    "assert_raises(ValueError,ara, 0,3)\n"
   ]
  },
  {
   "cell_type": "markdown",
   "metadata": {
    "collapsed": false
   },
   "source": [
    "- 1.4. Comment on the risk behaviour of an investor with this function [10 points]\n"
   ]
  },
  {
   "cell_type": "markdown",
   "metadata": {
    "collapsed": false,
    "deletable": false,
    "nbgrader": {
     "cell_type": "markdown",
     "checksum": "5cfa1524eaebb66881ff782b0b9fd21d",
     "grade": true,
     "grade_id": "v14",
     "locked": false,
     "points": 10,
     "schema_version": 3,
     "solution": true,
     "task": false
    }
   },
   "source": [
    "YOUR ANSWER HERE"
   ]
  },
  {
   "cell_type": "markdown",
   "metadata": {
    "collapsed": false,
    "deletable": false,
    "editable": false,
    "nbgrader": {
     "grade": false,
     "grade_id": "e2",
     "locked": true,
     "remove": false,
     "schema_version": 3,
     "solution": false,
     "task": false
    }
   },
   "source": [
    "## Question 2. [20 points]\n",
    "\n",
    "Consider a market model in one-period with three assets: a risk free asset with unit return, and two risky assets with log normal returns\n",
    "\n",
    "$R^1_1\\sim \\exp(N_1), \\qquad R^2_1\\sim \\exp(N_2)$\n",
    "where $N_1\\sim \\mathcal N(m_1,\\sigma_1^2)$, $N_2\\sim \\mathcal N(m_2,\\sigma_2^2) $ and the Gaussian random variables are correlated $$\\mathrm{cor}(N_1,N_2)=\\rho.$$ \n",
    "\n"
   ]
  },
  {
   "cell_type": "markdown",
   "metadata": {
    "collapsed": false,
    "deletable": false,
    "editable": false,
    "nbgrader": {
     "grade": false,
     "grade_id": "e21",
     "locked": true,
     "schema_version": 3,
     "solution": false,
     "task": false
    }
   },
   "source": [
    "- 2.1. Explain if this market is complete [10 points]\n"
   ]
  },
  {
   "cell_type": "markdown",
   "metadata": {
    "collapsed": false,
    "deletable": false,
    "nbgrader": {
     "cell_type": "markdown",
     "checksum": "0225d261eec6d121b939d4a3017d99fa",
     "grade": true,
     "grade_id": "v21",
     "locked": false,
     "points": 10,
     "schema_version": 3,
     "solution": true,
     "task": false
    }
   },
   "source": [
    "YOUR ANSWER HERE"
   ]
  },
  {
   "cell_type": "markdown",
   "metadata": {
    "collapsed": false,
    "deletable": false,
    "editable": false,
    "nbgrader": {
     "grade": false,
     "grade_id": "e22",
     "locked": true,
     "schema_version": 3,
     "solution": false,
     "task": false
    }
   },
   "source": [
    "- 2.2. Create a function that returns a sample of a given size of (${R}^1_1$, ${R}_1^2$). [10 points]\n"
   ]
  },
  {
   "cell_type": "code",
   "execution_count": 0,
   "metadata": {
    "collapsed": false,
    "deletable": false,
    "nbgrader": {
     "cell_type": "code",
     "checksum": "56c942a658017dd732ebab6901e10701",
     "grade": false,
     "grade_id": "q22",
     "locked": false,
     "schema_version": 3,
     "solution": true,
     "task": false
    }
   },
   "outputs": [
   ],
   "source": [
    "def make_sample(n, m1,m2, sigma1,sigma2,rho): \n",
    "    \"\"\"\n",
    "    Create a sample of (${R}^1_1$, ${R}_1^2$) of size 'n', where the other parameters are defined as given. Returns a tuple (R1_sample,R2_sample)\n",
    "    \"\"\"\n",
    "    # YOUR CODE HERE\n",
    "    raise NotImplementedError()\n",
    "    \n",
    "    \n",
    "    "
   ]
  },
  {
   "cell_type": "code",
   "execution_count": 0,
   "metadata": {
    "collapsed": false,
    "deletable": false,
    "editable": false,
    "nbgrader": {
     "grade": true,
     "grade_id": "v22",
     "locked": true,
     "points": 10,
     "schema_version": 3,
     "solution": false,
     "task": false
    }
   },
   "outputs": [
   ],
   "source": [
    "\n",
    "assert_equal(type(make_sample(100,1e-2,1e-2,1e-2,1e-2,0)),tuple)\n",
    "assert_equal(len(make_sample(100,1e-2,1e-2,1e-2,1e-2,0)[0]),len(make_sample(100,1e-2,1e-2,1e-2,1e-2,0)[1]))\n"
   ]
  },
  {
   "cell_type": "markdown",
   "metadata": {
    "collapsed": false
   },
   "source": [
    "## Question 3 [40 points]\n",
    "\n",
    "- 3.1. Let $\\pi$ be a strategy (in terms of percentages) in a market with three assets (one risk-free and two risky as in Question 2). Let $\\hat \\pi$ be the components of the strategy on the risky assets. Define a function that returns the expected utility for an investor with a utility function as in Question 1 and initial wealth $w_0$, after applying the strategy represented by $\\hat \\pi$ (recall that the investment on the risk-less asset can be deduced from the budget constraint). The function should also receive a sample of $\\hat R_1$. [20 points]"
   ]
  },
  {
   "cell_type": "code",
   "execution_count": 0,
   "metadata": {
    "collapsed": false,
    "deletable": false,
    "nbgrader": {
     "cell_type": "code",
     "checksum": "8595c739cedc4351cfbd2f7ace4bc1d0",
     "grade": false,
     "grade_id": "q31",
     "locked": false,
     "schema_version": 3,
     "solution": true,
     "task": false
    }
   },
   "outputs": [
   ],
   "source": [
    "def u_exp(pi_hat, w0,R_hat,p):  \n",
    "    \"\"\"\n",
    "    Returns the expected utility of Q1 (with parameter 'p') of the strategy characterised by 'pi_hat', from a sample 'R_hat'\n",
    "    \"\"\"\n",
    "    # YOUR CODE HERE\n",
    "    raise NotImplementedError()"
   ]
  },
  {
   "cell_type": "code",
   "execution_count": 0,
   "metadata": {
    "collapsed": false,
    "deletable": false,
    "editable": false,
    "nbgrader": {
     "grade": true,
     "grade_id": "v31",
     "locked": true,
     "points": 20,
     "schema_version": 3,
     "solution": false,
     "task": false
    }
   },
   "outputs": [
   ],
   "source": [
    "assert_equal( u_exp(0.5*np.ones(2) ,1,(np.ones(50),np.ones(50)),2),1)\n",
    "assert_equal( u_exp(0.5*np.ones(2) ,1,(2*np.ones(50),2*np.ones(50)),1.5),2**0.5)\n"
   ]
  },
  {
   "cell_type": "markdown",
   "metadata": {
    "collapsed": false
   },
   "source": [
    "- 3.2. Write a function that approximates the solution of the optimal investment problem in the market defined in Question 2, for an investor as described in 3.1..  The function should return a couple, the strategy (as a vector of weights for the two risky assets) and the value of the utility for the optimal portfolio. If no solution is found, 'None' should be returned. [20 points]"
   ]
  },
  {
   "cell_type": "code",
   "execution_count": 0,
   "metadata": {
    "collapsed": false,
    "deletable": false,
    "nbgrader": {
     "cell_type": "code",
     "checksum": "c9ac6673ea456ac5bb5824618694e819",
     "grade": false,
     "grade_id": "q32",
     "locked": false,
     "schema_version": 3,
     "solution": true,
     "task": false
    }
   },
   "outputs": [
   ],
   "source": [
    "def optimal_investment(w0,m1,m2,sigma1,sigma2,rho,p):  # modify function name and parameters\n",
    "    \"\"\"\n",
    "    Return pi_hat and expected utility of optimal strategy for investor with utility function with param 'p', and market with params. 'm1,m2,sigma1,sigma2,rho'\n",
    "    \"\"\"\n",
    "    # YOUR CODE HERE\n",
    "    raise NotImplementedError()"
   ]
  },
  {
   "cell_type": "code",
   "execution_count": 0,
   "metadata": {
    "collapsed": false,
    "deletable": false,
    "editable": false,
    "nbgrader": {
     "grade": true,
     "grade_id": "v32",
     "locked": true,
     "points": 20,
     "schema_version": 3,
     "solution": false,
     "task": false
    }
   },
   "outputs": [
   ],
   "source": [
    "\n",
    "assert_equal(len(optimal_investment(100,0.01,0.01,0.1,0.2,0,1.5)[0]),2)\n",
    "aux_f = lambda x: np.append(x[0],x[1])\n",
    "np.testing.assert_allclose(aux_f(optimal_investment(100,0.01,0.02,0.16,0.16,-0.5,1.5)), np.array([2.75, 3.25,10.5 ]), rtol=5e-1, atol=2e-1)\n",
    "\n",
    "\n",
    "\n"
   ]
  }
 ],
 "metadata": {
  "kernelspec": {
   "display_name": "Python 3 (system-wide)",
   "language": "python",
   "metadata": {
    "cocalc": {
     "description": "Python 3 programming language",
     "priority": 100,
     "url": "https://www.python.org/"
    }
   },
   "name": "python3"
  },
  "language_info": {
   "codemirror_mode": {
    "name": "ipython",
    "version": 3
   },
   "file_extension": ".py",
   "mimetype": "text/x-python",
   "name": "python",
   "nbconvert_exporter": "python",
   "pygments_lexer": "ipython3",
   "version": "3.8.5"
  }
 },
 "nbformat": 4,
 "nbformat_minor": 4
}