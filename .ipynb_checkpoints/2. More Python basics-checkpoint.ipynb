{
 "cells": [
  {
   "cell_type": "markdown",
   "metadata": {
    "toc": true
   },
   "source": [
    "<h1>Table of Contents<span class=\"tocSkip\"></span></h1>\n",
    "<div class=\"toc\"><ul class=\"toc-item\"><li><span><a href=\"#In-this-notebook\" data-toc-modified-id=\"In-this-notebook-1\"><span class=\"toc-item-num\">1&nbsp;&nbsp;</span>In this notebook</a></span></li><li><span><a href=\"#Function-definition\" data-toc-modified-id=\"Function-definition-2\"><span class=\"toc-item-num\">2&nbsp;&nbsp;</span>Function definition</a></span><ul class=\"toc-item\"><li><span><a href=\"#Error-management\" data-toc-modified-id=\"Error-management-2.1\"><span class=\"toc-item-num\">2.1&nbsp;&nbsp;</span>Error management</a></span></li><li><span><a href=\"#Testing-functions\" data-toc-modified-id=\"Testing-functions-2.2\"><span class=\"toc-item-num\">2.2&nbsp;&nbsp;</span>Testing functions</a></span></li><li><span><a href=\"#Lambda-functions\" data-toc-modified-id=\"Lambda-functions-2.3\"><span class=\"toc-item-num\">2.3&nbsp;&nbsp;</span>Lambda functions</a></span></li></ul></li><li><span><a href=\"#Packages\" data-toc-modified-id=\"Packages-3\"><span class=\"toc-item-num\">3&nbsp;&nbsp;</span>Packages</a></span><ul class=\"toc-item\"><li><span><a href=\"#Some-examples-with-numpy\" data-toc-modified-id=\"Some-examples-with-numpy-3.1\"><span class=\"toc-item-num\">3.1&nbsp;&nbsp;</span>Some examples with numpy</a></span></li></ul></li><li><span><a href=\"#Exercises\" data-toc-modified-id=\"Exercises-4\"><span class=\"toc-item-num\">4&nbsp;&nbsp;</span>Exercises</a></span></li></ul></div>"
   ]
  },
  {
   "cell_type": "markdown",
   "metadata": {},
   "source": [
    "# More Python basics\n",
    "**Camilo A. Garcia Trillos - 2020**\n",
    "\n",
    "---"
   ]
  },
  {
   "cell_type": "markdown",
   "metadata": {},
   "source": [
    "## In this notebook\n",
    "\n",
    "- we look at how to define and test *functions*, and how to think in terms of error management.\n",
    "- we discuss Python packages and start looking at some notable Python packages or libraries."
   ]
  },
  {
   "cell_type": "markdown",
   "metadata": {},
   "source": [
    "<a id=\"func_def\"></a>\n",
    "## Function definition\n",
    "\n",
    "Python code is better structured by defining functions.\n",
    "\n",
    "The basic syntaxis is  *def name_function: ---  return(---)*\n",
    "\n",
    "Let us look at a first example: we will create a function that establishes if two integers are relative primes (i.e., that their maximum common divisor is 1). We will create several iterations of the function.\n",
    "\n",
    "Let us start with a first simple implementation:\n",
    "\n"
   ]
  },
  {
   "cell_type": "code",
   "execution_count": 25,
   "metadata": {},
   "outputs": [
    {
     "data": {
      "text/plain": [
       "False"
      ]
     },
     "execution_count": 25,
     "metadata": {},
     "output_type": "execute_result"
    }
   ],
   "source": [
    "def rel_primes(x,y):\n",
    "    # We can include a description of the function using a string immediately below the function\n",
    "    ''' Receives two numbers and returns True if both are relative \n",
    "        primes or False otherwise\n",
    "    \n",
    "    '''\n",
    "    \n",
    "    z = min(x,y)                       # Assign to z the minimum from a and b\n",
    "    for i in range(2,z) :               # run over all numbers between 2 and z (!)\n",
    "        if (x%i)==0 and (y%i==0):      # if a number divides both a, b (i.e. the residual in both cases is zero) \n",
    "                                       # they are not relative primes ...\n",
    "            return False               # ... in this case, return is False. This gets the flow out of the function\n",
    "    return True                        # finally, if the program gets to this point, a,b are relative primes                      \n",
    "\n",
    "# Note that the following line of code is outside the scope of the function\n",
    "rel_primes(18,123) # This should be false, as 3 divides both\n"
   ]
  },
  {
   "cell_type": "markdown",
   "metadata": {},
   "source": [
    "Check with other cases that the function works as it should. \n",
    "\n",
    "In Python, when the code within a function is executed, a new 'environment' is created. Every object/function that is defined within a function only lives within the function. So for example, tha variables x,y,z above are not accessible in the following line"
   ]
  },
  {
   "cell_type": "code",
   "execution_count": 26,
   "metadata": {},
   "outputs": [
    {
     "ename": "NameError",
     "evalue": "name 'x' is not defined",
     "output_type": "error",
     "traceback": [
      "\u001b[0;31m---------------------------------------------------------------------------\u001b[0m",
      "\u001b[0;31mNameError\u001b[0m                                 Traceback (most recent call last)",
      "\u001b[0;32m<ipython-input-26-ccf1539eaf4e>\u001b[0m in \u001b[0;36m<module>\u001b[0;34m\u001b[0m\n\u001b[0;32m----> 1\u001b[0;31m \u001b[0mprint\u001b[0m\u001b[0;34m(\u001b[0m\u001b[0mx\u001b[0m\u001b[0;34m,\u001b[0m\u001b[0my\u001b[0m\u001b[0;34m,\u001b[0m\u001b[0mz\u001b[0m\u001b[0;34m)\u001b[0m \u001b[0;31m# this generates an error\u001b[0m\u001b[0;34m\u001b[0m\u001b[0;34m\u001b[0m\u001b[0m\n\u001b[0m\u001b[1;32m      2\u001b[0m \u001b[0;34m\u001b[0m\u001b[0m\n",
      "\u001b[0;31mNameError\u001b[0m: name 'x' is not defined"
     ]
    }
   ],
   "source": [
    "print(x,y,z) # this generates an error"
   ]
  },
  {
   "cell_type": "markdown",
   "metadata": {},
   "source": [
    "However, functions *can* access variables and functions defined outside themselves. This is useful (as will be seen further below), but is sometimes a source of confusion (particualrly regarding variables). "
   ]
  },
  {
   "cell_type": "markdown",
   "metadata": {},
   "source": [
    "In the above definition of 'rel_prime, apart from the funcional part, we included a help description. At any point this information can be retrieved with *?* after the name of a function."
   ]
  },
  {
   "cell_type": "code",
   "execution_count": null,
   "metadata": {},
   "outputs": [],
   "source": [
    "rel_primes?"
   ]
  },
  {
   "cell_type": "markdown",
   "metadata": {},
   "source": [
    "What happens when we test the function with values that are not integers?"
   ]
  },
  {
   "cell_type": "code",
   "execution_count": null,
   "metadata": {},
   "outputs": [],
   "source": [
    "rel_primes('a',1) # this gives an error"
   ]
  },
  {
   "cell_type": "code",
   "execution_count": null,
   "metadata": {},
   "outputs": [],
   "source": [
    "rel_primes(1.2,1.4)"
   ]
  },
  {
   "cell_type": "code",
   "execution_count": null,
   "metadata": {},
   "outputs": [],
   "source": [
    "rel_primes(3,4.2)"
   ]
  },
  {
   "cell_type": "markdown",
   "metadata": {},
   "source": [
    "<a id=\"error_man\"></a>\n",
    "### Error management"
   ]
  },
  {
   "cell_type": "markdown",
   "metadata": {},
   "source": [
    "Note that sometimes we get an error and sometimes we do not. Moreover, the error is not very informative of what happened. We can create our own error messages. In what follows we create a function that 'wraps' the previous one, while providing some error management."
   ]
  },
  {
   "cell_type": "code",
   "execution_count": null,
   "metadata": {},
   "outputs": [],
   "source": [
    "def rel_primes2(a,b):\n",
    "    \n",
    "    # First we check if the inputs have the right type. Recall the type function we look at on the first notebook.\n",
    "    \n",
    "    if type(a)!=int:\n",
    "        raise TypeError(\"Both numbers must be integers\")\n",
    "\n",
    "    if type(b)!=int:\n",
    "        raise TypeError(\"Both numbers must be integers\")\n",
    "    \n",
    "    # If no error is raised up to here, we call the original function.\n",
    "        \n",
    "    return rel_primes(a,b)  #Note that we can call functions we have defined before\n",
    "\n",
    "print('This one works: 18 and 123 are both integers (and not relative primes)')\n",
    "rel_primes2(18,123)\n"
   ]
  },
  {
   "cell_type": "code",
   "execution_count": null,
   "metadata": {},
   "outputs": [],
   "source": [
    "rel_primes2('a',123) # Here we raise an error as we defined it"
   ]
  },
  {
   "cell_type": "markdown",
   "metadata": {},
   "source": [
    "You can check that errors are raised in other cases (for example if you provide complex numbers or floats).\n",
    "\n",
    "The other very common type of error to be raised is ValueError (i.e. raise ValueError(...)). This means that a given input has a value outside the accepted domain.\n",
    "\n",
    "It is possible also to check if a call to a function produces an error using the keword 'try', so taht any error can be managed by the programmer. This can be useful when one wants to allow "
   ]
  },
  {
   "cell_type": "code",
   "execution_count": null,
   "metadata": {},
   "outputs": [],
   "source": [
    "a=1.2\n",
    "try:\n",
    "    p=rel_primes2(a,1)\n",
    "except:\n",
    "    print('There would be an error because ',a,' is not integer.')\n",
    "    print('But with try the error is caught here. We can then assign the value we want to p, for example -1')\n",
    "    p=-1\n",
    "    \n",
    "p"
   ]
  },
  {
   "cell_type": "markdown",
   "metadata": {},
   "source": [
    "<a id=\"test_fun\"></a>\n",
    "### Testing functions\n",
    "\n",
    "An important part of coding is testing. It entails designing a sequence of checks to evaluate the behaviour of a function.\n",
    "\n",
    "The statement *assert* might be very useful for this purpose. It raises an error if a result is False.\n"
   ]
  },
  {
   "cell_type": "code",
   "execution_count": null,
   "metadata": {},
   "outputs": [],
   "source": [
    "#Some basic testing\n",
    "\n",
    "assert rel_primes2(15,28),  'Failed with two large relative primes'\n",
    "assert rel_primes2(2,3),  'Failed with two small relative primes'\n",
    "assert not rel_primes2(15,25),  'Failed with two small numbers that are not relative primes'\n",
    "assert not rel_primes2(2,4),  'Failed with two small numbers that are not relative primes'"
   ]
  },
  {
   "cell_type": "markdown",
   "metadata": {},
   "source": [
    "Note that we performed 4 tests. The last one fails and illustrates that the function defined above is not working properly. When the test fails, the associated fail message is displayed.\n",
    "\n",
    "We proceed to fix the error (which is located on the rel_prime function). Run the code below and then run the tests again."
   ]
  },
  {
   "cell_type": "code",
   "execution_count": null,
   "metadata": {},
   "outputs": [],
   "source": [
    "def rel_primes(a,b):\n",
    "    # This is a corrected version\n",
    "    ''' Receives two numbers and returns True if both are relative \n",
    "        primes or False otherwise\n",
    "    \n",
    "    '''\n",
    "    \n",
    "    for i in range(2,min(a,b)+1) :       # The error was here\n",
    "        if (a%i)==0 and (b%i==0):                                             \n",
    "            return False               \n",
    "    return True                        "
   ]
  },
  {
   "cell_type": "markdown",
   "metadata": {},
   "source": [
    "What happened? We have fixed the error on the rel_primes function (we were not including the las element in the cycle). Since the function rel_primes2 calls rel_prime, this one gets fixed as well. This helps it pass all the tests.\n",
    "\n",
    "Note we have learnt something very important in addition: in jupyter, code depends on the order of *execution*, not the order in which the code is written.\n",
    "\n",
    "\n",
    "**Remark:** In more professional settings, the preferred form of testing is via unittesting. If you want to learn more about it, read the [Python documentation on unittest](https://docs.python.org/3/library/unittest.html)\n"
   ]
  },
  {
   "cell_type": "markdown",
   "metadata": {},
   "source": [
    "<a id=\"lambda_fun\"></a>\n",
    "### Lambda functions\n",
    "\n",
    "We had seen that to define a function in Python, we use the command def followed by the name of the function, arguments and colon. There is an alternative in the form of lambda functions, that is useful to define inline functions.\n",
    "\n",
    "The syntax is *name_function = lambda (vars): operations *\n",
    "\n",
    "\n",
    "Here is an example where we implement the same function twice.\n"
   ]
  },
  {
   "cell_type": "code",
   "execution_count": null,
   "metadata": {},
   "outputs": [],
   "source": [
    "def square(x):\n",
    "    return x*x\n",
    "\n",
    "square2 = lambda y: y*y"
   ]
  },
  {
   "cell_type": "code",
   "execution_count": null,
   "metadata": {},
   "outputs": [],
   "source": [
    "assert square(100)==square2(100)"
   ]
  },
  {
   "cell_type": "markdown",
   "metadata": {},
   "source": [
    "Lambda functions are very convenient for short tasks. In particular it is an easy way to encapsulate one line instructions in a function. Note, though that it is very hard "
   ]
  },
  {
   "cell_type": "markdown",
   "metadata": {},
   "source": [
    "Some final observations: \n",
    "\n",
    "- Functions are not forced to return a value (sometimes these are called *procedures*)\n",
    "- More testing tools are provided on the [package](## 2. Packages) *unitest* \n"
   ]
  },
  {
   "cell_type": "markdown",
   "metadata": {},
   "source": [
    "<a id=\"packages\"></a>\n",
    "## Packages"
   ]
  },
  {
   "cell_type": "markdown",
   "metadata": {},
   "source": [
    "Python comes with many functions already defined. Some of them come as part of the standard language (we have encountered some of them). However, the real power of Python comes from sets of functions put together in *packages*. \n",
    "\n",
    "Here are some of the ones we will use in this course (and are very useful in finance):\n",
    "\n",
    "- **math** : some mathematical functions \n",
    "- **numpy** : vector and matrix capabilities and operations\n",
    "- **scipy** : numerical scientific computing including integration, fixed points, solving ODEs, optimisation, …)\n",
    "- **matplotlib** : plots\n",
    "- **pandas** : database access and manipulation, and more plots routines\n",
    "- **statutils**: Some statistical tools including test of hypothesis\n",
    "\n",
    "Some packages we will not use but sare very useful in finance include:\n",
    "- **keras**: Keras is a high-level neural networks library\n",
    "- **sklearn**: A library with tools for data mining and data analysis\n",
    "\n",
    "\n",
    "Here and in the nest notebook, we look at *numpy* and *math*. We will learn about the following packages while making applications ion finance.\n",
    "\n",
    "Packages must be imported into the kernel we are excuting. By convention all imports should be done at the start of the program, and in the Jupyter case at the start of the notebook."
   ]
  },
  {
   "cell_type": "code",
   "execution_count": 1,
   "metadata": {},
   "outputs": [],
   "source": [
    "# By convention this should be placed at the top of the file. But it can be used anywhere \n",
    "import math           # import the math package\n",
    "import numpy as np    # import the numpy package and create an alias for it 'np'\n",
    "from math import sin, exp  # import only the functions sin and exp that are located on the math package"
   ]
  },
  {
   "cell_type": "markdown",
   "metadata": {},
   "source": [
    "After running the above code, we can use **all** functions on the math package. Here are some examples:"
   ]
  },
  {
   "cell_type": "code",
   "execution_count": 2,
   "metadata": {},
   "outputs": [
    {
     "name": "stdout",
     "output_type": "stream",
     "text": [
      "-2.4492935982947064e-16 \n",
      " -5.0\n"
     ]
    }
   ],
   "source": [
    "x = sin(2*math.pi) # Note we can use the function sin, but the constant pi has to be called from the math package  as was not explicitly imported\n",
    "y = math.log(exp(-5))\n",
    "print(x,'\\n',y)"
   ]
  },
  {
   "cell_type": "markdown",
   "metadata": {
    "slideshow": {
     "slide_type": "slide"
    }
   },
   "source": [
    "### Some examples with numpy\n",
    "\n",
    "Let us now look at numpy. Numpy is a scientific library taht has been optimised to perform vector and matrix operations.\n",
    "\n",
    "We start by looking at how to create numpy objects. We can either transform another structure (for example a list) using the function *array*, or wwe can use one of the functions producing directly an array. Here are some examples:"
   ]
  },
  {
   "cell_type": "code",
   "execution_count": 3,
   "metadata": {},
   "outputs": [
    {
     "name": "stdout",
     "output_type": "stream",
     "text": [
      "a: [3 4 5]  b: [3 4 5] c: [3. 4. 5.]\n",
      "<class 'numpy.ndarray'>\n"
     ]
    },
    {
     "data": {
      "text/plain": [
       "array([3, 4, 5])"
      ]
     },
     "execution_count": 3,
     "metadata": {},
     "output_type": "execute_result"
    }
   ],
   "source": [
    "a = np.array([3,4,5])  # an array with the numbers 3,4,5  \n",
    "b = np.arange(3,6)     # an arary with the numbers 3,4,5\n",
    "c = np.linspace(3,5,3) # an array with the numbers 3.,4.,5.\n",
    "\n",
    "print('a:',a,' b:',b, 'c:',c)\n",
    "print(type(a))\n",
    "a"
   ]
  },
  {
   "cell_type": "markdown",
   "metadata": {},
   "source": [
    "Note that the above objects are of class *array*, which was defined in the package numpy. Observe also how the result is printed if no print function is invoked. \n",
    "\n",
    "Let us look at some simple operations before arrays:"
   ]
  },
  {
   "cell_type": "code",
   "execution_count": 4,
   "metadata": {},
   "outputs": [
    {
     "name": "stdout",
     "output_type": "stream",
     "text": [
      "1. a==b: [ True  True  True]\n",
      "2. a+b: [ 6  8 10]\n",
      "3. a*b: [ 9 16 25]\n",
      "4. a/b: [1. 1. 1.]\n",
      "5. a^b: [  27  256 3125]\n",
      "6. a==c: [ True  True  True]\n"
     ]
    }
   ],
   "source": [
    "#Most operations are done piecewisely:\n",
    "print('1. a==b:', a==b)\n",
    "print('2. a+b:', a+b)\n",
    "print('3. a*b:', a*b)\n",
    "print('4. a/b:', a/b)\n",
    "print('5. a^b:', a**b)\n",
    "print('6. a==c:', a==c)"
   ]
  },
  {
   "cell_type": "markdown",
   "metadata": {},
   "source": [
    "Note the difference with respect to lists: the operator *+* means vector addition. Note also that most operations like '*' and '/' are defined pointwise.\n",
    "\n",
    "Since operations are mostly pointwise, the sizes of vectors need to coincide or an error will be raised."
   ]
  },
  {
   "cell_type": "code",
   "execution_count": 5,
   "metadata": {},
   "outputs": [
    {
     "name": "stdout",
     "output_type": "stream",
     "text": [
      "[0 1 2 3 4 5 6 7 8 9] [3 4 5]\n"
     ]
    },
    {
     "ename": "ValueError",
     "evalue": "operands could not be broadcast together with shapes (10,) (3,) ",
     "output_type": "error",
     "traceback": [
      "\u001b[0;31m---------------------------------------------------------------------------\u001b[0m",
      "\u001b[0;31mValueError\u001b[0m                                Traceback (most recent call last)",
      "\u001b[0;32m<ipython-input-5-107d8756de19>\u001b[0m in \u001b[0;36m<module>\u001b[0;34m\u001b[0m\n\u001b[1;32m      1\u001b[0m \u001b[0ma2\u001b[0m \u001b[0;34m=\u001b[0m \u001b[0mnp\u001b[0m\u001b[0;34m.\u001b[0m\u001b[0marange\u001b[0m\u001b[0;34m(\u001b[0m\u001b[0;36m10\u001b[0m\u001b[0;34m)\u001b[0m\u001b[0;34m\u001b[0m\u001b[0;34m\u001b[0m\u001b[0m\n\u001b[1;32m      2\u001b[0m \u001b[0mprint\u001b[0m\u001b[0;34m(\u001b[0m\u001b[0ma2\u001b[0m\u001b[0;34m,\u001b[0m\u001b[0mb\u001b[0m\u001b[0;34m)\u001b[0m\u001b[0;34m\u001b[0m\u001b[0;34m\u001b[0m\u001b[0m\n\u001b[0;32m----> 3\u001b[0;31m \u001b[0ma2\u001b[0m\u001b[0;34m*\u001b[0m\u001b[0mb\u001b[0m \u001b[0;31m# This raises an error\u001b[0m\u001b[0;34m\u001b[0m\u001b[0;34m\u001b[0m\u001b[0m\n\u001b[0m\u001b[1;32m      4\u001b[0m \u001b[0;34m\u001b[0m\u001b[0m\n",
      "\u001b[0;31mValueError\u001b[0m: operands could not be broadcast together with shapes (10,) (3,) "
     ]
    }
   ],
   "source": [
    "a2 = np.arange(10)\n",
    "print(a2,b)\n",
    "a2*b # This raises an error"
   ]
  },
  {
   "cell_type": "markdown",
   "metadata": {},
   "source": [
    "\n",
    "We also have some vector and matrix operations. We can, for example, find the dot product of two vectors of the same size with the operator *@*"
   ]
  },
  {
   "cell_type": "code",
   "execution_count": 6,
   "metadata": {},
   "outputs": [
    {
     "name": "stdout",
     "output_type": "stream",
     "text": [
      "50 50\n"
     ]
    }
   ],
   "source": [
    "# Dot product of a and b\n",
    "a_dot_b = a@b\n",
    "# An alternative way of calculating it\n",
    "a_dot_b2 = (a*b).sum()     # Sum is a method available for arrays\n",
    "print(a_dot_b, a_dot_b2)\n"
   ]
  },
  {
   "cell_type": "markdown",
   "metadata": {},
   "source": [
    "We will frequently make use of the possibility to generate (pseudo) random numbers following some given distributions. Numpy allows for this through its sub-module *random*. We can generate (pseudo-)random arrays and matrices of a given size. Here are some examples using the current prefered way of calling the generator function."
   ]
  },
  {
   "cell_type": "code",
   "execution_count": 7,
   "metadata": {
    "slideshow": {
     "slide_type": "slide"
    }
   },
   "outputs": [
    {
     "name": "stdout",
     "output_type": "stream",
     "text": [
      "Uniform  2x2\n",
      "[[0.38413807 0.64674961]\n",
      " [0.41950206 0.83199279]]\n",
      "(2, 2)\n",
      "4\n",
      "====\n",
      "Gaussian 5x3\n",
      "[[ 0.68876918  0.3062188   0.00140815]\n",
      " [ 0.84759065  0.61574714 -0.75982766]\n",
      " [ 0.14129741  0.47213727  1.0314703 ]\n",
      " [ 0.33233245  1.29890285 -0.04449101]\n",
      " [ 1.22477055  0.12483862 -0.60219068]]\n",
      "(5, 3)\n",
      "15\n"
     ]
    }
   ],
   "source": [
    "#Random numbers\n",
    "\n",
    "#Initialise generator\n",
    "rng = np.random.default_rng()\n",
    "\n",
    "#Uniform random numbers\n",
    "print('Uniform  2x2')\n",
    "c = rng.random((2,2)) # This creates a matrix of 2 x 2 of independent U[0,1] random numbers\n",
    "print(c)\n",
    "print (c.shape)\n",
    "print(c.size)\n",
    "\n",
    "print(\"====\")\n",
    "\n",
    "print('Gaussian 5x3')\n",
    "c = rng.standard_normal((5,3)) # This creates a matrix of 5 x 3 of independent standard Gaussian random numbers\n",
    "print(c)\n",
    "print (c.shape)\n",
    "print(c.size)"
   ]
  },
  {
   "cell_type": "markdown",
   "metadata": {},
   "source": [
    "This produces arrays in dimension 2 or matrices. We can also see the second use of operator '@': matrix (and matrix-vector) multiplication:"
   ]
  },
  {
   "cell_type": "code",
   "execution_count": 8,
   "metadata": {},
   "outputs": [
    {
     "data": {
      "text/plain": [
       "array([3.29822348, 1.20662223, 7.46979281, 5.97015366, 1.16271269])"
      ]
     },
     "execution_count": 8,
     "metadata": {},
     "output_type": "execute_result"
    }
   ],
   "source": [
    "c@a # This is the result of multiplying the matrix c (Gaussian matrix) and the vector a"
   ]
  },
  {
   "cell_type": "markdown",
   "metadata": {},
   "source": [
    "The random generator can produce samples from different distributions: look at the help for rng.normal, rng.lognormal, rng.exponential...."
   ]
  },
  {
   "cell_type": "code",
   "execution_count": 9,
   "metadata": {},
   "outputs": [
    {
     "data": {
      "text/plain": [
       "array([ -1.12901509, -28.58888215,  87.2097414 ,  -5.45247456,\n",
       "       -10.33419308,  35.44802802, -19.86747287, -17.88502358,\n",
       "       -14.04125337,  17.20140886,  18.27941194,  -9.80742037,\n",
       "       -20.86326736,  24.19327942,   8.71305418, -12.82691747,\n",
       "       -28.76544412,  29.54227953,  43.63491674,   7.5441788 ,\n",
       "         9.89232221,   2.66748924,  21.47352234,  23.34445165,\n",
       "         3.00709548, -10.71779366, -42.18642515,  -5.98138755,\n",
       "        -3.73673907,  -5.60566201])"
      ]
     },
     "execution_count": 9,
     "metadata": {},
     "output_type": "execute_result"
    }
   ],
   "source": [
    "rng.normal(5,25,30)"
   ]
  },
  {
   "cell_type": "markdown",
   "metadata": {},
   "source": [
    "**Remark:** Once imported, we can make use of numpy functions within our function definitions. We can also import a module *within* a function definition, however in that case, the imported modules are available only within that function."
   ]
  },
  {
   "cell_type": "markdown",
   "metadata": {
    "slideshow": {
     "slide_type": "slide"
    }
   },
   "source": [
    "<a id=\"exercises\"></a>\n",
    "## Exercises\n",
    "\n",
    "1. Create a function that receives a positive integer $n$ and a probability $p \\in (0,1)$, and returns the mean and standard deviation of a binomial distribution with these parameters.\n",
    "Your function must raise errors whenever the probability is outside the given range and if that the number n is not and integer greater than 0.\n",
    "Use the statement *assign* to test your function on some known cases.\n"
   ]
  },
  {
   "cell_type": "code",
   "execution_count": null,
   "metadata": {},
   "outputs": [],
   "source": []
  },
  {
   "cell_type": "markdown",
   "metadata": {},
   "source": [
    "2. Using np.rand, create a function that receives a positive integer $n$ and a probability $p \\in (0,1)$, and returns an array with $n$ bernoulli trials with parameter $p$. \n",
    "Your function must raise errors whenever the probability is outside the given range and if that the number n is not and integer greater than 0.\n",
    "\n",
    "\n"
   ]
  },
  {
   "cell_type": "code",
   "execution_count": null,
   "metadata": {},
   "outputs": [],
   "source": []
  },
  {
   "cell_type": "markdown",
   "metadata": {},
   "source": [
    "3. Using the previous function, estimate the empirical mean and variance for n=[10,100,1000,10000]. Comment."
   ]
  },
  {
   "cell_type": "code",
   "execution_count": null,
   "metadata": {},
   "outputs": [],
   "source": []
  }
 ],
 "metadata": {
  "kernelspec": {
   "display_name": "Python 3",
   "language": "python",
   "name": "python3"
  },
  "language_info": {
   "codemirror_mode": {
    "name": "ipython",
    "version": 3
   },
   "file_extension": ".py",
   "mimetype": "text/x-python",
   "name": "python",
   "nbconvert_exporter": "python",
   "pygments_lexer": "ipython3",
   "version": "3.8.3"
  },
  "toc": {
   "base_numbering": 1,
   "nav_menu": {},
   "number_sections": true,
   "sideBar": true,
   "skip_h1_title": true,
   "title_cell": "Table of Contents",
   "title_sidebar": "Contents",
   "toc_cell": true,
   "toc_position": {},
   "toc_section_display": true,
   "toc_window_display": false
  }
 },
 "nbformat": 4,
 "nbformat_minor": 1
}
