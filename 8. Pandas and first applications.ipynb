{
 "cells": [
  {
   "cell_type": "markdown",
   "metadata": {
    "collapsed": false,
    "slideshow": {
     "slide_type": "skip"
    },
    "toc": true
   },
   "source": [
    "<h1>Table of Contents<span class=\"tocSkip\"></span></h1>\n",
    "<div class=\"toc\"><ul class=\"toc-item\"><li><span><a href=\"#Objective\" data-toc-modified-id=\"Objective-1\"><span class=\"toc-item-num\">1&nbsp;&nbsp;</span>Objective</a></span></li><li><span><a href=\"#Goal,-Method,-Model-and-Data\" data-toc-modified-id=\"Goal,-Method,-Model-and-Data-2\"><span class=\"toc-item-num\">2&nbsp;&nbsp;</span>Goal, Method, Model and Data</a></span></li><li><span><a href=\"#Dataframes\" data-toc-modified-id=\"Dataframes-3\"><span class=\"toc-item-num\">3&nbsp;&nbsp;</span>Dataframes</a></span><ul class=\"toc-item\"><li><span><a href=\"#Importing-a-database\" data-toc-modified-id=\"Importing-a-database-3.1\"><span class=\"toc-item-num\">3.1&nbsp;&nbsp;</span>Importing a database</a></span></li><li><span><a href=\"#Series\" data-toc-modified-id=\"Series-3.2\"><span class=\"toc-item-num\">3.2&nbsp;&nbsp;</span>Series</a></span></li><li><span><a href=\"#Checking-for-data-integrity-and-fixing-Indices\" data-toc-modified-id=\"Checking-for-data-integrity-and-fixing-Indices-3.3\"><span class=\"toc-item-num\">3.3&nbsp;&nbsp;</span>Checking for data integrity and fixing Indices</a></span></li><li><span><a href=\"#Sampling-a-dataframe\" data-toc-modified-id=\"Sampling-a-dataframe-3.4\"><span class=\"toc-item-num\">3.4&nbsp;&nbsp;</span>Sampling a dataframe</a></span></li></ul></li><li><span><a href=\"#Visualising-data\" data-toc-modified-id=\"Visualising-data-4\"><span class=\"toc-item-num\">4&nbsp;&nbsp;</span>Visualising data</a></span><ul class=\"toc-item\"><li><span><a href=\"#Plotting-a-price-series\" data-toc-modified-id=\"Plotting-a-price-series-4.1\"><span class=\"toc-item-num\">4.1&nbsp;&nbsp;</span>Plotting a price series</a></span></li><li><span><a href=\"#A-histogram-of-log-returns\" data-toc-modified-id=\"A-histogram-of-log-returns-4.2\"><span class=\"toc-item-num\">4.2&nbsp;&nbsp;</span>A histogram of log-returns</a></span></li></ul></li><li><span><a href=\"#Exercises\" data-toc-modified-id=\"Exercises-5\"><span class=\"toc-item-num\">5&nbsp;&nbsp;</span>Exercises</a></span></li></ul></div>"
   ]
  },
  {
   "cell_type": "markdown",
   "metadata": {
    "collapsed": false,
    "nbpresent": {
     "id": "52d255a2-a6bb-4f70-8d88-9bed725e12c3"
    },
    "slideshow": {
     "slide_type": "slide"
    }
   },
   "source": [
    "# Pandas and first applications\n",
    "**Camilo A. Garcia Trillos - 2020**"
   ]
  },
  {
   "cell_type": "markdown",
   "metadata": {
    "collapsed": false,
    "nbpresent": {
     "id": "78cb6670-018b-4830-bdc5-654d5b59291f"
    },
    "slideshow": {
     "slide_type": "slide"
    }
   },
   "source": [
    "## Objective\n",
    "\n",
    "Our objective in this part of the course is to develop a general framework to apply the theory we have studied in practice.\n",
    "\n",
    "We discuss several important elements to take into account in most applications. \n",
    "\n",
    "This discussion is then illustrated by means of some simple applciations using actual market data and Python routines\n"
   ]
  },
  {
   "cell_type": "markdown",
   "metadata": {
    "collapsed": false,
    "nbpresent": {
     "id": "0404c270-e9e8-43d3-bf8f-e8f85125f7db"
    },
    "slideshow": {
     "slide_type": "slide"
    }
   },
   "source": [
    "## Goal, Method, Model and Data\n",
    "\n",
    "- The first question is always **what do we want to study/understand?** i.e. we start by fixing our *goal*.\n",
    "- To answer this question, we choose a *methodology* (that is, a theoretical framework like the ones we presented in class).\n",
    "- The methodology is usually accompany by a *model*, a representation of the system we want to study\n",
    "- This *model* is fitted using relevant data\n",
    "\n",
    "Our discussion today will be focused on the data\n"
   ]
  },
  {
   "cell_type": "markdown",
   "metadata": {
    "collapsed": false,
    "nbpresent": {
     "id": "2389dee0-7020-4298-9e1f-61693cc91cf6"
    },
    "slideshow": {
     "slide_type": "slide"
    }
   },
   "source": [
    "## Data\n",
    "\n",
    "- Getting data \n",
    "  - Which data? Relation between data, goal and model\n",
    "  - How? Build, buy and/or gather\n",
    "    - Public: https://data.gov.uk/\n",
    "    - Payed, Research oriented: CRSP, Compustat , Wharton Research\n",
    "    - Financial data provider: Bloomberg, Reuters (refinitiv), Quandl, Ravenspack\n",
    "    - Free (limited): yahoo.finance\n",
    "  - Know your data: tickers, meaning of different variables\n",
    "\n",
    "\n"
   ]
  },
  {
   "cell_type": "markdown",
   "metadata": {
    "collapsed": false,
    "slideshow": {
     "slide_type": "slide"
    }
   },
   "source": [
    "## What to do with data?\n",
    "\n",
    "- Understand data: Explore and visualise the data.\n",
    "- Clean data \n",
    "  - Changes in time\n",
    "  - Gaps\n",
    "  - Frequencies\n",
    "  - Outliers\n",
    "  - Correct merging or manipulation errors\n",
    "- Make calculations\n",
    "- Understand and test results.\n"
   ]
  },
  {
   "cell_type": "markdown",
   "metadata": {
    "collapsed": false,
    "nbpresent": {
     "id": "3168c49b-5abc-4e00-bb08-3fa09b282616"
    },
    "slideshow": {
     "slide_type": "slide"
    }
   },
   "source": [
    "## Using Data\n",
    "\n",
    "Here, we are going to learn how to deal with some simple routines to work with data within Python, using the **pandas** package.\n",
    "\n",
    "\n",
    "Students should have a look at things like **SQL**.\n"
   ]
  },
  {
   "cell_type": "code",
   "execution_count": 1,
   "metadata": {
    "collapsed": false,
    "nbpresent": {
     "id": "f081ccb9-7804-4702-bc59-253c313f246a"
    },
    "slideshow": {
     "slide_type": "subslide"
    }
   },
   "outputs": [
   ],
   "source": [
    "import numpy as np\n",
    "import matplotlib.pylab as plt\n",
    "import pandas as pd\n",
    "%matplotlib inline"
   ]
  },
  {
   "cell_type": "markdown",
   "metadata": {
    "collapsed": false,
    "slideshow": {
     "slide_type": "skip"
    }
   },
   "source": [
    "## Dataframes"
   ]
  },
  {
   "cell_type": "markdown",
   "metadata": {
    "collapsed": false,
    "nbpresent": {
     "id": "223baab8-14ca-4321-9f1a-874dfc411110"
    },
    "slideshow": {
     "slide_type": "slide"
    }
   },
   "source": [
    "\n",
    "### Importing a database \n",
    "\n",
    "I downloaded some data from Quandl (www.quandl.com) some time ago<sup>1</sup>. \n",
    "\n",
    "\n",
    "\n",
    "\n",
    "The data is stored in a CSV (comma separated values) file. This is a popular way of saving in plain text column structured data. We will look at 5 years of stock prices for the Apple share from 2012 to 2017.\n",
    "\n",
    "The following command reads a CSV file and creates a dataframe in pandas.\n",
    "\n",
    "\n",
    "---\n",
    "\n",
    "<sup>1</sup> <small>Before, it was possible to use a Google finance API to download financial information. It seems it is temporarily closed.</small>"
   ]
  },
  {
   "cell_type": "code",
   "execution_count": 2,
   "metadata": {
    "collapsed": false,
    "nbpresent": {
     "id": "48959e51-a8a5-4dea-89ad-2e088a6eced4"
    }
   },
   "outputs": [
   ],
   "source": [
    "AAPL = pd.read_csv('~/Data/AAPL_20171201_5y.csv') # read the csv and create a dataframe called AAPL which is in the folder DATA"
   ]
  },
  {
   "cell_type": "code",
   "execution_count": 3,
   "metadata": {
    "collapsed": false,
    "nbpresent": {
     "id": "ca653d1c-be2c-4d53-aa23-d99f708115f3"
    }
   },
   "outputs": [
    {
     "data": {
      "text/plain": [
       "pandas.core.frame.DataFrame"
      ]
     },
     "execution_count": 3,
     "metadata": {
     },
     "output_type": "execute_result"
    }
   ],
   "source": [
    "type(AAPL)"
   ]
  },
  {
   "cell_type": "markdown",
   "metadata": {
    "collapsed": false
   },
   "source": [
    "\n",
    "\n",
    "A dataframe is the main type of structure provided by Pandas: it implements the notion of database."
   ]
  },
  {
   "cell_type": "markdown",
   "metadata": {
    "collapsed": false,
    "slideshow": {
     "slide_type": "slide"
    }
   },
   "source": [
    "Let us look at some of the methods associated with a database"
   ]
  },
  {
   "cell_type": "markdown",
   "metadata": {
    "collapsed": false,
    "slideshow": {
     "slide_type": "slide"
    }
   },
   "source": [
    "Describe: presents some general statistics on numerical data in the database."
   ]
  },
  {
   "cell_type": "code",
   "execution_count": 4,
   "metadata": {
    "collapsed": false
   },
   "outputs": [
    {
     "data": {
      "text/html": [
       "<div>\n",
       "<style scoped>\n",
       "    .dataframe tbody tr th:only-of-type {\n",
       "        vertical-align: middle;\n",
       "    }\n",
       "\n",
       "    .dataframe tbody tr th {\n",
       "        vertical-align: top;\n",
       "    }\n",
       "\n",
       "    .dataframe thead th {\n",
       "        text-align: right;\n",
       "    }\n",
       "</style>\n",
       "<table border=\"1\" class=\"dataframe\">\n",
       "  <thead>\n",
       "    <tr style=\"text-align: right;\">\n",
       "      <th></th>\n",
       "      <th>open</th>\n",
       "      <th>high</th>\n",
       "      <th>low</th>\n",
       "      <th>close</th>\n",
       "      <th>volume</th>\n",
       "      <th>ex-dividend</th>\n",
       "      <th>split_ratio</th>\n",
       "      <th>adj_open</th>\n",
       "      <th>adj_high</th>\n",
       "      <th>adj_low</th>\n",
       "      <th>adj_close</th>\n",
       "      <th>adj_volume</th>\n",
       "    </tr>\n",
       "  </thead>\n",
       "  <tbody>\n",
       "    <tr>\n",
       "      <th>count</th>\n",
       "      <td>1488.000000</td>\n",
       "      <td>1488.000000</td>\n",
       "      <td>1488.000000</td>\n",
       "      <td>1488.000000</td>\n",
       "      <td>1.488000e+03</td>\n",
       "      <td>1488.000000</td>\n",
       "      <td>1488.000000</td>\n",
       "      <td>1488.000000</td>\n",
       "      <td>1488.000000</td>\n",
       "      <td>1488.000000</td>\n",
       "      <td>1488.000000</td>\n",
       "      <td>1.488000e+03</td>\n",
       "    </tr>\n",
       "    <tr>\n",
       "      <th>mean</th>\n",
       "      <td>288.005379</td>\n",
       "      <td>290.530153</td>\n",
       "      <td>285.168916</td>\n",
       "      <td>287.872263</td>\n",
       "      <td>3.092533e+07</td>\n",
       "      <td>0.020477</td>\n",
       "      <td>1.004032</td>\n",
       "      <td>97.402067</td>\n",
       "      <td>98.211294</td>\n",
       "      <td>96.532124</td>\n",
       "      <td>97.393277</td>\n",
       "      <td>6.949904e+07</td>\n",
       "    </tr>\n",
       "    <tr>\n",
       "      <th>std</th>\n",
       "      <td>207.318538</td>\n",
       "      <td>209.159269</td>\n",
       "      <td>205.074483</td>\n",
       "      <td>207.124387</td>\n",
       "      <td>2.093367e+07</td>\n",
       "      <td>0.220526</td>\n",
       "      <td>0.155543</td>\n",
       "      <td>29.493234</td>\n",
       "      <td>29.622418</td>\n",
       "      <td>29.342321</td>\n",
       "      <td>29.511001</td>\n",
       "      <td>5.020481e+07</td>\n",
       "    </tr>\n",
       "    <tr>\n",
       "      <th>min</th>\n",
       "      <td>90.000000</td>\n",
       "      <td>90.700000</td>\n",
       "      <td>89.470000</td>\n",
       "      <td>90.280000</td>\n",
       "      <td>5.704900e+06</td>\n",
       "      <td>0.000000</td>\n",
       "      <td>1.000000</td>\n",
       "      <td>50.594952</td>\n",
       "      <td>52.111614</td>\n",
       "      <td>50.220677</td>\n",
       "      <td>50.928800</td>\n",
       "      <td>1.147592e+07</td>\n",
       "    </tr>\n",
       "    <tr>\n",
       "      <th>25%</th>\n",
       "      <td>112.125000</td>\n",
       "      <td>113.167500</td>\n",
       "      <td>110.815000</td>\n",
       "      <td>112.120000</td>\n",
       "      <td>1.524790e+07</td>\n",
       "      <td>0.000000</td>\n",
       "      <td>1.000000</td>\n",
       "      <td>72.301941</td>\n",
       "      <td>72.932623</td>\n",
       "      <td>71.550792</td>\n",
       "      <td>72.256092</td>\n",
       "      <td>3.362573e+07</td>\n",
       "    </tr>\n",
       "    <tr>\n",
       "      <th>50%</th>\n",
       "      <td>145.315000</td>\n",
       "      <td>146.440000</td>\n",
       "      <td>144.325000</td>\n",
       "      <td>145.685000</td>\n",
       "      <td>2.587108e+07</td>\n",
       "      <td>0.000000</td>\n",
       "      <td>1.000000</td>\n",
       "      <td>94.913032</td>\n",
       "      <td>95.641386</td>\n",
       "      <td>93.874700</td>\n",
       "      <td>94.975561</td>\n",
       "      <td>5.473435e+07</td>\n",
       "    </tr>\n",
       "    <tr>\n",
       "      <th>75%</th>\n",
       "      <td>510.840000</td>\n",
       "      <td>516.644900</td>\n",
       "      <td>505.875550</td>\n",
       "      <td>513.009625</td>\n",
       "      <td>4.111994e+07</td>\n",
       "      <td>0.000000</td>\n",
       "      <td>1.000000</td>\n",
       "      <td>114.967195</td>\n",
       "      <td>115.688089</td>\n",
       "      <td>114.184427</td>\n",
       "      <td>114.992202</td>\n",
       "      <td>8.968802e+07</td>\n",
       "    </tr>\n",
       "    <tr>\n",
       "      <th>max</th>\n",
       "      <td>702.410000</td>\n",
       "      <td>705.070000</td>\n",
       "      <td>699.570000</td>\n",
       "      <td>702.100000</td>\n",
       "      <td>1.895606e+08</td>\n",
       "      <td>3.290000</td>\n",
       "      <td>7.000000</td>\n",
       "      <td>175.110000</td>\n",
       "      <td>176.095000</td>\n",
       "      <td>174.645900</td>\n",
       "      <td>175.880000</td>\n",
       "      <td>3.765300e+08</td>\n",
       "    </tr>\n",
       "  </tbody>\n",
       "</table>\n",
       "</div>"
      ],
      "text/plain": [
       "              open         high          low        close        volume  \\\n",
       "count  1488.000000  1488.000000  1488.000000  1488.000000  1.488000e+03   \n",
       "mean    288.005379   290.530153   285.168916   287.872263  3.092533e+07   \n",
       "std     207.318538   209.159269   205.074483   207.124387  2.093367e+07   \n",
       "min      90.000000    90.700000    89.470000    90.280000  5.704900e+06   \n",
       "25%     112.125000   113.167500   110.815000   112.120000  1.524790e+07   \n",
       "50%     145.315000   146.440000   144.325000   145.685000  2.587108e+07   \n",
       "75%     510.840000   516.644900   505.875550   513.009625  4.111994e+07   \n",
       "max     702.410000   705.070000   699.570000   702.100000  1.895606e+08   \n",
       "\n",
       "       ex-dividend  split_ratio     adj_open     adj_high      adj_low  \\\n",
       "count  1488.000000  1488.000000  1488.000000  1488.000000  1488.000000   \n",
       "mean      0.020477     1.004032    97.402067    98.211294    96.532124   \n",
       "std       0.220526     0.155543    29.493234    29.622418    29.342321   \n",
       "min       0.000000     1.000000    50.594952    52.111614    50.220677   \n",
       "25%       0.000000     1.000000    72.301941    72.932623    71.550792   \n",
       "50%       0.000000     1.000000    94.913032    95.641386    93.874700   \n",
       "75%       0.000000     1.000000   114.967195   115.688089   114.184427   \n",
       "max       3.290000     7.000000   175.110000   176.095000   174.645900   \n",
       "\n",
       "         adj_close    adj_volume  \n",
       "count  1488.000000  1.488000e+03  \n",
       "mean     97.393277  6.949904e+07  \n",
       "std      29.511001  5.020481e+07  \n",
       "min      50.928800  1.147592e+07  \n",
       "25%      72.256092  3.362573e+07  \n",
       "50%      94.975561  5.473435e+07  \n",
       "75%     114.992202  8.968802e+07  \n",
       "max     175.880000  3.765300e+08  "
      ]
     },
     "execution_count": 4,
     "metadata": {
     },
     "output_type": "execute_result"
    }
   ],
   "source": [
    "AAPL.describe() # This command shows some general statistics on the data"
   ]
  },
  {
   "cell_type": "markdown",
   "metadata": {
    "collapsed": false,
    "slideshow": {
     "slide_type": "slide"
    }
   },
   "source": [
    "The methods *head* and *tail* show respectively the first (5, if no argument given) and last entries of the database. "
   ]
  },
  {
   "cell_type": "code",
   "execution_count": 5,
   "metadata": {
    "collapsed": false,
    "nbpresent": {
     "id": "270b2f50-b159-444f-ba62-0476f0ab61ae"
    }
   },
   "outputs": [
    {
     "data": {
      "text/html": [
       "<div>\n",
       "<style scoped>\n",
       "    .dataframe tbody tr th:only-of-type {\n",
       "        vertical-align: middle;\n",
       "    }\n",
       "\n",
       "    .dataframe tbody tr th {\n",
       "        vertical-align: top;\n",
       "    }\n",
       "\n",
       "    .dataframe thead th {\n",
       "        text-align: right;\n",
       "    }\n",
       "</style>\n",
       "<table border=\"1\" class=\"dataframe\">\n",
       "  <thead>\n",
       "    <tr style=\"text-align: right;\">\n",
       "      <th></th>\n",
       "      <th>ticker</th>\n",
       "      <th>date</th>\n",
       "      <th>open</th>\n",
       "      <th>high</th>\n",
       "      <th>low</th>\n",
       "      <th>close</th>\n",
       "      <th>volume</th>\n",
       "      <th>ex-dividend</th>\n",
       "      <th>split_ratio</th>\n",
       "      <th>adj_open</th>\n",
       "      <th>adj_high</th>\n",
       "      <th>adj_low</th>\n",
       "      <th>adj_close</th>\n",
       "      <th>adj_volume</th>\n",
       "    </tr>\n",
       "  </thead>\n",
       "  <tbody>\n",
       "    <tr>\n",
       "      <th>0</th>\n",
       "      <td>AAPL</td>\n",
       "      <td>2012-01-03</td>\n",
       "      <td>409.4000</td>\n",
       "      <td>412.50</td>\n",
       "      <td>409.00</td>\n",
       "      <td>411.23</td>\n",
       "      <td>10793600.0</td>\n",
       "      <td>0.0</td>\n",
       "      <td>1.0</td>\n",
       "      <td>52.613606</td>\n",
       "      <td>53.011999</td>\n",
       "      <td>52.562200</td>\n",
       "      <td>52.848787</td>\n",
       "      <td>75555200.0</td>\n",
       "    </tr>\n",
       "    <tr>\n",
       "      <th>1</th>\n",
       "      <td>AAPL</td>\n",
       "      <td>2012-01-04</td>\n",
       "      <td>410.0000</td>\n",
       "      <td>414.68</td>\n",
       "      <td>409.28</td>\n",
       "      <td>413.44</td>\n",
       "      <td>9286500.0</td>\n",
       "      <td>0.0</td>\n",
       "      <td>1.0</td>\n",
       "      <td>52.690714</td>\n",
       "      <td>53.292160</td>\n",
       "      <td>52.598184</td>\n",
       "      <td>53.132802</td>\n",
       "      <td>65005500.0</td>\n",
       "    </tr>\n",
       "    <tr>\n",
       "      <th>2</th>\n",
       "      <td>AAPL</td>\n",
       "      <td>2012-01-05</td>\n",
       "      <td>414.9500</td>\n",
       "      <td>418.55</td>\n",
       "      <td>412.67</td>\n",
       "      <td>418.03</td>\n",
       "      <td>9688200.0</td>\n",
       "      <td>0.0</td>\n",
       "      <td>1.0</td>\n",
       "      <td>53.326858</td>\n",
       "      <td>53.789509</td>\n",
       "      <td>53.033847</td>\n",
       "      <td>53.722681</td>\n",
       "      <td>67817400.0</td>\n",
       "    </tr>\n",
       "    <tr>\n",
       "      <th>3</th>\n",
       "      <td>AAPL</td>\n",
       "      <td>2012-01-06</td>\n",
       "      <td>419.7700</td>\n",
       "      <td>422.75</td>\n",
       "      <td>419.22</td>\n",
       "      <td>422.40</td>\n",
       "      <td>11367600.0</td>\n",
       "      <td>0.0</td>\n",
       "      <td>1.0</td>\n",
       "      <td>53.946296</td>\n",
       "      <td>54.329267</td>\n",
       "      <td>53.875613</td>\n",
       "      <td>54.284287</td>\n",
       "      <td>79573200.0</td>\n",
       "    </tr>\n",
       "    <tr>\n",
       "      <th>4</th>\n",
       "      <td>AAPL</td>\n",
       "      <td>2012-01-09</td>\n",
       "      <td>425.5001</td>\n",
       "      <td>427.75</td>\n",
       "      <td>421.35</td>\n",
       "      <td>421.73</td>\n",
       "      <td>14072300.0</td>\n",
       "      <td>0.0</td>\n",
       "      <td>1.0</td>\n",
       "      <td>54.682693</td>\n",
       "      <td>54.971837</td>\n",
       "      <td>54.149348</td>\n",
       "      <td>54.198183</td>\n",
       "      <td>98506100.0</td>\n",
       "    </tr>\n",
       "  </tbody>\n",
       "</table>\n",
       "</div>"
      ],
      "text/plain": [
       "  ticker        date      open    high     low   close      volume  \\\n",
       "0   AAPL  2012-01-03  409.4000  412.50  409.00  411.23  10793600.0   \n",
       "1   AAPL  2012-01-04  410.0000  414.68  409.28  413.44   9286500.0   \n",
       "2   AAPL  2012-01-05  414.9500  418.55  412.67  418.03   9688200.0   \n",
       "3   AAPL  2012-01-06  419.7700  422.75  419.22  422.40  11367600.0   \n",
       "4   AAPL  2012-01-09  425.5001  427.75  421.35  421.73  14072300.0   \n",
       "\n",
       "   ex-dividend  split_ratio   adj_open   adj_high    adj_low  adj_close  \\\n",
       "0          0.0          1.0  52.613606  53.011999  52.562200  52.848787   \n",
       "1          0.0          1.0  52.690714  53.292160  52.598184  53.132802   \n",
       "2          0.0          1.0  53.326858  53.789509  53.033847  53.722681   \n",
       "3          0.0          1.0  53.946296  54.329267  53.875613  54.284287   \n",
       "4          0.0          1.0  54.682693  54.971837  54.149348  54.198183   \n",
       "\n",
       "   adj_volume  \n",
       "0  75555200.0  \n",
       "1  65005500.0  \n",
       "2  67817400.0  \n",
       "3  79573200.0  \n",
       "4  98506100.0  "
      ]
     },
     "execution_count": 5,
     "metadata": {
     },
     "output_type": "execute_result"
    }
   ],
   "source": [
    "AAPL.head() # Show the first elements"
   ]
  },
  {
   "cell_type": "code",
   "execution_count": 6,
   "metadata": {
    "collapsed": false,
    "slideshow": {
     "slide_type": "slide"
    }
   },
   "outputs": [
    {
     "data": {
      "text/html": [
       "<div>\n",
       "<style scoped>\n",
       "    .dataframe tbody tr th:only-of-type {\n",
       "        vertical-align: middle;\n",
       "    }\n",
       "\n",
       "    .dataframe tbody tr th {\n",
       "        vertical-align: top;\n",
       "    }\n",
       "\n",
       "    .dataframe thead th {\n",
       "        text-align: right;\n",
       "    }\n",
       "</style>\n",
       "<table border=\"1\" class=\"dataframe\">\n",
       "  <thead>\n",
       "    <tr style=\"text-align: right;\">\n",
       "      <th></th>\n",
       "      <th>ticker</th>\n",
       "      <th>date</th>\n",
       "      <th>open</th>\n",
       "      <th>high</th>\n",
       "      <th>low</th>\n",
       "      <th>close</th>\n",
       "      <th>volume</th>\n",
       "      <th>ex-dividend</th>\n",
       "      <th>split_ratio</th>\n",
       "      <th>adj_open</th>\n",
       "      <th>adj_high</th>\n",
       "      <th>adj_low</th>\n",
       "      <th>adj_close</th>\n",
       "      <th>adj_volume</th>\n",
       "    </tr>\n",
       "  </thead>\n",
       "  <tbody>\n",
       "    <tr>\n",
       "      <th>1483</th>\n",
       "      <td>AAPL</td>\n",
       "      <td>2017-11-27</td>\n",
       "      <td>175.05</td>\n",
       "      <td>175.08</td>\n",
       "      <td>173.34</td>\n",
       "      <td>174.09</td>\n",
       "      <td>20536313.0</td>\n",
       "      <td>0.0</td>\n",
       "      <td>1.0</td>\n",
       "      <td>175.05</td>\n",
       "      <td>175.08</td>\n",
       "      <td>173.34</td>\n",
       "      <td>174.09</td>\n",
       "      <td>20536313.0</td>\n",
       "    </tr>\n",
       "    <tr>\n",
       "      <th>1484</th>\n",
       "      <td>AAPL</td>\n",
       "      <td>2017-11-28</td>\n",
       "      <td>174.30</td>\n",
       "      <td>174.87</td>\n",
       "      <td>171.86</td>\n",
       "      <td>173.07</td>\n",
       "      <td>25468442.0</td>\n",
       "      <td>0.0</td>\n",
       "      <td>1.0</td>\n",
       "      <td>174.30</td>\n",
       "      <td>174.87</td>\n",
       "      <td>171.86</td>\n",
       "      <td>173.07</td>\n",
       "      <td>25468442.0</td>\n",
       "    </tr>\n",
       "    <tr>\n",
       "      <th>1485</th>\n",
       "      <td>AAPL</td>\n",
       "      <td>2017-11-29</td>\n",
       "      <td>172.63</td>\n",
       "      <td>172.92</td>\n",
       "      <td>167.16</td>\n",
       "      <td>169.48</td>\n",
       "      <td>40788324.0</td>\n",
       "      <td>0.0</td>\n",
       "      <td>1.0</td>\n",
       "      <td>172.63</td>\n",
       "      <td>172.92</td>\n",
       "      <td>167.16</td>\n",
       "      <td>169.48</td>\n",
       "      <td>40788324.0</td>\n",
       "    </tr>\n",
       "    <tr>\n",
       "      <th>1486</th>\n",
       "      <td>AAPL</td>\n",
       "      <td>2017-11-30</td>\n",
       "      <td>170.43</td>\n",
       "      <td>172.14</td>\n",
       "      <td>168.44</td>\n",
       "      <td>171.85</td>\n",
       "      <td>40172368.0</td>\n",
       "      <td>0.0</td>\n",
       "      <td>1.0</td>\n",
       "      <td>170.43</td>\n",
       "      <td>172.14</td>\n",
       "      <td>168.44</td>\n",
       "      <td>171.85</td>\n",
       "      <td>40172368.0</td>\n",
       "    </tr>\n",
       "    <tr>\n",
       "      <th>1487</th>\n",
       "      <td>AAPL</td>\n",
       "      <td>2017-12-01</td>\n",
       "      <td>169.95</td>\n",
       "      <td>171.67</td>\n",
       "      <td>168.50</td>\n",
       "      <td>171.05</td>\n",
       "      <td>39590080.0</td>\n",
       "      <td>0.0</td>\n",
       "      <td>1.0</td>\n",
       "      <td>169.95</td>\n",
       "      <td>171.67</td>\n",
       "      <td>168.50</td>\n",
       "      <td>171.05</td>\n",
       "      <td>39590080.0</td>\n",
       "    </tr>\n",
       "  </tbody>\n",
       "</table>\n",
       "</div>"
      ],
      "text/plain": [
       "     ticker        date    open    high     low   close      volume  \\\n",
       "1483   AAPL  2017-11-27  175.05  175.08  173.34  174.09  20536313.0   \n",
       "1484   AAPL  2017-11-28  174.30  174.87  171.86  173.07  25468442.0   \n",
       "1485   AAPL  2017-11-29  172.63  172.92  167.16  169.48  40788324.0   \n",
       "1486   AAPL  2017-11-30  170.43  172.14  168.44  171.85  40172368.0   \n",
       "1487   AAPL  2017-12-01  169.95  171.67  168.50  171.05  39590080.0   \n",
       "\n",
       "      ex-dividend  split_ratio  adj_open  adj_high  adj_low  adj_close  \\\n",
       "1483          0.0          1.0    175.05    175.08   173.34     174.09   \n",
       "1484          0.0          1.0    174.30    174.87   171.86     173.07   \n",
       "1485          0.0          1.0    172.63    172.92   167.16     169.48   \n",
       "1486          0.0          1.0    170.43    172.14   168.44     171.85   \n",
       "1487          0.0          1.0    169.95    171.67   168.50     171.05   \n",
       "\n",
       "      adj_volume  \n",
       "1483  20536313.0  \n",
       "1484  25468442.0  \n",
       "1485  40788324.0  \n",
       "1486  40172368.0  \n",
       "1487  39590080.0  "
      ]
     },
     "execution_count": 6,
     "metadata": {
     },
     "output_type": "execute_result"
    }
   ],
   "source": [
    "AAPL.tail() # Show the last elements"
   ]
  },
  {
   "cell_type": "markdown",
   "metadata": {
    "collapsed": false,
    "slideshow": {
     "slide_type": "skip"
    }
   },
   "source": [
    "\n",
    "\n",
    "These commands give us an idea of what is on the database: it is composed by many rows (1487) with 14 different named fields, plus one column with no-name and consecutive numbers. This column is an index, and we will come back to it later. "
   ]
  },
  {
   "cell_type": "markdown",
   "metadata": {
    "collapsed": false,
    "slideshow": {
     "slide_type": "slide"
    }
   },
   "source": [
    "Note that we have a mix of different types of entries. Indeed, let us look at the types of each one of the columns."
   ]
  },
  {
   "cell_type": "code",
   "execution_count": 7,
   "metadata": {
    "collapsed": false
   },
   "outputs": [
    {
     "data": {
      "text/plain": [
       "ticker          object\n",
       "date            object\n",
       "open           float64\n",
       "high           float64\n",
       "low            float64\n",
       "close          float64\n",
       "volume         float64\n",
       "ex-dividend    float64\n",
       "split_ratio    float64\n",
       "adj_open       float64\n",
       "adj_high       float64\n",
       "adj_low        float64\n",
       "adj_close      float64\n",
       "adj_volume     float64\n",
       "dtype: object"
      ]
     },
     "execution_count": 7,
     "metadata": {
     },
     "output_type": "execute_result"
    }
   ],
   "source": [
    "AAPL.dtypes"
   ]
  },
  {
   "cell_type": "markdown",
   "metadata": {
    "collapsed": false,
    "slideshow": {
     "slide_type": "notes"
    }
   },
   "source": [
    "The above command show us a list of all fields in the dataframe and the types of each one of them. Most of them are float numbers (float64) and two 'object' type (more on this in a moment). \n"
   ]
  },
  {
   "cell_type": "markdown",
   "metadata": {
    "collapsed": false,
    "slideshow": {
     "slide_type": "subslide"
    }
   },
   "source": [
    "\n",
    "Let us discuss the meaning of each one of these entries:\n",
    "\n",
    "- ticker: the identifier of the stock to which this information belongs. In this case, apple INC, which ticker is AAPL.\n",
    "- date:   the date at which the remaining information is collected.\n",
    "\n",
    "The following data are unadjusted, i.e., are presented as they occurred on the given date.\n",
    "\n",
    "- open:   the price of the stock at the start of the trading day.\n",
    "- high:   the maximum price the stock achieved during the trading day.\n",
    "- close : the price of the stock at the end of the trading day.\n",
    "- volume: the amount in dollars exchanged on this stock during the trading day\n",
    "- ex-dividend: The ex-dividend date is a financial concept: if you purchase a stock on its ex-dividend date or after, you will not receive the next dividend payment. Instead, the seller gets the dividend. If you purchase before the ex-dividend date, and hold the position until the ex-dividend date, you get the dividend. Now, this entry shows the dividend paid on any ex-dividend date else 0.0. \n",
    "- split_ratio: shows any split that occurred on a the given DATE or 1.0 otherwise.\n",
    "\n",
    "The following data are adjusted. Adjusted data takes the information on dividends and splits and modifies the historical records to obtain prices as if no-dividend and no splits were defined. This is convenient for analysis where we work with total values.\n",
    "\n",
    "- adj_open \n",
    "- adj_high \n",
    "- adj_low  \n",
    "- adj_close\n",
    "- adj_volume\n",
    "\n"
   ]
  },
  {
   "cell_type": "markdown",
   "metadata": {
    "collapsed": false,
    "slideshow": {
     "slide_type": "slide"
    }
   },
   "source": [
    "\n",
    "## Series\n",
    "\n",
    "Dataframes are composed by series, which are, in turn a collection of individual (or scalar) entries.\n",
    "\n",
    "We can extract and operate on series by passing the name of the entry to the database.\n",
    "\n"
   ]
  },
  {
   "cell_type": "code",
   "execution_count": 8,
   "metadata": {
    "collapsed": false
   },
   "outputs": [
    {
     "name": "stdout",
     "output_type": "stream",
     "text": [
      "0        53.011999\n",
      "1        53.292160\n",
      "2        53.789509\n",
      "3        54.329267\n",
      "4        54.971837\n",
      "           ...    \n",
      "1483    175.080000\n",
      "1484    174.870000\n",
      "1485    172.920000\n",
      "1486    172.140000\n",
      "1487    171.670000\n",
      "Name: adj_high, Length: 1488, dtype: float64\n",
      "type of adjmax <class 'pandas.core.series.Series'>\n"
     ]
    }
   ],
   "source": [
    "adjmax = AAPL['adj_high']\n",
    "adjmin = AAPL['adj_low']\n",
    "\n",
    "print(adjmax)\n",
    "print('type of adjmax', type(adjmax))"
   ]
  },
  {
   "cell_type": "markdown",
   "metadata": {
    "collapsed": false,
    "slideshow": {
     "slide_type": "notes"
    }
   },
   "source": [
    "Above we extracted the series of adjusted low and high. Note the corresponding indices are retrieved as well. \n"
   ]
  },
  {
   "cell_type": "markdown",
   "metadata": {
    "collapsed": false,
    "slideshow": {
     "slide_type": "slide"
    }
   },
   "source": [
    "\n",
    "Several operations can then be performed on these series. For example, we can create a new series containing the rage of adjusted values for each date:"
   ]
  },
  {
   "cell_type": "code",
   "execution_count": 9,
   "metadata": {
    "collapsed": false
   },
   "outputs": [
    {
     "name": "stdout",
     "output_type": "stream",
     "text": [
      "0       0.449799\n",
      "1       0.693975\n",
      "2       0.755662\n",
      "3       0.453654\n",
      "4       0.822489\n",
      "          ...   \n",
      "1483    1.740000\n",
      "1484    3.010000\n",
      "1485    5.760000\n",
      "1486    3.700000\n",
      "1487    3.170000\n",
      "Length: 1488, dtype: float64\n"
     ]
    }
   ],
   "source": [
    "adjrange = adjmax-adjmin\n",
    "print(adjrange)"
   ]
  },
  {
   "cell_type": "markdown",
   "metadata": {
    "collapsed": false,
    "slideshow": {
     "slide_type": "slide"
    }
   },
   "source": [
    "We can add the newly created ranges to our database as a new column, as follows:"
   ]
  },
  {
   "cell_type": "code",
   "execution_count": 10,
   "metadata": {
    "collapsed": false
   },
   "outputs": [
    {
     "data": {
      "text/html": [
       "<div>\n",
       "<style scoped>\n",
       "    .dataframe tbody tr th:only-of-type {\n",
       "        vertical-align: middle;\n",
       "    }\n",
       "\n",
       "    .dataframe tbody tr th {\n",
       "        vertical-align: top;\n",
       "    }\n",
       "\n",
       "    .dataframe thead th {\n",
       "        text-align: right;\n",
       "    }\n",
       "</style>\n",
       "<table border=\"1\" class=\"dataframe\">\n",
       "  <thead>\n",
       "    <tr style=\"text-align: right;\">\n",
       "      <th></th>\n",
       "      <th>ticker</th>\n",
       "      <th>date</th>\n",
       "      <th>open</th>\n",
       "      <th>high</th>\n",
       "      <th>low</th>\n",
       "      <th>close</th>\n",
       "      <th>volume</th>\n",
       "      <th>ex-dividend</th>\n",
       "      <th>split_ratio</th>\n",
       "      <th>adj_open</th>\n",
       "      <th>adj_high</th>\n",
       "      <th>adj_low</th>\n",
       "      <th>adj_close</th>\n",
       "      <th>adj_volume</th>\n",
       "      <th>adj_range</th>\n",
       "    </tr>\n",
       "  </thead>\n",
       "  <tbody>\n",
       "    <tr>\n",
       "      <th>0</th>\n",
       "      <td>AAPL</td>\n",
       "      <td>2012-01-03</td>\n",
       "      <td>409.4000</td>\n",
       "      <td>412.50</td>\n",
       "      <td>409.00</td>\n",
       "      <td>411.23</td>\n",
       "      <td>10793600.0</td>\n",
       "      <td>0.0</td>\n",
       "      <td>1.0</td>\n",
       "      <td>52.613606</td>\n",
       "      <td>53.011999</td>\n",
       "      <td>52.562200</td>\n",
       "      <td>52.848787</td>\n",
       "      <td>75555200.0</td>\n",
       "      <td>0.449799</td>\n",
       "    </tr>\n",
       "    <tr>\n",
       "      <th>1</th>\n",
       "      <td>AAPL</td>\n",
       "      <td>2012-01-04</td>\n",
       "      <td>410.0000</td>\n",
       "      <td>414.68</td>\n",
       "      <td>409.28</td>\n",
       "      <td>413.44</td>\n",
       "      <td>9286500.0</td>\n",
       "      <td>0.0</td>\n",
       "      <td>1.0</td>\n",
       "      <td>52.690714</td>\n",
       "      <td>53.292160</td>\n",
       "      <td>52.598184</td>\n",
       "      <td>53.132802</td>\n",
       "      <td>65005500.0</td>\n",
       "      <td>0.693975</td>\n",
       "    </tr>\n",
       "    <tr>\n",
       "      <th>2</th>\n",
       "      <td>AAPL</td>\n",
       "      <td>2012-01-05</td>\n",
       "      <td>414.9500</td>\n",
       "      <td>418.55</td>\n",
       "      <td>412.67</td>\n",
       "      <td>418.03</td>\n",
       "      <td>9688200.0</td>\n",
       "      <td>0.0</td>\n",
       "      <td>1.0</td>\n",
       "      <td>53.326858</td>\n",
       "      <td>53.789509</td>\n",
       "      <td>53.033847</td>\n",
       "      <td>53.722681</td>\n",
       "      <td>67817400.0</td>\n",
       "      <td>0.755662</td>\n",
       "    </tr>\n",
       "    <tr>\n",
       "      <th>3</th>\n",
       "      <td>AAPL</td>\n",
       "      <td>2012-01-06</td>\n",
       "      <td>419.7700</td>\n",
       "      <td>422.75</td>\n",
       "      <td>419.22</td>\n",
       "      <td>422.40</td>\n",
       "      <td>11367600.0</td>\n",
       "      <td>0.0</td>\n",
       "      <td>1.0</td>\n",
       "      <td>53.946296</td>\n",
       "      <td>54.329267</td>\n",
       "      <td>53.875613</td>\n",
       "      <td>54.284287</td>\n",
       "      <td>79573200.0</td>\n",
       "      <td>0.453654</td>\n",
       "    </tr>\n",
       "    <tr>\n",
       "      <th>4</th>\n",
       "      <td>AAPL</td>\n",
       "      <td>2012-01-09</td>\n",
       "      <td>425.5001</td>\n",
       "      <td>427.75</td>\n",
       "      <td>421.35</td>\n",
       "      <td>421.73</td>\n",
       "      <td>14072300.0</td>\n",
       "      <td>0.0</td>\n",
       "      <td>1.0</td>\n",
       "      <td>54.682693</td>\n",
       "      <td>54.971837</td>\n",
       "      <td>54.149348</td>\n",
       "      <td>54.198183</td>\n",
       "      <td>98506100.0</td>\n",
       "      <td>0.822489</td>\n",
       "    </tr>\n",
       "  </tbody>\n",
       "</table>\n",
       "</div>"
      ],
      "text/plain": [
       "  ticker        date      open    high     low   close      volume  \\\n",
       "0   AAPL  2012-01-03  409.4000  412.50  409.00  411.23  10793600.0   \n",
       "1   AAPL  2012-01-04  410.0000  414.68  409.28  413.44   9286500.0   \n",
       "2   AAPL  2012-01-05  414.9500  418.55  412.67  418.03   9688200.0   \n",
       "3   AAPL  2012-01-06  419.7700  422.75  419.22  422.40  11367600.0   \n",
       "4   AAPL  2012-01-09  425.5001  427.75  421.35  421.73  14072300.0   \n",
       "\n",
       "   ex-dividend  split_ratio   adj_open   adj_high    adj_low  adj_close  \\\n",
       "0          0.0          1.0  52.613606  53.011999  52.562200  52.848787   \n",
       "1          0.0          1.0  52.690714  53.292160  52.598184  53.132802   \n",
       "2          0.0          1.0  53.326858  53.789509  53.033847  53.722681   \n",
       "3          0.0          1.0  53.946296  54.329267  53.875613  54.284287   \n",
       "4          0.0          1.0  54.682693  54.971837  54.149348  54.198183   \n",
       "\n",
       "   adj_volume  adj_range  \n",
       "0  75555200.0   0.449799  \n",
       "1  65005500.0   0.693975  \n",
       "2  67817400.0   0.755662  \n",
       "3  79573200.0   0.453654  \n",
       "4  98506100.0   0.822489  "
      ]
     },
     "execution_count": 10,
     "metadata": {
     },
     "output_type": "execute_result"
    }
   ],
   "source": [
    "AAPL['adj_range']=adjrange\n",
    "AAPL.head()"
   ]
  },
  {
   "cell_type": "markdown",
   "metadata": {
    "collapsed": false,
    "slideshow": {
     "slide_type": "skip"
    }
   },
   "source": [
    "This is useful for producing calculated columns.\n"
   ]
  },
  {
   "cell_type": "markdown",
   "metadata": {
    "collapsed": false,
    "slideshow": {
     "slide_type": "slide"
    }
   },
   "source": [
    "\n",
    "### Checking for data integrity and fixing Indices\n",
    "\n",
    "Dataframes and series are indexed. The role of the index is to allow us to retrieve a given particular row: it must be a unique identifier of each row of data.\n",
    "\n",
    "Here are some examples:"
   ]
  },
  {
   "cell_type": "code",
   "execution_count": 11,
   "metadata": {
    "collapsed": false
   },
   "outputs": [
    {
     "name": "stdout",
     "output_type": "stream",
     "text": [
      "The row of the dataframe indexed by the number 3: \n",
      "\n",
      " ticker                AAPL\n",
      "date            2012-01-06\n",
      "open                419.77\n",
      "high                422.75\n",
      "low                 419.22\n",
      "close                422.4\n",
      "volume         1.13676e+07\n",
      "ex-dividend              0\n",
      "split_ratio              1\n",
      "adj_open           53.9463\n",
      "adj_high           54.3293\n",
      "adj_low            53.8756\n",
      "adj_close          54.2843\n",
      "adj_volume     7.95732e+07\n",
      "adj_range         0.453654\n",
      "Name: 3, dtype: object\n",
      "\n",
      "\n",
      " ----- \n",
      "\n",
      " The row of the adjusted range series indexed by the number 3: \n",
      "\n",
      " 0.45365419990600486\n"
     ]
    }
   ],
   "source": [
    "print('The row of the dataframe indexed by the number 3: \\n\\n', AAPL.iloc[3])\n",
    "print('\\n\\n ----- \\n\\n The row of the adjusted range series indexed by the number 3: \\n\\n', adjrange.iloc[3])"
   ]
  },
  {
   "cell_type": "markdown",
   "metadata": {
    "collapsed": false,
    "slideshow": {
     "slide_type": "slide"
    }
   },
   "source": [
    "Unfortunately the automatic index that was created is not very informative. We can, instead recall our description of the data and set the **date** as the index. Before doing so, let us verify that it is, indeed, a date."
   ]
  },
  {
   "cell_type": "code",
   "execution_count": 12,
   "metadata": {
    "collapsed": false,
    "nbpresent": {
     "id": "6ff8b5f3-554a-4469-bf69-48e3a40290e5"
    }
   },
   "outputs": [
    {
     "name": "stdout",
     "output_type": "stream",
     "text": [
      "2012-01-06 <class 'str'>\n"
     ]
    }
   ],
   "source": [
    "print(AAPL['date'][3], type(AAPL['date'][3]))"
   ]
  },
  {
   "cell_type": "code",
   "execution_count": 13,
   "metadata": {
    "collapsed": false
   },
   "outputs": [
    {
     "data": {
      "text/plain": [
       "0       2012-01-03\n",
       "1       2012-01-04\n",
       "2       2012-01-05\n",
       "3       2012-01-06\n",
       "4       2012-01-09\n",
       "           ...    \n",
       "1483    2017-11-27\n",
       "1484    2017-11-28\n",
       "1485    2017-11-29\n",
       "1486    2017-11-30\n",
       "1487    2017-12-01\n",
       "Name: date, Length: 1488, dtype: object"
      ]
     },
     "execution_count": 13,
     "metadata": {
     },
     "output_type": "execute_result"
    }
   ],
   "source": [
    "AAPL['date']"
   ]
  },
  {
   "cell_type": "markdown",
   "metadata": {
    "collapsed": false,
    "slideshow": {
     "slide_type": "skip"
    }
   },
   "source": [
    "We can see that the date is not treated as a date but as a string. The reason I suspected this is that when we looked at the types of each variable, the date was listed as 'object'. It would be convenient to *recast* it, that is, to transform it into a date.\n"
   ]
  },
  {
   "cell_type": "markdown",
   "metadata": {
    "collapsed": false,
    "slideshow": {
     "slide_type": "slide"
    }
   },
   "source": [
    "\n",
    "We can modify any column by assigning the result of another series, just as we did to create a new column. In this case, we use a function to turn strings into dates.\n"
   ]
  },
  {
   "cell_type": "code",
   "execution_count": 14,
   "metadata": {
    "collapsed": false
   },
   "outputs": [
   ],
   "source": [
    "AAPL['date']=pd.to_datetime(AAPL['date'])"
   ]
  },
  {
   "cell_type": "markdown",
   "metadata": {
    "collapsed": false,
    "slideshow": {
     "slide_type": "skip"
    }
   },
   "source": [
    "We check again the types after the transformation"
   ]
  },
  {
   "cell_type": "code",
   "execution_count": 15,
   "metadata": {
    "collapsed": false
   },
   "outputs": [
    {
     "data": {
      "text/plain": [
       "ticker                 object\n",
       "date           datetime64[ns]\n",
       "open                  float64\n",
       "high                  float64\n",
       "low                   float64\n",
       "close                 float64\n",
       "volume                float64\n",
       "ex-dividend           float64\n",
       "split_ratio           float64\n",
       "adj_open              float64\n",
       "adj_high              float64\n",
       "adj_low               float64\n",
       "adj_close             float64\n",
       "adj_volume            float64\n",
       "adj_range             float64\n",
       "dtype: object"
      ]
     },
     "execution_count": 15,
     "metadata": {
     },
     "output_type": "execute_result"
    }
   ],
   "source": [
    "AAPL.dtypes"
   ]
  },
  {
   "cell_type": "code",
   "execution_count": 16,
   "metadata": {
    "collapsed": false
   },
   "outputs": [
    {
     "name": "stdout",
     "output_type": "stream",
     "text": [
      "2012-01-06 00:00:00 <class 'pandas._libs.tslibs.timestamps.Timestamp'>\n"
     ]
    }
   ],
   "source": [
    "print(AAPL['date'][3], type(AAPL['date'][3]))"
   ]
  },
  {
   "cell_type": "markdown",
   "metadata": {
    "collapsed": false,
    "slideshow": {
     "slide_type": "skip"
    }
   },
   "source": [
    "Dates are now effectively treated as dates. This is convenient as there are many supported modules that act on dates. Now, as announced before, we can set the index to be the date. \n"
   ]
  },
  {
   "cell_type": "markdown",
   "metadata": {
    "collapsed": false,
    "slideshow": {
     "slide_type": "slide"
    }
   },
   "source": [
    "Before setting the time as an index, let us check that there are no repeated date values (of course, we do not expect this)."
   ]
  },
  {
   "cell_type": "code",
   "execution_count": 17,
   "metadata": {
    "collapsed": false
   },
   "outputs": [
    {
     "name": "stdout",
     "output_type": "stream",
     "text": [
      "Empty DataFrame\n",
      "Columns: [ticker, date, open, high, low, close, volume, ex-dividend, split_ratio, adj_open, adj_high, adj_low, adj_close, adj_volume, adj_range]\n",
      "Index: []\n"
     ]
    }
   ],
   "source": [
    "print(AAPL[AAPL.duplicated('date', False)]) # Here we first produce a vector of TRUE or FALSE if dates are duplicated. Then show the whole entries if duplicated entries appear"
   ]
  },
  {
   "cell_type": "markdown",
   "metadata": {
    "collapsed": false,
    "slideshow": {
     "slide_type": "slide"
    }
   },
   "source": [
    "Indeed, there are no duplicated dates. Compare with this code (finding duplicated entries of 'Volume' )"
   ]
  },
  {
   "cell_type": "code",
   "execution_count": 18,
   "metadata": {
    "collapsed": false
   },
   "outputs": [
    {
     "name": "stdout",
     "output_type": "stream",
     "text": [
      "    ticker       date    open    high     low   close     volume  ex-dividend  \\\n",
      "563   AAPL 2014-04-01  537.76  541.87  536.77  541.65  7170000.0          0.0   \n",
      "599   AAPL 2014-05-22  606.60  609.85  604.10  607.27  7170000.0          0.0   \n",
      "\n",
      "     split_ratio   adj_open   adj_high    adj_low  adj_close  adj_volume  \\\n",
      "563          1.0  71.905792  72.455354  71.773415  72.425937  50190000.0   \n",
      "599          1.0  81.564473  82.001473  81.228318  81.654562  50190000.0   \n",
      "\n",
      "     adj_range  \n",
      "563   0.681939  \n",
      "599   0.773155  \n"
     ]
    }
   ],
   "source": [
    "print(AAPL[AAPL.duplicated('volume', False)]) # Here we first produce a vector of TRUE or FALSE if VOLUME data are duplicated. Then show the whole entries if duplicated entries appear"
   ]
  },
  {
   "cell_type": "markdown",
   "metadata": {
    "collapsed": false,
    "slideshow": {
     "slide_type": "skip"
    }
   },
   "source": [
    "We see that at two dates in the range we got the same exact amount of non-adjusted volume. See the help on duplicated for more about its options.\n"
   ]
  },
  {
   "cell_type": "markdown",
   "metadata": {
    "collapsed": false,
    "slideshow": {
     "slide_type": "slide"
    }
   },
   "source": [
    "\n",
    "Now, having verified that there are no duplicates on the date, we can check that there are no missing data on the date. The database we obtained is high quality and no missing entries should remain, but we should always check for this."
   ]
  },
  {
   "cell_type": "code",
   "execution_count": 19,
   "metadata": {
    "collapsed": false
   },
   "outputs": [
    {
     "data": {
      "text/plain": [
       "ticker         False\n",
       "date           False\n",
       "open           False\n",
       "high           False\n",
       "low            False\n",
       "close          False\n",
       "volume         False\n",
       "ex-dividend    False\n",
       "split_ratio    False\n",
       "adj_open       False\n",
       "adj_high       False\n",
       "adj_low        False\n",
       "adj_close      False\n",
       "adj_volume     False\n",
       "adj_range      False\n",
       "dtype: bool"
      ]
     },
     "execution_count": 19,
     "metadata": {
     },
     "output_type": "execute_result"
    }
   ],
   "source": [
    "AAPL.isnull().any() # This looks for missing values in any field of the database (TRUE if misisng FALSE if not). Then checks if tehre is at least one  TRUE."
   ]
  },
  {
   "cell_type": "markdown",
   "metadata": {
    "collapsed": false
   },
   "source": [
    "As shown above, none of the fields has missing values. \n"
   ]
  },
  {
   "cell_type": "markdown",
   "metadata": {
    "collapsed": false,
    "slideshow": {
     "slide_type": "skip"
    }
   },
   "source": [
    "We are then ready to set the *date* field as the index with the following instruction"
   ]
  },
  {
   "cell_type": "code",
   "execution_count": 20,
   "metadata": {
    "collapsed": false,
    "slideshow": {
     "slide_type": "slide"
    }
   },
   "outputs": [
   ],
   "source": [
    "AAPL.set_index('date', inplace=True) # Set the index  on the same database, not on a copy"
   ]
  },
  {
   "cell_type": "markdown",
   "metadata": {
    "collapsed": false,
    "slideshow": {
     "slide_type": "notes"
    }
   },
   "source": [
    "Mind the *inplace* part of the call. Otherwise, the function returns a copy of the dataframe with the modified index. \n"
   ]
  },
  {
   "cell_type": "markdown",
   "metadata": {
    "collapsed": false,
    "slideshow": {
     "slide_type": "slide"
    }
   },
   "source": [
    "\n",
    "Now, we can simply consult the data for a given date. For instance"
   ]
  },
  {
   "cell_type": "code",
   "execution_count": 21,
   "metadata": {
    "collapsed": false,
    "nbpresent": {
     "id": "41c9e0e3-3bb6-409c-a44b-fcde79ecd8fa"
    }
   },
   "outputs": [
    {
     "data": {
      "text/plain": [
       "ticker                AAPL\n",
       "open                171.04\n",
       "high                171.39\n",
       "low                 169.64\n",
       "close               170.15\n",
       "volume         2.16658e+07\n",
       "ex-dividend              0\n",
       "split_ratio              1\n",
       "adj_open            171.04\n",
       "adj_high            171.39\n",
       "adj_low             169.64\n",
       "adj_close           170.15\n",
       "adj_volume     2.16658e+07\n",
       "adj_range             1.75\n",
       "Name: 2017-11-17 00:00:00, dtype: object"
      ]
     },
     "execution_count": 21,
     "metadata": {
     },
     "output_type": "execute_result"
    }
   ],
   "source": [
    "AAPL.loc['2017-11-17']"
   ]
  },
  {
   "cell_type": "markdown",
   "metadata": {
    "collapsed": false
   },
   "source": [
    "Note that this time we did not use 'iloc' but 'loc'. The reason is that 'iloc' is primarily to use with integers (the position), while 'loc' is used to work with labels, like the date we give above.\n",
    "\n"
   ]
  },
  {
   "cell_type": "markdown",
   "metadata": {
    "collapsed": false,
    "slideshow": {
     "slide_type": "slide"
    }
   },
   "source": [
    "\n",
    "Now, if we want only a subset of the data, we can write"
   ]
  },
  {
   "cell_type": "code",
   "execution_count": 22,
   "metadata": {
    "collapsed": false
   },
   "outputs": [
    {
     "data": {
      "text/plain": [
       "volume    2.16658e+07\n",
       "close          170.15\n",
       "Name: 2017-11-17 00:00:00, dtype: object"
      ]
     },
     "execution_count": 22,
     "metadata": {
     },
     "output_type": "execute_result"
    }
   ],
   "source": [
    "AAPL.loc['2017-11-17', ['volume','close']]"
   ]
  },
  {
   "cell_type": "markdown",
   "metadata": {
    "collapsed": false,
    "nbpresent": {
     "id": "4d00946d-c376-49e1-a5c1-4b41f319b1e2"
    },
    "slideshow": {
     "slide_type": "slide"
    }
   },
   "source": [
    "### Sampling a dataframe\n",
    "\n",
    "One of the advantages of having a date index is that we can resample the data. Indeed, let's say that we are interested in weekly returns, but we only have daily returns as above. \n",
    "\n",
    "We can pick then resample the data using the power of pandas. Let us suppose we take now the data at of each Friday as a representative of the week. We would simply write"
   ]
  },
  {
   "cell_type": "code",
   "execution_count": 23,
   "metadata": {
    "collapsed": false
   },
   "outputs": [
   ],
   "source": [
    "AAPL_week = AAPL.resample('W-FRI').last() # Sample the database on a weekly basis finishing on a Friday, and taking the last data of each interval"
   ]
  },
  {
   "cell_type": "code",
   "execution_count": 24,
   "metadata": {
    "collapsed": false,
    "slideshow": {
     "slide_type": "subslide"
    }
   },
   "outputs": [
    {
     "data": {
      "text/html": [
       "<div>\n",
       "<style scoped>\n",
       "    .dataframe tbody tr th:only-of-type {\n",
       "        vertical-align: middle;\n",
       "    }\n",
       "\n",
       "    .dataframe tbody tr th {\n",
       "        vertical-align: top;\n",
       "    }\n",
       "\n",
       "    .dataframe thead th {\n",
       "        text-align: right;\n",
       "    }\n",
       "</style>\n",
       "<table border=\"1\" class=\"dataframe\">\n",
       "  <thead>\n",
       "    <tr style=\"text-align: right;\">\n",
       "      <th></th>\n",
       "      <th>ticker</th>\n",
       "      <th>open</th>\n",
       "      <th>high</th>\n",
       "      <th>low</th>\n",
       "      <th>close</th>\n",
       "      <th>volume</th>\n",
       "      <th>ex-dividend</th>\n",
       "      <th>split_ratio</th>\n",
       "      <th>adj_open</th>\n",
       "      <th>adj_high</th>\n",
       "      <th>adj_low</th>\n",
       "      <th>adj_close</th>\n",
       "      <th>adj_volume</th>\n",
       "      <th>adj_range</th>\n",
       "    </tr>\n",
       "    <tr>\n",
       "      <th>date</th>\n",
       "      <th></th>\n",
       "      <th></th>\n",
       "      <th></th>\n",
       "      <th></th>\n",
       "      <th></th>\n",
       "      <th></th>\n",
       "      <th></th>\n",
       "      <th></th>\n",
       "      <th></th>\n",
       "      <th></th>\n",
       "      <th></th>\n",
       "      <th></th>\n",
       "      <th></th>\n",
       "      <th></th>\n",
       "    </tr>\n",
       "  </thead>\n",
       "  <tbody>\n",
       "    <tr>\n",
       "      <th>2012-01-06</th>\n",
       "      <td>AAPL</td>\n",
       "      <td>419.77</td>\n",
       "      <td>422.75</td>\n",
       "      <td>419.22</td>\n",
       "      <td>422.40</td>\n",
       "      <td>11367600.0</td>\n",
       "      <td>0.0</td>\n",
       "      <td>1.0</td>\n",
       "      <td>53.946296</td>\n",
       "      <td>54.329267</td>\n",
       "      <td>53.875613</td>\n",
       "      <td>54.284287</td>\n",
       "      <td>79573200.0</td>\n",
       "      <td>0.453654</td>\n",
       "    </tr>\n",
       "    <tr>\n",
       "      <th>2012-01-13</th>\n",
       "      <td>AAPL</td>\n",
       "      <td>419.70</td>\n",
       "      <td>420.45</td>\n",
       "      <td>418.66</td>\n",
       "      <td>419.81</td>\n",
       "      <td>8072200.0</td>\n",
       "      <td>0.0</td>\n",
       "      <td>1.0</td>\n",
       "      <td>53.937300</td>\n",
       "      <td>54.033685</td>\n",
       "      <td>53.803645</td>\n",
       "      <td>53.951436</td>\n",
       "      <td>56505400.0</td>\n",
       "      <td>0.230040</td>\n",
       "    </tr>\n",
       "    <tr>\n",
       "      <th>2012-01-20</th>\n",
       "      <td>AAPL</td>\n",
       "      <td>427.49</td>\n",
       "      <td>427.50</td>\n",
       "      <td>419.75</td>\n",
       "      <td>420.30</td>\n",
       "      <td>14784800.0</td>\n",
       "      <td>0.0</td>\n",
       "      <td>1.0</td>\n",
       "      <td>54.938423</td>\n",
       "      <td>54.939708</td>\n",
       "      <td>53.943725</td>\n",
       "      <td>54.014408</td>\n",
       "      <td>103493600.0</td>\n",
       "      <td>0.995983</td>\n",
       "    </tr>\n",
       "    <tr>\n",
       "      <th>2012-01-27</th>\n",
       "      <td>AAPL</td>\n",
       "      <td>444.34</td>\n",
       "      <td>448.48</td>\n",
       "      <td>443.77</td>\n",
       "      <td>447.28</td>\n",
       "      <td>10703900.0</td>\n",
       "      <td>0.0</td>\n",
       "      <td>1.0</td>\n",
       "      <td>57.103883</td>\n",
       "      <td>57.635931</td>\n",
       "      <td>57.030630</td>\n",
       "      <td>57.481714</td>\n",
       "      <td>74927300.0</td>\n",
       "      <td>0.605301</td>\n",
       "    </tr>\n",
       "    <tr>\n",
       "      <th>2012-02-03</th>\n",
       "      <td>AAPL</td>\n",
       "      <td>457.30</td>\n",
       "      <td>460.00</td>\n",
       "      <td>455.56</td>\n",
       "      <td>459.68</td>\n",
       "      <td>10235700.0</td>\n",
       "      <td>0.0</td>\n",
       "      <td>1.0</td>\n",
       "      <td>58.769424</td>\n",
       "      <td>59.116411</td>\n",
       "      <td>58.545809</td>\n",
       "      <td>59.075287</td>\n",
       "      <td>71649900.0</td>\n",
       "      <td>0.570602</td>\n",
       "    </tr>\n",
       "  </tbody>\n",
       "</table>\n",
       "</div>"
      ],
      "text/plain": [
       "           ticker    open    high     low   close      volume  ex-dividend  \\\n",
       "date                                                                         \n",
       "2012-01-06   AAPL  419.77  422.75  419.22  422.40  11367600.0          0.0   \n",
       "2012-01-13   AAPL  419.70  420.45  418.66  419.81   8072200.0          0.0   \n",
       "2012-01-20   AAPL  427.49  427.50  419.75  420.30  14784800.0          0.0   \n",
       "2012-01-27   AAPL  444.34  448.48  443.77  447.28  10703900.0          0.0   \n",
       "2012-02-03   AAPL  457.30  460.00  455.56  459.68  10235700.0          0.0   \n",
       "\n",
       "            split_ratio   adj_open   adj_high    adj_low  adj_close  \\\n",
       "date                                                                  \n",
       "2012-01-06          1.0  53.946296  54.329267  53.875613  54.284287   \n",
       "2012-01-13          1.0  53.937300  54.033685  53.803645  53.951436   \n",
       "2012-01-20          1.0  54.938423  54.939708  53.943725  54.014408   \n",
       "2012-01-27          1.0  57.103883  57.635931  57.030630  57.481714   \n",
       "2012-02-03          1.0  58.769424  59.116411  58.545809  59.075287   \n",
       "\n",
       "             adj_volume  adj_range  \n",
       "date                                \n",
       "2012-01-06   79573200.0   0.453654  \n",
       "2012-01-13   56505400.0   0.230040  \n",
       "2012-01-20  103493600.0   0.995983  \n",
       "2012-01-27   74927300.0   0.605301  \n",
       "2012-02-03   71649900.0   0.570602  "
      ]
     },
     "execution_count": 24,
     "metadata": {
     },
     "output_type": "execute_result"
    }
   ],
   "source": [
    "AAPL_week.head()"
   ]
  },
  {
   "cell_type": "markdown",
   "metadata": {
    "collapsed": false,
    "slideshow": {
     "slide_type": "slide"
    }
   },
   "source": [
    "This takes the data in bits of one week, ending on a Friday, and taking the last value as a representative (i.e. the value on a Friday). To verify this, let us copare with the value on the original dataframe of the first Friday"
   ]
  },
  {
   "cell_type": "code",
   "execution_count": 25,
   "metadata": {
    "collapsed": false
   },
   "outputs": [
    {
     "data": {
      "text/plain": [
       "ticker                AAPL\n",
       "open                419.77\n",
       "high                422.75\n",
       "low                 419.22\n",
       "close                422.4\n",
       "volume         1.13676e+07\n",
       "ex-dividend              0\n",
       "split_ratio              1\n",
       "adj_open           53.9463\n",
       "adj_high           54.3293\n",
       "adj_low            53.8756\n",
       "adj_close          54.2843\n",
       "adj_volume     7.95732e+07\n",
       "adj_range         0.453654\n",
       "Name: 2012-01-06 00:00:00, dtype: object"
      ]
     },
     "execution_count": 25,
     "metadata": {
     },
     "output_type": "execute_result"
    }
   ],
   "source": [
    "AAPL.loc['2012-01-06']"
   ]
  },
  {
   "cell_type": "markdown",
   "metadata": {
    "collapsed": false,
    "slideshow": {
     "slide_type": "slide"
    }
   },
   "source": [
    "Of course, some of the data is no longer an accurate summary. We would like to have the opening, high, low  and volume of the week (and not the opening of the Friday). We can call different versions of the resample function to adjust for this. Look at the following code"
   ]
  },
  {
   "cell_type": "code",
   "execution_count": 26,
   "metadata": {
    "collapsed": false
   },
   "outputs": [
   ],
   "source": [
    "AAPL_week[['open', 'adj_open']] =  AAPL[['open', 'adj_open']].resample('W-FRI').first()\n",
    "AAPL_week[['high', 'adj_high']] =  AAPL[['high', 'adj_high']].resample('W-FRI').max()\n",
    "AAPL_week[['low', 'adj_low']] =  AAPL[['low', 'adj_low']].resample('W-FRI').min()\n",
    "AAPL_week[['volume', 'adj_volume', 'ex-dividend']] =  AAPL[['volume', 'adj_volume', 'ex-dividend']].resample('W-FRI').sum()\n",
    "AAPL_week['split_ratio'] =  AAPL['split_ratio'].resample('W-FRI').prod()"
   ]
  },
  {
   "cell_type": "code",
   "execution_count": 27,
   "metadata": {
    "collapsed": false,
    "slideshow": {
     "slide_type": "subslide"
    }
   },
   "outputs": [
    {
     "data": {
      "text/html": [
       "<div>\n",
       "<style scoped>\n",
       "    .dataframe tbody tr th:only-of-type {\n",
       "        vertical-align: middle;\n",
       "    }\n",
       "\n",
       "    .dataframe tbody tr th {\n",
       "        vertical-align: top;\n",
       "    }\n",
       "\n",
       "    .dataframe thead th {\n",
       "        text-align: right;\n",
       "    }\n",
       "</style>\n",
       "<table border=\"1\" class=\"dataframe\">\n",
       "  <thead>\n",
       "    <tr style=\"text-align: right;\">\n",
       "      <th></th>\n",
       "      <th>ticker</th>\n",
       "      <th>open</th>\n",
       "      <th>high</th>\n",
       "      <th>low</th>\n",
       "      <th>close</th>\n",
       "      <th>volume</th>\n",
       "      <th>ex-dividend</th>\n",
       "      <th>split_ratio</th>\n",
       "      <th>adj_open</th>\n",
       "      <th>adj_high</th>\n",
       "      <th>adj_low</th>\n",
       "      <th>adj_close</th>\n",
       "      <th>adj_volume</th>\n",
       "      <th>adj_range</th>\n",
       "    </tr>\n",
       "    <tr>\n",
       "      <th>date</th>\n",
       "      <th></th>\n",
       "      <th></th>\n",
       "      <th></th>\n",
       "      <th></th>\n",
       "      <th></th>\n",
       "      <th></th>\n",
       "      <th></th>\n",
       "      <th></th>\n",
       "      <th></th>\n",
       "      <th></th>\n",
       "      <th></th>\n",
       "      <th></th>\n",
       "      <th></th>\n",
       "      <th></th>\n",
       "    </tr>\n",
       "  </thead>\n",
       "  <tbody>\n",
       "    <tr>\n",
       "      <th>2012-01-06</th>\n",
       "      <td>AAPL</td>\n",
       "      <td>409.4000</td>\n",
       "      <td>422.750</td>\n",
       "      <td>409.00</td>\n",
       "      <td>422.40</td>\n",
       "      <td>41135900.0</td>\n",
       "      <td>0.0</td>\n",
       "      <td>1.0</td>\n",
       "      <td>52.613606</td>\n",
       "      <td>54.329267</td>\n",
       "      <td>52.562200</td>\n",
       "      <td>54.284287</td>\n",
       "      <td>287951300.0</td>\n",
       "      <td>0.453654</td>\n",
       "    </tr>\n",
       "    <tr>\n",
       "      <th>2012-01-13</th>\n",
       "      <td>AAPL</td>\n",
       "      <td>425.5001</td>\n",
       "      <td>427.750</td>\n",
       "      <td>418.66</td>\n",
       "      <td>419.81</td>\n",
       "      <td>46639800.0</td>\n",
       "      <td>0.0</td>\n",
       "      <td>1.0</td>\n",
       "      <td>54.682693</td>\n",
       "      <td>54.971837</td>\n",
       "      <td>53.803645</td>\n",
       "      <td>53.951436</td>\n",
       "      <td>326478600.0</td>\n",
       "      <td>0.230040</td>\n",
       "    </tr>\n",
       "    <tr>\n",
       "      <th>2012-01-20</th>\n",
       "      <td>AAPL</td>\n",
       "      <td>424.2000</td>\n",
       "      <td>431.369</td>\n",
       "      <td>419.75</td>\n",
       "      <td>420.30</td>\n",
       "      <td>42692900.0</td>\n",
       "      <td>0.0</td>\n",
       "      <td>1.0</td>\n",
       "      <td>54.515612</td>\n",
       "      <td>55.436929</td>\n",
       "      <td>53.943725</td>\n",
       "      <td>54.014408</td>\n",
       "      <td>298850300.0</td>\n",
       "      <td>0.995983</td>\n",
       "    </tr>\n",
       "    <tr>\n",
       "      <th>2012-01-27</th>\n",
       "      <td>AAPL</td>\n",
       "      <td>422.6700</td>\n",
       "      <td>454.450</td>\n",
       "      <td>419.55</td>\n",
       "      <td>447.28</td>\n",
       "      <td>86989600.0</td>\n",
       "      <td>0.0</td>\n",
       "      <td>1.0</td>\n",
       "      <td>54.318986</td>\n",
       "      <td>58.403159</td>\n",
       "      <td>53.918023</td>\n",
       "      <td>57.481714</td>\n",
       "      <td>608927200.0</td>\n",
       "      <td>0.605301</td>\n",
       "    </tr>\n",
       "    <tr>\n",
       "      <th>2012-02-03</th>\n",
       "      <td>AAPL</td>\n",
       "      <td>445.7100</td>\n",
       "      <td>460.000</td>\n",
       "      <td>445.39</td>\n",
       "      <td>459.68</td>\n",
       "      <td>54088100.0</td>\n",
       "      <td>0.0</td>\n",
       "      <td>1.0</td>\n",
       "      <td>57.279947</td>\n",
       "      <td>59.116411</td>\n",
       "      <td>57.238823</td>\n",
       "      <td>59.075287</td>\n",
       "      <td>378616700.0</td>\n",
       "      <td>0.570602</td>\n",
       "    </tr>\n",
       "  </tbody>\n",
       "</table>\n",
       "</div>"
      ],
      "text/plain": [
       "           ticker      open     high     low   close      volume  ex-dividend  \\\n",
       "date                                                                            \n",
       "2012-01-06   AAPL  409.4000  422.750  409.00  422.40  41135900.0          0.0   \n",
       "2012-01-13   AAPL  425.5001  427.750  418.66  419.81  46639800.0          0.0   \n",
       "2012-01-20   AAPL  424.2000  431.369  419.75  420.30  42692900.0          0.0   \n",
       "2012-01-27   AAPL  422.6700  454.450  419.55  447.28  86989600.0          0.0   \n",
       "2012-02-03   AAPL  445.7100  460.000  445.39  459.68  54088100.0          0.0   \n",
       "\n",
       "            split_ratio   adj_open   adj_high    adj_low  adj_close  \\\n",
       "date                                                                  \n",
       "2012-01-06          1.0  52.613606  54.329267  52.562200  54.284287   \n",
       "2012-01-13          1.0  54.682693  54.971837  53.803645  53.951436   \n",
       "2012-01-20          1.0  54.515612  55.436929  53.943725  54.014408   \n",
       "2012-01-27          1.0  54.318986  58.403159  53.918023  57.481714   \n",
       "2012-02-03          1.0  57.279947  59.116411  57.238823  59.075287   \n",
       "\n",
       "             adj_volume  adj_range  \n",
       "date                                \n",
       "2012-01-06  287951300.0   0.453654  \n",
       "2012-01-13  326478600.0   0.230040  \n",
       "2012-01-20  298850300.0   0.995983  \n",
       "2012-01-27  608927200.0   0.605301  \n",
       "2012-02-03  378616700.0   0.570602  "
      ]
     },
     "execution_count": 27,
     "metadata": {
     },
     "output_type": "execute_result"
    }
   ],
   "source": [
    "AAPL_week.head()"
   ]
  },
  {
   "cell_type": "markdown",
   "metadata": {
    "collapsed": false,
    "slideshow": {
     "slide_type": "slide"
    }
   },
   "source": [
    "**Warning:** Resampling data should be used carefully, as we would need to account individually for splitting and dividends, which might distort the avaialble info. The above example is mainly illustrative, and we need to be careful when working with non-adjusted resampled data."
   ]
  },
  {
   "cell_type": "markdown",
   "metadata": {
    "collapsed": false,
    "slideshow": {
     "slide_type": "skip"
    }
   },
   "source": [
    "## Visualising data"
   ]
  },
  {
   "cell_type": "markdown",
   "metadata": {
    "collapsed": false,
    "slideshow": {
     "slide_type": "slide"
    }
   },
   "source": [
    "### Plotting a price series\n",
    "\n",
    "Let's next plot the daily closing prices, and then the weekly returns."
   ]
  },
  {
   "cell_type": "code",
   "execution_count": 28,
   "metadata": {
    "collapsed": false,
    "nbpresent": {
     "id": "2c963c79-69dc-48f6-b75c-2fa3c20d41b1"
    }
   },
   "outputs": [
    {
     "data": {
      "text/plain": [
       "Text(0, 0.5, 'Close price per share (USD)')"
      ]
     },
     "execution_count": 28,
     "metadata": {
     },
     "output_type": "execute_result"
    },
    {
     "data": {
      "image/png": "[encoded data removed]",
      "text/plain": [
       "<Figure size 432x288 with 1 Axes>"
      ]
     },
     "execution_count": 28,
     "metadata": {
      "image/png": {
       "height": 267,
       "width": 388
      },
      "needs_background": "light"
     },
     "output_type": "execute_result"
    }
   ],
   "source": [
    "AAPL['close'].plot(title='Close price')\n",
    "plt.ylabel('Close price per share (USD)')"
   ]
  },
  {
   "cell_type": "markdown",
   "metadata": {
    "collapsed": false
   },
   "source": [
    "We see a huge drop in the closing value of apple shares around mid 2014... it seems like a very bad day. \n"
   ]
  },
  {
   "cell_type": "markdown",
   "metadata": {
    "collapsed": false,
    "slideshow": {
     "slide_type": "slide"
    }
   },
   "source": [
    "\n",
    "Actually, the story is different. Let us look at the splits and dividends paid on this stock"
   ]
  },
  {
   "cell_type": "code",
   "execution_count": 43,
   "metadata": {
    "collapsed": false
   },
   "outputs": [
    {
     "data": {
      "text/plain": [
       "<AxesSubplot:xlabel='date'>"
      ]
     },
     "execution_count": 43,
     "metadata": {
     },
     "output_type": "execute_result"
    },
    {
     "data": {
      "image/png": "[encoded data removed]",
      "text/plain": [
       "<Figure size 432x288 with 1 Axes>"
      ]
     },
     "execution_count": 43,
     "metadata": {
      "image/png": {
       "height": 251,
       "width": 362
      },
      "needs_background": "light"
     },
     "output_type": "execute_result"
    }
   ],
   "source": [
    "AAPL[['ex-dividend','split_ratio']].plot()"
   ]
  },
  {
   "cell_type": "markdown",
   "metadata": {
    "collapsed": false
   },
   "source": [
    "We can see that the hit in price is due to a split_ratio of 7 (i.e. each stock was exchanged for 7 new stocks on that day). This, of course, divided by 7 the value of each new stock. "
   ]
  },
  {
   "cell_type": "markdown",
   "metadata": {
    "collapsed": false,
    "slideshow": {
     "slide_type": "slide"
    }
   },
   "source": [
    "\n",
    "To compensate for this, and the dividend effect, adjusted series are frequently used when analysing stocks historically. Look at this plot now"
   ]
  },
  {
   "cell_type": "code",
   "execution_count": 30,
   "metadata": {
    "collapsed": false
   },
   "outputs": [
    {
     "data": {
      "text/plain": [
       "Text(0, 0.5, 'Close price adjusted per share (USD) ')"
      ]
     },
     "execution_count": 30,
     "metadata": {
     },
     "output_type": "execute_result"
    },
    {
     "data": {
      "image/png": "[encoded data removed]",
      "text/plain": [
       "<Figure size 432x288 with 1 Axes>"
      ]
     },
     "execution_count": 30,
     "metadata": {
      "image/png": {
       "height": 267,
       "width": 388
      },
      "needs_background": "light"
     },
     "output_type": "execute_result"
    }
   ],
   "source": [
    "AAPL['adj_close'].plot(title='Daily close price (adjusted)')\n",
    "plt.ylabel('Close price adjusted per share (USD) ')\n"
   ]
  },
  {
   "cell_type": "markdown",
   "metadata": {
    "collapsed": false
   },
   "source": [
    "This plot shows a very different story indeed!\n",
    "\n",
    "\n",
    "**Warning** In certain cases, adjusted data can add the problem of the timing of when was the adjustment made: sometimes, like when backtesting investment strategies, these timings might induce to mistakes.\n",
    "\n"
   ]
  },
  {
   "cell_type": "markdown",
   "metadata": {
    "collapsed": false,
    "slideshow": {
     "slide_type": "skip"
    }
   },
   "source": [
    "\n",
    "To check, let us plot the weekly equivalent."
   ]
  },
  {
   "cell_type": "code",
   "execution_count": 31,
   "metadata": {
    "collapsed": false,
    "slideshow": {
     "slide_type": "skip"
    }
   },
   "outputs": [
    {
     "data": {
      "text/plain": [
       "Text(0, 0.5, 'Close price adjusted per share (USD) ')"
      ]
     },
     "execution_count": 31,
     "metadata": {
     },
     "output_type": "execute_result"
    },
    {
     "data": {
      "image/png": "[encoded data removed]",
      "text/plain": [
       "<Figure size 432x288 with 1 Axes>"
      ]
     },
     "execution_count": 31,
     "metadata": {
      "image/png": {
       "height": 277,
       "width": 388
      },
      "needs_background": "light"
     },
     "output_type": "execute_result"
    }
   ],
   "source": [
    "AAPL_week['adj_close'].plot(title='Weekly close price (adjusted)')\n",
    "plt.ylabel('Close price adjusted per share (USD) ')"
   ]
  },
  {
   "cell_type": "markdown",
   "metadata": {
    "collapsed": false,
    "slideshow": {
     "slide_type": "slide"
    }
   },
   "source": [
    "Another useful plot appears when plotting simultaneously the adjusted high and low of each day. This gives us an idea of the intraday volatility"
   ]
  },
  {
   "cell_type": "code",
   "execution_count": 32,
   "metadata": {
    "collapsed": false
   },
   "outputs": [
    {
     "data": {
      "text/plain": [
       "Text(0, 0.5, 'Adjusted price')"
      ]
     },
     "execution_count": 32,
     "metadata": {
     },
     "output_type": "execute_result"
    },
    {
     "data": {
      "image/png": "[encoded data removed]",
      "text/plain": [
       "<Figure size 432x288 with 1 Axes>"
      ]
     },
     "execution_count": 32,
     "metadata": {
      "image/png": {
       "height": 267,
       "width": 388
      },
      "needs_background": "light"
     },
     "output_type": "execute_result"
    }
   ],
   "source": [
    "AAPL[['adj_high','adj_low']].plot(alpha=0.5)\n",
    "plt.title('High and low for Apple share (adjusted)')\n",
    "plt.xlabel('date')\n",
    "plt.ylabel('Adjusted price')"
   ]
  },
  {
   "cell_type": "markdown",
   "metadata": {
    "collapsed": false,
    "slideshow": {
     "slide_type": "slide"
    }
   },
   "source": [
    "### A histogram of log-returns\n",
    "\n",
    "Let's compute the weekly (gross) log returns. We can plot a series as a function of time as before. However, this time we might instead look at the histogram of past log-returns. We have\n",
    "\n",
    "$$  \\log\\left( R_{t+1} \\right) = \\log\\left( \\frac{S_{t+1}}{S_t}\\right) = \\log( S_{t+1})  - \\log({S_t})    $$\n",
    "\n",
    "\n",
    "A frequent assumption is that the sequence of log-returns is stationary. Note that this is exactly the type of assumption behind the geometric-Brownian motion model under which\n",
    "\n",
    "$$ S_{t+1} = S_t \\exp( \\sigma  Z_{t+1}) $$\n",
    "\n",
    "with $Z_{t+1} \\sim \\mathcal N(0,1) $ and $\\sigma$ a constant number.\n",
    "\n",
    "In the following, we calculate the log-returns and check if the process seems to be stationary. If so, we look at its associated histogram. \n"
   ]
  },
  {
   "cell_type": "markdown",
   "metadata": {
    "collapsed": false,
    "nbpresent": {
     "id": "2e7660fb-5a2b-4e28-b13c-509f54aeb6ba"
    },
    "slideshow": {
     "slide_type": "slide"
    }
   },
   "source": [
    "\n",
    "\n",
    "We compute first the log prices and then find the differences.\n"
   ]
  },
  {
   "cell_type": "code",
   "execution_count": 33,
   "metadata": {
    "collapsed": false
   },
   "outputs": [
    {
     "data": {
      "text/plain": [
       "date\n",
       "2012-01-06         NaN\n",
       "2012-01-13   -0.006151\n",
       "2012-01-20    0.001167\n",
       "2012-01-27    0.062216\n",
       "2012-02-03    0.027346\n",
       "Freq: W-FRI, Name: adj_close, dtype: float64"
      ]
     },
     "execution_count": 33,
     "metadata": {
     },
     "output_type": "execute_result"
    }
   ],
   "source": [
    "logp = np.log(AAPL_week['adj_close']) # Note that we can apply dircetly numpy functions to series or dataframe\n",
    "logr = logp.diff()  # This calculates the differences between entries\n",
    "logr.head()"
   ]
  },
  {
   "cell_type": "markdown",
   "metadata": {
    "collapsed": false
   },
   "source": [
    "It worked well... except for the first entry (clearly we cannot calculate the return 0). We just drop this line as follows"
   ]
  },
  {
   "cell_type": "code",
   "execution_count": 34,
   "metadata": {
    "collapsed": false
   },
   "outputs": [
    {
     "data": {
      "text/plain": [
       "date\n",
       "2012-01-13   -0.006151\n",
       "2012-01-20    0.001167\n",
       "2012-01-27    0.062216\n",
       "2012-02-03    0.027346\n",
       "2012-02-10    0.070830\n",
       "Freq: W-FRI, Name: adj_close, dtype: float64"
      ]
     },
     "execution_count": 34,
     "metadata": {
     },
     "output_type": "execute_result"
    }
   ],
   "source": [
    "logr.drop(logr.index[0], inplace=True)   # Find what is the first index and drop the row that has it. Note this is another instance where inplace is needed\n",
    "logr.head()"
   ]
  },
  {
   "cell_type": "markdown",
   "metadata": {
    "collapsed": false,
    "slideshow": {
     "slide_type": "slide"
    }
   },
   "source": [
    "Let us look at a time plot of the log returns"
   ]
  },
  {
   "cell_type": "code",
   "execution_count": 35,
   "metadata": {
    "collapsed": false
   },
   "outputs": [
    {
     "data": {
      "text/plain": [
       "Text(0, 0.5, 'One-week log-returns')"
      ]
     },
     "execution_count": 35,
     "metadata": {
     },
     "output_type": "execute_result"
    },
    {
     "data": {
      "image/png": "[encoded data removed]",
      "text/plain": [
       "<Figure size 432x288 with 1 Axes>"
      ]
     },
     "execution_count": 35,
     "metadata": {
      "image/png": {
       "height": 277,
       "width": 400
      },
      "needs_background": "light"
     },
     "output_type": "execute_result"
    }
   ],
   "source": [
    "logr.plot(style='.')\n",
    "plt.title('Weekly log returns - Apple share')\n",
    "plt.ylabel('One-week log-returns')"
   ]
  },
  {
   "cell_type": "markdown",
   "metadata": {
    "collapsed": false
   },
   "source": [
    "The plot does not seem to show any trend in mean: points seems to oscillate around a stable value. There seems to be a very slight change in volatility (points seem to be more clustered to the right of the plot.)\n"
   ]
  },
  {
   "cell_type": "markdown",
   "metadata": {
    "collapsed": false,
    "slideshow": {
     "slide_type": "slide"
    }
   },
   "source": [
    "\n",
    "We can use again the sampling functions with different summarising measures to check for the potential stability of means."
   ]
  },
  {
   "cell_type": "code",
   "execution_count": 44,
   "metadata": {
    "collapsed": false
   },
   "outputs": [
    {
     "data": {
      "text/plain": [
       "<AxesSubplot:title={'center':'Moving standard deviation of log-returns. Window: 6 months. '}, xlabel='date'>"
      ]
     },
     "execution_count": 44,
     "metadata": {
     },
     "output_type": "execute_result"
    },
    {
     "data": {
      "image/png": "[encoded data removed]",
      "text/plain": [
       "<Figure size 432x288 with 1 Axes>"
      ]
     },
     "execution_count": 44,
     "metadata": {
      "image/png": {
       "height": 277,
       "width": 403
      },
      "needs_background": "light"
     },
     "output_type": "execute_result"
    }
   ],
   "source": [
    "sd_diff = logr.resample('6M').std()\n",
    "sd_diff.plot(title='Moving standard deviation of log-returns. Window: 6 months. ', style='.')\n",
    "\n",
    "# Note that we do several commands here: first we resample by 6 months, then we sumarise with standard deviation and  then we plot"
   ]
  },
  {
   "cell_type": "markdown",
   "metadata": {
    "collapsed": false
   },
   "source": [
    "We conclude that some oscillation in the realised 6 month volatility is observed. Note that even if the true volatility would be constant this might be expected, as a 6 month sample means taking the realised volatility of around 6*4 = 24 weeks. Which is still relatively small. "
   ]
  },
  {
   "cell_type": "markdown",
   "metadata": {
    "collapsed": false,
    "slideshow": {
     "slide_type": "slide"
    }
   },
   "source": [
    "\n",
    "A statistical test could be performed to check if there is a first order dependence between two successive values.\n",
    "\n",
    "\n",
    "**Augmented Dickey-Fuller test:** This statistical test is based on the fitting an autoregressive model to the data as follows:\n",
    "\n",
    "$$ \\Delta y_{t+1} = \\alpha + \\beta t + \\gamma y_{t} + \\sum_{i=0}^p \\delta_p  \\Delta y_{t-p} +\\epsilon_t $$\n",
    "where $\\Delta y_s =  y_s-y_{s-1}$\n",
    "\n",
    "If the process is stationary (up to at some trend), we expect a tendency to return to the mean: we then expect $\\gamma<0$ in this case. The ADF test has as null hypothesis that $\\gamma =0$ and checks against $\\gamma\\leq 0$."
   ]
  },
  {
   "cell_type": "code",
   "execution_count": 45,
   "metadata": {
    "collapsed": false
   },
   "outputs": [
   ],
   "source": [
    "from statsmodels.tsa.stattools import adfuller"
   ]
  },
  {
   "cell_type": "code",
   "execution_count": 38,
   "metadata": {
    "collapsed": false
   },
   "outputs": [
    {
     "data": {
      "text/plain": [
       "5.670416651238719e-05"
      ]
     },
     "execution_count": 38,
     "metadata": {
     },
     "output_type": "execute_result"
    }
   ],
   "source": [
    "adfuller(logr)[1] # We reject the presence of a unit root if this value is very small (say less than 0.01)"
   ]
  },
  {
   "cell_type": "markdown",
   "metadata": {
    "collapsed": false
   },
   "source": [
    "Since we reject the null assumption, we get $\\gamma\\leq 0$. All in all, we do not have enough evidence to reject stationarity."
   ]
  },
  {
   "cell_type": "markdown",
   "metadata": {
    "collapsed": false,
    "slideshow": {
     "slide_type": "slide"
    }
   },
   "source": [
    "## Can we fit a known distribution?\n",
    "\n",
    "\n",
    "With the stationarity assumption, we can now focus on understanding if the data fits a know distribution. Let us look at the histogram of log-returns."
   ]
  },
  {
   "cell_type": "code",
   "execution_count": 39,
   "metadata": {
    "collapsed": false
   },
   "outputs": [
    {
     "data": {
      "text/plain": [
       "Text(0.5, 1.0, 'Histogram of weekly log-returns')"
      ]
     },
     "execution_count": 39,
     "metadata": {
     },
     "output_type": "execute_result"
    },
    {
     "data": {
      "image/png": "[encoded data removed]",
      "text/plain": [
       "<Figure size 432x288 with 1 Axes>"
      ]
     },
     "execution_count": 39,
     "metadata": {
      "image/png": {
       "height": 263,
       "width": 369
      },
      "needs_background": "light"
     },
     "output_type": "execute_result"
    }
   ],
   "source": [
    "logr.hist(density=True, bins=35)\n",
    "plt.title('Histogram of weekly log-returns')"
   ]
  },
  {
   "cell_type": "markdown",
   "metadata": {
    "collapsed": false,
    "slideshow": {
     "slide_type": "subslide"
    }
   },
   "source": [
    "It does not look very 'Gaussian'. For good measure, we use also a [qqplot](https://en.wikipedia.org/wiki/Q%E2%80%93Q_plot). It can be found on the stats submodule of Scipy"
   ]
  },
  {
   "cell_type": "code",
   "execution_count": 40,
   "metadata": {
    "collapsed": false
   },
   "outputs": [
    {
     "data": {
      "image/png": "[encoded data removed]",
      "text/plain": [
       "<Figure size 432x288 with 1 Axes>"
      ]
     },
     "execution_count": 40,
     "metadata": {
      "image/png": {
       "height": 277,
       "width": 400
      },
      "needs_background": "light"
     },
     "output_type": "execute_result"
    }
   ],
   "source": [
    "from scipy.stats import probplot\n",
    "probplot(logr, plot=plt); # The semicolon (;) avoids any output. plt=plot asks this function to plot the result using the matplotlib rendering engine"
   ]
  },
  {
   "cell_type": "markdown",
   "metadata": {
    "collapsed": false,
    "slideshow": {
     "slide_type": "skip"
    }
   },
   "source": [
    "The *probplot* function is a qqplot of the empirical weekly data against the best fit for a Gaussian distribution (using maximum likelihood). The result shows that the weekly returns do not look so far from a Gaussian, and for many applications they can be assumed so. \n"
   ]
  },
  {
   "cell_type": "markdown",
   "metadata": {
    "collapsed": false,
    "slideshow": {
     "slide_type": "slide"
    }
   },
   "source": [
    "Note, however, that the Gaussian distribution largely sub-estimates negative returns (i.e. losses) that are larger than 2 standard deviations. \n",
    "\n",
    "Indeed, as in the course, the quantiles of the approximation can be found by taking $E[X] + {\\rm sd(X)}\\Phi^{-1}(X)$. We get"
   ]
  },
  {
   "cell_type": "code",
   "execution_count": 41,
   "metadata": {
    "collapsed": false
   },
   "outputs": [
    {
     "name": "stdout",
     "output_type": "stream",
     "text": [
      "The lowest 1% quantile of returns:  -0.09302811225797855 . The lowest 1% quantile using a Gaussian fit  -0.07892222162000649\n"
     ]
    }
   ],
   "source": [
    "mean_logr = logr.mean()\n",
    "sd_logr = logr.std()\n",
    "from scipy.stats import norm\n",
    "\n",
    "print('The lowest 1% quantile of returns: ', logr.quantile(0.01), '. The lowest 1% quantile using a Gaussian fit ', mean_logr + sd_logr*norm.ppf(0.01))\n"
   ]
  },
  {
   "cell_type": "markdown",
   "metadata": {
    "collapsed": false
   },
   "source": [
    "Clearly we subestimate possible losses. This is inconvenient for VaR computations."
   ]
  },
  {
   "cell_type": "markdown",
   "metadata": {
    "collapsed": false,
    "slideshow": {
     "slide_type": "skip"
    }
   },
   "source": [
    "## Exercises"
   ]
  },
  {
   "cell_type": "markdown",
   "metadata": {
    "collapsed": false,
    "slideshow": {
     "slide_type": "skip"
    }
   },
   "source": [
    "1. Using the information on the Apple stock in this notebook, calculate a time series with the mean and standard deviation of daily returns within a month."
   ]
  },
  {
   "cell_type": "code",
   "execution_count": 0,
   "metadata": {
    "collapsed": false,
    "slideshow": {
     "slide_type": "skip"
    }
   },
   "outputs": [
   ],
   "source": [
   ]
  },
  {
   "cell_type": "markdown",
   "metadata": {
    "collapsed": false,
    "slideshow": {
     "slide_type": "skip"
    }
   },
   "source": [
    "2 Assume that an investor buys 1000 USD worth of an Apple share on the 3 January 2012.\n",
    "\n",
    "a) What would be the total value of the investment (including dividends) on December 1 2017?\n",
    "\n",
    "b) Make a histogram with the *daily net* returns of this investor, and check for normality.\n",
    "\n",
    "c) Find the $90%$ VaR of the daily net returns from the empirical distribution."
   ]
  },
  {
   "cell_type": "code",
   "execution_count": 0,
   "metadata": {
    "collapsed": false
   },
   "outputs": [
   ],
   "source": [
   ]
  }
 ],
 "metadata": {
  "anaconda-cloud": {
  },
  "kernelspec": {
   "display_name": "Python 3 (system-wide)",
   "language": "python",
   "metadata": {
    "cocalc": {
     "description": "Python 3 programming language",
     "priority": 100,
     "url": "https://www.python.org/"
    }
   },
   "name": "python3"
  },
  "language_info": {
   "codemirror_mode": {
    "name": "ipython",
    "version": 3
   },
   "file_extension": ".py",
   "mimetype": "text/x-python",
   "name": "python",
   "nbconvert_exporter": "python",
   "pygments_lexer": "ipython3",
   "version": "3.8.5"
  },
  "toc": {
   "base_numbering": 1,
   "nav_menu": {
   },
   "number_sections": true,
   "sideBar": true,
   "skip_h1_title": true,
   "title_cell": "Table of Contents",
   "title_sidebar": "Contents",
   "toc_cell": true,
   "toc_position": {
   },
   "toc_section_display": true,
   "toc_window_display": false
  }
 },
 "nbformat": 4,
 "nbformat_minor": 4
}