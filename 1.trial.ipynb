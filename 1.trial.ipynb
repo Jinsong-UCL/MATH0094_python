{
 "cells": [
  {
   "cell_type": "code",
   "execution_count": 1,
   "metadata": {
    "collapsed": true
   },
   "outputs": [
    {
     "name": "stdout",
     "output_type": "stream",
     "text": [
      "[-1, 1, 2, 3, 4, 5]\n"
     ]
    }
   ],
   "source": [
    "number_list = [0,1,2,3,4,5]\n",
    "anotherA_list = number_list\n",
    "anotherA_list[0] = -1\n",
    "print(number_list)"
   ]
  },
  {
   "cell_type": "markdown",
   "source": [
    "Python give & as the number passes\n"
   ],
   "metadata": {
    "collapsed": false
   }
  }
 ],
 "metadata": {
  "kernelspec": {
   "name": "pycharm-ceef65c4",
   "language": "python",
   "display_name": "PyCharm (1. Introduction.ipynb)"
  },
  "language_info": {
   "codemirror_mode": {
    "name": "ipython",
    "version": 2
   },
   "file_extension": ".py",
   "mimetype": "text/x-python",
   "name": "python",
   "nbconvert_exporter": "python",
   "pygments_lexer": "ipython2",
   "version": "2.7.6"
  }
 },
 "nbformat": 4,
 "nbformat_minor": 0
}