{
 "cells": [
  {
   "cell_type": "markdown",
   "metadata": {
    "collapsed": false
   },
   "source": [
    "# Mean-variance analysis with simulated data \n",
    "**Camilo A. Garcia Trillos - 2020**"
   ]
  },
  {
   "cell_type": "markdown",
   "metadata": {
    "collapsed": false
   },
   "source": [
    "## In this class\n",
    "\n",
    "    - We are implementing a Markowitz portfolio optimization, after some simulations (loosely based on a version on the blog http://blog.quantopian.com).\n",
    "    - We learn how to perform an optimisation using the scipy package.\n",
    "    "
   ]
  },
  {
   "cell_type": "code",
   "execution_count": 0,
   "metadata": {
    "collapsed": false,
    "trusted": false
   },
   "outputs": [
   ],
   "source": [
    "%matplotlib inline\n",
    "import numpy as np\n",
    "import matplotlib.pyplot as plt\n",
    "import pandas as pd\n",
    "from scipy.optimize import minimize\n",
    "np.random.seed(123)"
   ]
  },
  {
   "cell_type": "markdown",
   "metadata": {
    "collapsed": false
   },
   "source": [
    "## Markowitz mean-variance analysis\n",
    "\n",
    "In this class we will start by simulated random data. Later we will learn how to use actual stock data. \n",
    "\n",
    "Assume that we have $4$ assets, each with a return series of length $1000$. We can use numpy.random.randn to sample returns from a normal distribution (recall Class A)."
   ]
  },
  {
   "cell_type": "code",
   "execution_count": 0,
   "metadata": {
    "collapsed": false,
    "trusted": false
   },
   "outputs": [
   ],
   "source": [
    "## NUMBER OF ASSETS\n",
    "n_assets = 4\n",
    "\n",
    "## NUMBER OF OBSERVATIONS\n",
    "n_obs = 1000\n",
    "\n",
    "## VECTOR OF MEANS\n",
    "mu_bar = np.array([0.,0.,0., 0.])\n",
    "#mu_bar = np.array([0.001,0.002,0.005, 0.008])\n",
    "\n",
    "## MATRIX OF COVARIANCE\n",
    "\n",
    "#With this auxSigma matrix, inverting is stable\n",
    "auxSigma = np.array ( [[1.,0.,0.,0.],[0,1,0,0],[0,0,1,0],[0,0,0,1]]) \n",
    "\n",
    "#With this auxSigma matrix, inverting is less stable\n",
    "#auxSigma = np.array ( [[2,0.,0.,0.],[-0.2,0.7,0,0],[-0.3,0.4,0.7,0],[0.1,0.4,0.4,2.3]]) \n",
    "\n",
    "Sigma_exact =auxSigma.T@auxSigma\n",
    "print (Sigma_exact)"
   ]
  },
  {
   "cell_type": "code",
   "execution_count": 0,
   "metadata": {
    "collapsed": false,
    "trusted": false
   },
   "outputs": [
   ],
   "source": [
    "return_vec = np.random.multivariate_normal(mu_bar,Sigma_exact,n_obs)\n",
    "print (return_vec.shape)"
   ]
  },
  {
   "cell_type": "code",
   "execution_count": 0,
   "metadata": {
    "collapsed": false,
    "trusted": false
   },
   "outputs": [
   ],
   "source": [
    "plt.plot(return_vec, alpha=0.3);\n",
    "plt.xlabel('Time')\n",
    "plt.ylabel('Returns')"
   ]
  },
  {
   "cell_type": "markdown",
   "metadata": {
    "collapsed": false
   },
   "source": [
    "### Random portfolios"
   ]
  },
  {
   "cell_type": "markdown",
   "metadata": {
    "collapsed": false
   },
   "source": [
    "Let's generate a couple of random portfolios. Let's assume for the moment that we restrict ourselves to have \"long-only\" portfolios, that is, the weights are nonnegative."
   ]
  },
  {
   "cell_type": "code",
   "execution_count": 0,
   "metadata": {
    "collapsed": false,
    "trusted": false
   },
   "outputs": [
   ],
   "source": [
    "def rand_weights_pos(n):\n",
    "    k = np.random.rand(n)\n",
    "    return k / sum(k)\n",
    "\n",
    "print(rand_weights_pos(n_assets))\n",
    "print(rand_weights_pos(n_assets))"
   ]
  },
  {
   "cell_type": "markdown",
   "metadata": {
    "collapsed": false
   },
   "source": [
    "Let's next compute the expected return and standard deviation for a portfolio."
   ]
  },
  {
   "cell_type": "code",
   "execution_count": 0,
   "metadata": {
    "collapsed": false,
    "trusted": false
   },
   "outputs": [
   ],
   "source": [
    "def random_portfolio(returns, weights):\n",
    "    if returns.shape[1] != weights.shape[0]:\n",
    "        print(\"Error: MSG by random_portfolio: dimensions don't fit\")\n",
    "        return 0\n",
    "\n",
    "    w = np.asmatrix(weights)\n",
    "    p = np.asmatrix(np.mean(returns, axis=0))\n",
    "    C = np.asmatrix(np.cov(returns.T))\n",
    "    \n",
    "    mu = w * p.T\n",
    "    sigma = np.sqrt(w * C * w.T)\n",
    "    \n",
    "    return mu, sigma"
   ]
  },
  {
   "cell_type": "markdown",
   "metadata": {
    "collapsed": false
   },
   "source": [
    "Now, let's plot several such random risk-return profiles:"
   ]
  },
  {
   "cell_type": "code",
   "execution_count": 0,
   "metadata": {
    "collapsed": false,
    "trusted": false
   },
   "outputs": [
   ],
   "source": [
    "n_portfolios = 3000\n",
    "means, stds = np.column_stack([random_portfolio(return_vec, rand_weights_pos(n_assets)) \n",
    "                               for _ in range(n_portfolios)])\n",
    "plt.plot(stds, means,'o', markersize=5)\n",
    "plt.xlabel('std')\n",
    "plt.ylabel('mean')\n",
    "plt.title('Mean and standard deviation of returns of randomly generated portfolios (long-only)')"
   ]
  },
  {
   "cell_type": "code",
   "execution_count": 0,
   "metadata": {
    "collapsed": false,
    "trusted": false
   },
   "outputs": [
   ],
   "source": [
    "def rand_weights_unconstrained(n):\n",
    "    k = np.random.rand(n)*2-1      # Uniformly distributed on [-1,1]\n",
    "    return k / sum(k)\n",
    "\n",
    "means_unc, stds_unc = np.column_stack([random_portfolio(return_vec, \n",
    "                        rand_weights_unconstrained(n_assets)) for _ in range(2 * n_portfolios)])\n",
    "plt.plot(stds_unc, means_unc, 'og', markersize=5)\n",
    "plt.xlabel('std')\n",
    "plt.ylabel('mean')\n",
    "plt.title('Mean and standard deviation of returns of randomly generated portfolios')"
   ]
  },
  {
   "cell_type": "code",
   "execution_count": 0,
   "metadata": {
    "collapsed": false,
    "trusted": false
   },
   "outputs": [
   ],
   "source": [
    "plt.plot(stds_unc[stds_unc<0.9], means_unc[stds_unc<0.9], 'og', \n",
    "         markersize=5, alpha=0.4)\n",
    "plt.plot(stds, means, 'o', markersize=5, alpha=0.2)\n",
    "plt.xlabel('std')\n",
    "plt.ylabel('mean')\n",
    "plt.title('Mean and standard deviation of returns of randomly generated portfolios')"
   ]
  },
  {
   "cell_type": "markdown",
   "metadata": {
    "collapsed": false
   },
   "source": [
    "Let us now check the covariance matrix and find its inverse."
   ]
  },
  {
   "cell_type": "code",
   "execution_count": 0,
   "metadata": {
    "collapsed": false,
    "trusted": false
   },
   "outputs": [
   ],
   "source": [
    "Sigma = np.cov(return_vec.T)\n",
    "print(Sigma)"
   ]
  },
  {
   "cell_type": "markdown",
   "metadata": {
    "collapsed": false
   },
   "source": [
    "Let us check the stability of the matrix with the condioned number"
   ]
  },
  {
   "cell_type": "code",
   "execution_count": 0,
   "metadata": {
    "collapsed": false,
    "trusted": false
   },
   "outputs": [
   ],
   "source": [
    "np.linalg.cond(Sigma)"
   ]
  },
  {
   "cell_type": "markdown",
   "metadata": {
    "collapsed": false
   },
   "source": [
    "This is not too bad. We could move on without expecting major stability problems."
   ]
  },
  {
   "cell_type": "code",
   "execution_count": 0,
   "metadata": {
    "collapsed": false,
    "trusted": false
   },
   "outputs": [
   ],
   "source": [
    "Sigma_inv = np.linalg.inv(Sigma)"
   ]
  },
  {
   "cell_type": "markdown",
   "metadata": {
    "collapsed": false
   },
   "source": [
    "### Markowitz, as done in the lecture notes"
   ]
  },
  {
   "cell_type": "code",
   "execution_count": 0,
   "metadata": {
    "collapsed": false,
    "trusted": false
   },
   "outputs": [
   ],
   "source": [
    "def Markowitz_weights(Sigma, mean_returns, mu_p):\n",
    "    S_inv = np.linalg.inv(Sigma)\n",
    "    pi_mu = S_inv @ (mean_returns)/sum(S_inv @ mean_returns)\n",
    "    pi_1 = np.sum(S_inv, axis = 1) / sum(np.sum(S_inv, axis = 1) )\n",
    "    lambda_demoninator = (mean_returns @ pi_mu) - (mean_returns@pi_1)\n",
    "    ll = np.array((mu_p - (mean_returns @ pi_1))/lambda_demoninator)\n",
    "    # previous line: to convert into array in case that mu_p is a single number\n",
    "    ll.shape=(ll.size,1)\n",
    "    return pi_mu * ll + pi_1 * (1-ll)"
   ]
  },
  {
   "cell_type": "markdown",
   "metadata": {
    "collapsed": false
   },
   "source": [
    "Remark: recall from the lecture that Markowitz needs at least two expected returns to differ. This is not the case via our simulated data. Indeed, any portfolio will have a zero expected return and the equally weighted portfolio will have the smallest variance. Let's just proceed, nevertheless, and see how far we get ... "
   ]
  },
  {
   "cell_type": "code",
   "execution_count": 0,
   "metadata": {
    "collapsed": false,
    "trusted": false
   },
   "outputs": [
   ],
   "source": [
    "Sigma = np.cov(return_vec.T)\n",
    "mean_returns = np.mean(return_vec, axis = 0)\n",
    "Markowitz_weights(Sigma, mean_returns, 0.05)"
   ]
  },
  {
   "cell_type": "code",
   "execution_count": 0,
   "metadata": {
    "collapsed": false,
    "trusted": false
   },
   "outputs": [
   ],
   "source": [
    "mu_p = np.arange(0.02,0.06,0.002)"
   ]
  },
  {
   "cell_type": "code",
   "execution_count": 0,
   "metadata": {
    "collapsed": false,
    "trusted": false
   },
   "outputs": [
   ],
   "source": [
    "Markowitz_weights(Sigma, mean_returns, mu_p)"
   ]
  },
  {
   "cell_type": "code",
   "execution_count": 0,
   "metadata": {
    "collapsed": false,
    "trusted": false
   },
   "outputs": [
   ],
   "source": [
    "Mw1 = _"
   ]
  },
  {
   "cell_type": "markdown",
   "metadata": {
    "collapsed": false
   },
   "source": [
    "### Markowitz via an optimization algorithm"
   ]
  },
  {
   "cell_type": "markdown",
   "metadata": {
    "collapsed": false
   },
   "source": [
    "Next a different that also allows for additional constraints (e.g., nonnegative portfolio weights). "
   ]
  },
  {
   "cell_type": "code",
   "execution_count": 0,
   "metadata": {
    "collapsed": false,
    "trusted": false
   },
   "outputs": [
   ],
   "source": [
    "from scipy.optimize import minimize\n",
    "\n",
    "minimize?\n"
   ]
  },
  {
   "cell_type": "code",
   "execution_count": 0,
   "metadata": {
    "collapsed": false,
    "trusted": false
   },
   "outputs": [
   ],
   "source": [
    "def Markowitz_weights_opt(Sigma, mean_returns, mu_p, nonnegative = False, print_info = False):\n",
    "    \n",
    "    n = Sigma.shape[0]    \n",
    "    mu_p_vect = np.array(mu_p)\n",
    "    mu_p_vect.shape = (mu_p_vect.size,)\n",
    "    # previous lines: to convert into array in case that mu_p is a single number\n",
    "    portfolios = []\n",
    "    x0 = np.ones(n)/n\n",
    "\n",
    "    cost_fun = lambda x: (x@Sigma)@x\n",
    "    \n",
    "    for mu_p in mu_p_vect:        \n",
    "        \n",
    "        if nonnegative:\n",
    "            cons = ({'type': 'eq', 'fun': lambda x: x@mean_returns - mu_p},\n",
    "                    {'type': 'eq', 'fun': lambda x: x@np.ones(n) - 1},\n",
    "                    {'type': 'ineq', 'fun': lambda x: x})\n",
    "\n",
    "        else:\n",
    "            cons = ({'type': 'eq', 'fun': lambda x: x@mean_returns - mu_p},\n",
    "                    {'type': 'eq', 'fun': lambda x: x@np.ones(n) - 1})\n",
    "                   \n",
    "        # Calculate efficient frontier weights using quadratic programming\n",
    "        res = minimize(cost_fun, x0, method = 'SLSQP', constraints=cons)\n",
    "        if print_info:\n",
    "            print(mu_p, res)\n",
    "        portfolios.append(res.x)\n",
    "    \n",
    "    \n",
    "\n",
    "    # Turning the portfolios into a numpy array\n",
    "    portfolios = np.array([np.array(p).squeeze() for p in portfolios])\n",
    "    \n",
    "    return portfolios"
   ]
  },
  {
   "cell_type": "code",
   "execution_count": 0,
   "metadata": {
    "collapsed": false,
    "trusted": false
   },
   "outputs": [
   ],
   "source": [
    "Markowitz_weights_opt(Sigma, mean_returns, 0.012)"
   ]
  },
  {
   "cell_type": "markdown",
   "metadata": {
    "collapsed": false
   },
   "source": [
    "In the following yet another implementation. Now, we are using the constraint $\\mu^T \\pi \\geq \\mu_p$ instead of $\\mu^T \\pi = \\mu_p$."
   ]
  },
  {
   "cell_type": "code",
   "execution_count": 0,
   "metadata": {
    "collapsed": false,
    "trusted": false
   },
   "outputs": [
   ],
   "source": [
    "def Markowitz_weights_optIneq(Sigma, mean_returns, mu_p_vect, nonnegative = False, print_info = False):\n",
    "    \n",
    "    n = Sigma.shape[0]    \n",
    "    mu_p_vect = np.array(mu_p_vect)\n",
    "    mu_p_vect.shape = (mu_p_vect.size,)\n",
    "    # previous lines: to convert into array in case that mu_p is a single number\n",
    "    portfolios = []\n",
    "    x0 = np.ones(n)/n\n",
    "\n",
    "    cost_fun = lambda x: (x@Sigma)@x\n",
    "    \n",
    "    for mu_p in mu_p_vect:        \n",
    "        \n",
    "        if nonnegative:\n",
    "            cons = ({'type': 'ineq', 'fun': lambda x: x@mean_returns - mu_p},\n",
    "                    {'type': 'eq', 'fun': lambda x: x@np.ones(n) - 1},\n",
    "                    {'type': 'ineq', 'fun': lambda x: x})\n",
    "\n",
    "        else:\n",
    "            cons = ({'type': 'ineq', 'fun': lambda x: x@mean_returns - mu_p},\n",
    "                    {'type': 'eq', 'fun': lambda x: x@np.ones(n) - 1})\n",
    "                   \n",
    "        # Calculate efficient frontier weights using quadratic programming\n",
    "        res = minimize(cost_fun, x0, method = 'SLSQP', constraints=cons)\n",
    "        if print_info:\n",
    "            print(mu_p, res)\n",
    "        portfolios.append(res.x)\n",
    "        \n",
    "    # Calculate efficient frontier weights using quadratic programming\n",
    "    #portfolios = [opt.solvers.qp(S, opt.matrix(np.zeros(n)), G, h, A, opt.matrix([1.0,mu]))['x'] \n",
    "    #              for mu in mu_p]\n",
    "\n",
    "    # Turning the portfolios into a numpy array\n",
    "    portfolios = np.array([np.array(p).squeeze() for p in portfolios])\n",
    "    \n",
    "    return portfolios"
   ]
  },
  {
   "cell_type": "code",
   "execution_count": 0,
   "metadata": {
    "collapsed": false,
    "trusted": false
   },
   "outputs": [
   ],
   "source": [
    "Markowitz_weights_opt(Sigma, mean_returns, 0.02)"
   ]
  },
  {
   "cell_type": "code",
   "execution_count": 0,
   "metadata": {
    "collapsed": false,
    "trusted": false
   },
   "outputs": [
   ],
   "source": [
    "Markowitz_weights_optIneq(Sigma, mean_returns, 0.02)"
   ]
  },
  {
   "cell_type": "code",
   "execution_count": 0,
   "metadata": {
    "collapsed": false,
    "trusted": false
   },
   "outputs": [
   ],
   "source": [
    "Markowitz_weights_opt(Sigma, mean_returns, mu_p)"
   ]
  },
  {
   "cell_type": "code",
   "execution_count": 0,
   "metadata": {
    "collapsed": false,
    "trusted": false
   },
   "outputs": [
   ],
   "source": [
    "Markowitz_weights_optIneq(Sigma, mean_returns, mu_p)"
   ]
  },
  {
   "cell_type": "code",
   "execution_count": 0,
   "metadata": {
    "collapsed": false,
    "trusted": false
   },
   "outputs": [
   ],
   "source": [
    "Mw1"
   ]
  },
  {
   "cell_type": "markdown",
   "metadata": {
    "collapsed": false
   },
   "source": [
    "All three methods therefore yield more or less the same portfolio, which is nice ...  (Markowitz_weights_optIneq only have an inequality constraint and yields results that have further away from the other two approaches).\n",
    "\n",
    "\n",
    "(If we run again the problem with different means and variances the solution with inequality constraints drift further away. This is simply because those means cannot be attained using only positive portfolios).\n"
   ]
  },
  {
   "cell_type": "code",
   "execution_count": 0,
   "metadata": {
    "collapsed": false,
    "trusted": false
   },
   "outputs": [
   ],
   "source": [
    "portfolio_mu = [mean_returns @ x for x in Mw1]"
   ]
  },
  {
   "cell_type": "code",
   "execution_count": 0,
   "metadata": {
    "collapsed": false,
    "trusted": false
   },
   "outputs": [
   ],
   "source": [
    "portfolio_mu"
   ]
  },
  {
   "cell_type": "code",
   "execution_count": 0,
   "metadata": {
    "collapsed": false,
    "trusted": false
   },
   "outputs": [
   ],
   "source": [
    "portfolio_sigma = [np.sqrt((x@Sigma)@x) for x in Mw1]"
   ]
  },
  {
   "cell_type": "code",
   "execution_count": 0,
   "metadata": {
    "collapsed": false,
    "trusted": false
   },
   "outputs": [
   ],
   "source": [
    "portfolio_sigma"
   ]
  },
  {
   "cell_type": "code",
   "execution_count": 0,
   "metadata": {
    "collapsed": false,
    "trusted": false
   },
   "outputs": [
   ],
   "source": [
    "plt.plot(stds, means, 'o', markersize=3)\n",
    "plt.plot(stds_unc[stds_unc<1], means_unc[stds_unc<1], 'og', \n",
    "         markersize=3, alpha=0.4)\n",
    "plt.ylabel('mean')\n",
    "plt.xlabel('std')\n",
    "plt.plot(portfolio_sigma, portfolio_mu, 'ro')\n",
    "plt.title('Random portfolios and mean-variance frontier')"
   ]
  },
  {
   "cell_type": "code",
   "execution_count": 0,
   "metadata": {
    "collapsed": false,
    "trusted": false
   },
   "outputs": [
   ],
   "source": [
   ]
  }
 ],
 "metadata": {
  "anaconda-cloud": {
  },
  "kernelspec": {
   "display_name": "Python 3 (system-wide)",
   "language": "python",
   "metadata": {
    "cocalc": {
     "description": "Python 3 programming language",
     "priority": 100,
     "url": "https://www.python.org/"
    }
   },
   "name": "python3"
  },
  "language_info": {
   "codemirror_mode": {
    "name": "ipython",
    "version": 3
   },
   "file_extension": ".py",
   "mimetype": "text/x-python",
   "name": "python",
   "nbconvert_exporter": "python",
   "pygments_lexer": "ipython3",
   "version": "3.8.5"
  },
  "toc": {
   "base_numbering": 1,
   "nav_menu": {
   },
   "number_sections": true,
   "sideBar": true,
   "skip_h1_title": true,
   "title_cell": "Table of Contents",
   "title_sidebar": "Contents",
   "toc_cell": true,
   "toc_position": {
   },
   "toc_section_display": true,
   "toc_window_display": false
  }
 },
 "nbformat": 4,
 "nbformat_minor": 4
}