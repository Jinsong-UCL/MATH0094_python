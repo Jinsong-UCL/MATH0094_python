{
 "cells": [
  {
   "cell_type": "markdown",
   "metadata": {
    "collapsed": false
   },
   "source": [
    "# Backtesting\n",
    "**Camilo Garcia Trillos 2020**\n",
    "\n",
    "## In this notebook\n",
    "\n",
    "In this notebook, we continue our work on estimating Value at Risk (at level 99%) and Expected Shortfall (at level 95%) for one stock (simplest case), by focusing in backtetsing these risk measures."
   ]
  },
  {
   "cell_type": "markdown",
   "metadata": {
    "collapsed": false
   },
   "source": [
    "Since we are continuing the work we initiated the previous week, we will run from this notebook notebook with '11. Risk measure estimation', and build on top of the results. It is recommended that you open also this file in parallel to this one, in case you have any doubts in the notation.\n",
    "\n",
    "Now, to import that file and its results in Jupyter notebooks, we can use the magic command 'run' (To do so in pure Python we can import one file into another using import)."
   ]
  },
  {
   "cell_type": "code",
   "execution_count": 0,
   "metadata": {
    "collapsed": false
   },
   "outputs": [
   ],
   "source": [
    "%run \"~/Notebooks/Week 9/11. Risk measure estimation.ipynb\""
   ]
  },
  {
   "cell_type": "markdown",
   "metadata": {
    "collapsed": false
   },
   "source": [
    "## Rolling calculation and backtesting"
   ]
  },
  {
   "cell_type": "markdown",
   "metadata": {
    "collapsed": true
   },
   "source": [
    "Having recovered the calculations of that notebook, we can start the backtesting task by constructing a database with only the information that we need."
   ]
  },
  {
   "cell_type": "code",
   "execution_count": 0,
   "metadata": {
    "collapsed": false
   },
   "outputs": [
   ],
   "source": [
    "sub_aig_data = pd.DataFrame(aig_data['adj_close'])\n",
    "sub_aig_data['P_and_L'] = sub_aig_data['adj_close'].diff()\n",
    "sub_aig_data['log_price'] = np.log(sub_aig_data['adj_close'])\n",
    "sub_aig_data['log_returns'] = sub_aig_data['log_price'].diff()\n",
    "sub_aig_data.drop(sub_aig_data.index[0], inplace=True)\n",
    "sub_aig_data.head()"
   ]
  },
  {
   "cell_type": "markdown",
   "metadata": {
    "collapsed": false
   },
   "source": [
    "Now, we are going to build a function that, receives the above database, and returns the database after adding columns for:\n",
    "- The closed form approximated VaR at level alpha_VaR\n",
    "- The historical simulated VaR at level alpha_VaR\n",
    "- The closed form approximated ES at level alpha_ES\n",
    "- The historical simulated ES at level alpha_ES\n",
    "\n",
    "The function starts to fill the rows at a given date 'first_calc_date' and, unless specified the number of days in rolling history to use, uses the whole history up to that point for the calculation.\n",
    "\n",
    "**Note:** The function is not designed for optimal performance."
   ]
  },
  {
   "cell_type": "code",
   "execution_count": 0,
   "metadata": {
    "collapsed": false
   },
   "outputs": [
   ],
   "source": [
    "def risk_approx( data, first_calc_date, alpha_var, alpha_es, window_size =None):\n",
    "    \n",
    "    calc_dates_vect = data.index[data.index>= first_calc_date]\n",
    "    \n",
    "    #Creates the new columns and fills with NAN (not a number). This is the Panda's identifier for missing data.\n",
    "    \n",
    "    data['VaR_CF'] =  np.empty(data['adj_close'].count()) * np.nan\n",
    "    data['VaR_HS'] = np.empty(data['adj_close'].count()) * np.nan\n",
    "    data['ES_CF'] = np.empty(data['adj_close'].count()) * np.nan\n",
    "    data['ES_HS'] = np.empty(data['adj_close'].count()) * np.nan\n",
    "    \n",
    "    for mdate in calc_dates_vect:\n",
    "        aux_data = data[data.index < mdate]      # Choosing only the data of previous days\n",
    "        if window_size != None:\n",
    "            aux_data = aux_data.tail(window_size)\n",
    "        \n",
    "        #### Calculate the closed form Gaussian approximations\n",
    "        \n",
    "        \n",
    "        # Estimate mean and variance\n",
    "        mu = aux_data['log_returns'].mean()\n",
    "        sigma = aux_data['log_returns'].std(ddof=1)    \n",
    "\n",
    "        \n",
    "        # Use closed form formulas\n",
    "        data.loc[mdate, 'VaR_CF'] =  data.loc[mdate, 'adj_close']* ( sigma*stats.norm.ppf(alpha_var) - mu )\n",
    "        data.loc[mdate, 'ES_CF'] =  data.loc[mdate, 'adj_close']* ( sigma* stats.norm.pdf(stats.norm.ppf(alpha_es))/(1-alpha_es)\n",
    "                                                                    - mu )\n",
    "        \n",
    "        #### Historical simulation\n",
    "\n",
    "        hs_prices = data.loc[mdate, 'adj_close']*(np.exp(aux_data['log_returns'])-1)\n",
    "        hs_prices.sort_values(inplace=True)\n",
    "        ind_var = int( hs_prices.size * (1-alpha_var))-1\n",
    "        ind_es = int( hs_prices.size * (1-alpha_es))-1\n",
    "        \n",
    "        data.loc[mdate, 'VaR_HS'] = -1*hs_prices.iloc[ind_var]\n",
    "        data.loc[mdate, 'ES_HS'] = -1*hs_prices.iloc[:ind_es+1].mean()\n",
    "    \n",
    "    return data"
   ]
  },
  {
   "cell_type": "markdown",
   "metadata": {
    "collapsed": true
   },
   "source": [
    "Note that we calculated the risk measures for each date using only the information available **before** that date."
   ]
  },
  {
   "cell_type": "code",
   "execution_count": 0,
   "metadata": {
    "collapsed": false
   },
   "outputs": [
   ],
   "source": [
    "sub_aig_data2= risk_approx(sub_aig_data,'20080101',0.99,0.975)"
   ]
  },
  {
   "cell_type": "code",
   "execution_count": 0,
   "metadata": {
    "collapsed": false
   },
   "outputs": [
   ],
   "source": [
    "sub_aig_data2 = sub_aig_data2[sub_aig_data2.index>'20080101']\n",
    "sub_aig_data2[['VaR_CF','VaR_HS','ES_CF','ES_HS']].plot(alpha=0.5)\n",
    "plt.plot(-1*sub_aig_data2['P_and_L'][-1*sub_aig_data2['P_and_L']>sub_aig_data2['VaR_CF'] ]  , 'r.', alpha=0.3)"
   ]
  },
  {
   "cell_type": "markdown",
   "metadata": {
    "collapsed": true
   },
   "source": [
    "In the previous plot we show the calculated risk measures and the exceedances over the closed form value at risk, that is the occasions for which the losses where larger than the estimated value. Note that they seem to concentrate before year 2010. Let us make a zoom"
   ]
  },
  {
   "cell_type": "code",
   "execution_count": 0,
   "metadata": {
    "collapsed": false
   },
   "outputs": [
   ],
   "source": [
    "sub_aig_data2 = sub_aig_data2[ (sub_aig_data2.index>'20080101') & (sub_aig_data2.index<'20100101') ]\n",
    "sub_aig_data2[['VaR_CF','VaR_HS','ES_CF','ES_HS']].plot(alpha=0.5)\n",
    "plt.plot(-1*sub_aig_data2['P_and_L'][-1*sub_aig_data2['P_and_L']>sub_aig_data2['VaR_CF'] ]  , 'r.', alpha=0.3)"
   ]
  },
  {
   "cell_type": "markdown",
   "metadata": {
    "collapsed": true
   },
   "source": [
    "It seems quite clear that the risk measure estimation in this time frame is not good."
   ]
  },
  {
   "cell_type": "markdown",
   "metadata": {
    "collapsed": false
   },
   "source": [
    "Let us repeat the exercise but this time with a rolling window of 5 years (approximately 1250 dates)."
   ]
  },
  {
   "cell_type": "code",
   "execution_count": 0,
   "metadata": {
    "collapsed": false
   },
   "outputs": [
   ],
   "source": [
    "sub_aig_data3= risk_approx(sub_aig_data,'20080101',0.99,0.975,1250)"
   ]
  },
  {
   "cell_type": "code",
   "execution_count": 0,
   "metadata": {
    "collapsed": false
   },
   "outputs": [
   ],
   "source": [
    "sub_aig_data3 = sub_aig_data3[sub_aig_data3.index>'20080101']\n",
    "sub_aig_data3[['VaR_CF','VaR_HS','ES_CF','ES_HS']].plot(alpha=0.5)\n",
    "plt.plot(-1*sub_aig_data3['P_and_L'][-1*sub_aig_data3['P_and_L']>sub_aig_data3['VaR_CF'] ]  , 'r.', alpha=0.3)"
   ]
  },
  {
   "cell_type": "markdown",
   "metadata": {
    "collapsed": false
   },
   "source": [
    "We can see that in this case, because the information during the crisis is lost, we have excesses also in the latest part of the database."
   ]
  },
  {
   "cell_type": "markdown",
   "metadata": {
    "collapsed": false
   },
   "source": [
    "# Homework"
   ]
  },
  {
   "cell_type": "markdown",
   "metadata": {
    "collapsed": false
   },
   "source": [
    "Consider the database  in '~/Data/basket_20171201_10y.csv'. Perform a backtest of a historical simulation estimation for a portfolio with equal weights on this basket.\n"
   ]
  },
  {
   "cell_type": "code",
   "execution_count": 0,
   "metadata": {
    "collapsed": false
   },
   "outputs": [
   ],
   "source": [
   ]
  }
 ],
 "metadata": {
  "kernelspec": {
   "display_name": "Python 3 (system-wide)",
   "language": "python",
   "metadata": {
    "cocalc": {
     "description": "Python 3 programming language",
     "priority": 100,
     "url": "https://www.python.org/"
    }
   },
   "name": "python3",
   "resource_dir": "/ext/jupyter/kernels/python3"
  }
 },
 "nbformat": 4,
 "nbformat_minor": 4
}