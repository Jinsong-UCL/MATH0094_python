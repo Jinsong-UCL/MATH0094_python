{
 "cells": [
  {
   "cell_type": "markdown",
   "metadata": {
    "collapsed": false
   },
   "source": [
    "# Performance portfolio management\n",
    "**Camilo A. Garcia Trillos 2020**"
   ]
  },
  {
   "cell_type": "markdown",
   "metadata": {
    "collapsed": true
   },
   "source": [
    "## In this notebook \n",
    "\n",
    "We retrieve the same database available to us when choosing efficient portfolios, but now focus on how to manage an existing portfolio to improve its performance using the ideas of risk allocation and Sharpe ratio.\n"
   ]
  },
  {
   "cell_type": "code",
   "execution_count": 0,
   "metadata": {
    "collapsed": false
   },
   "outputs": [
   ],
   "source": [
   ]
  },
  {
   "cell_type": "code",
   "execution_count": 1,
   "metadata": {
    "collapsed": false
   },
   "outputs": [
   ],
   "source": [
    "%matplotlib inline\n",
    "import numpy as np\n",
    "import pandas as pd\n",
    "import matplotlib.pyplot as plt\n",
    "import scipy.stats as stats\n",
    "from math import ceil"
   ]
  },
  {
   "cell_type": "markdown",
   "metadata": {
    "collapsed": false
   },
   "source": [
    "## Reading data"
   ]
  },
  {
   "cell_type": "markdown",
   "metadata": {
    "collapsed": false
   },
   "source": [
    "We read again the database we used on the exercise on efficient frontiers. If in doubt of any on the commands below, go back to that notebook."
   ]
  },
  {
   "cell_type": "code",
   "execution_count": 2,
   "metadata": {
    "collapsed": false
   },
   "outputs": [
    {
     "data": {
      "text/html": [
       "<div>\n",
       "<style scoped>\n",
       "    .dataframe tbody tr th:only-of-type {\n",
       "        vertical-align: middle;\n",
       "    }\n",
       "\n",
       "    .dataframe tbody tr th {\n",
       "        vertical-align: top;\n",
       "    }\n",
       "\n",
       "    .dataframe thead th {\n",
       "        text-align: right;\n",
       "    }\n",
       "</style>\n",
       "<table border=\"1\" class=\"dataframe\">\n",
       "  <thead>\n",
       "    <tr style=\"text-align: right;\">\n",
       "      <th>ticker</th>\n",
       "      <th>BAC</th>\n",
       "      <th>C</th>\n",
       "      <th>GE</th>\n",
       "      <th>JNJ</th>\n",
       "      <th>MSFT</th>\n",
       "      <th>PG</th>\n",
       "      <th>T</th>\n",
       "      <th>WMT</th>\n",
       "      <th>XOM</th>\n",
       "    </tr>\n",
       "    <tr>\n",
       "      <th>date</th>\n",
       "      <th></th>\n",
       "      <th></th>\n",
       "      <th></th>\n",
       "      <th></th>\n",
       "      <th></th>\n",
       "      <th></th>\n",
       "      <th></th>\n",
       "      <th></th>\n",
       "      <th></th>\n",
       "    </tr>\n",
       "  </thead>\n",
       "  <tbody>\n",
       "    <tr>\n",
       "      <th>2007-01-05</th>\n",
       "      <td>43.945748</td>\n",
       "      <td>480.577276</td>\n",
       "      <td>25.548264</td>\n",
       "      <td>47.770850</td>\n",
       "      <td>22.800626</td>\n",
       "      <td>45.714596</td>\n",
       "      <td>19.014008</td>\n",
       "      <td>36.640668</td>\n",
       "      <td>54.474224</td>\n",
       "    </tr>\n",
       "    <tr>\n",
       "      <th>2007-01-12</th>\n",
       "      <td>44.061308</td>\n",
       "      <td>477.155236</td>\n",
       "      <td>25.772730</td>\n",
       "      <td>47.785192</td>\n",
       "      <td>24.008351</td>\n",
       "      <td>46.794468</td>\n",
       "      <td>19.649297</td>\n",
       "      <td>37.096840</td>\n",
       "      <td>54.042834</td>\n",
       "    </tr>\n",
       "    <tr>\n",
       "      <th>2007-01-19</th>\n",
       "      <td>44.234647</td>\n",
       "      <td>478.208171</td>\n",
       "      <td>25.133343</td>\n",
       "      <td>48.588304</td>\n",
       "      <td>23.931426</td>\n",
       "      <td>47.804842</td>\n",
       "      <td>19.841660</td>\n",
       "      <td>37.351987</td>\n",
       "      <td>54.689920</td>\n",
       "    </tr>\n",
       "    <tr>\n",
       "      <th>2007-01-26</th>\n",
       "      <td>42.955235</td>\n",
       "      <td>479.699830</td>\n",
       "      <td>24.534768</td>\n",
       "      <td>47.376465</td>\n",
       "      <td>23.539108</td>\n",
       "      <td>46.915146</td>\n",
       "      <td>20.594138</td>\n",
       "      <td>36.857156</td>\n",
       "      <td>54.749422</td>\n",
       "    </tr>\n",
       "    <tr>\n",
       "      <th>2007-02-02</th>\n",
       "      <td>43.533034</td>\n",
       "      <td>484.344234</td>\n",
       "      <td>24.670808</td>\n",
       "      <td>47.742168</td>\n",
       "      <td>23.223714</td>\n",
       "      <td>47.262344</td>\n",
       "      <td>21.567268</td>\n",
       "      <td>37.174157</td>\n",
       "      <td>56.184911</td>\n",
       "    </tr>\n",
       "  </tbody>\n",
       "</table>\n",
       "</div>"
      ],
      "text/plain": [
       "ticker            BAC           C         GE        JNJ       MSFT         PG  \\\n",
       "date                                                                            \n",
       "2007-01-05  43.945748  480.577276  25.548264  47.770850  22.800626  45.714596   \n",
       "2007-01-12  44.061308  477.155236  25.772730  47.785192  24.008351  46.794468   \n",
       "2007-01-19  44.234647  478.208171  25.133343  48.588304  23.931426  47.804842   \n",
       "2007-01-26  42.955235  479.699830  24.534768  47.376465  23.539108  46.915146   \n",
       "2007-02-02  43.533034  484.344234  24.670808  47.742168  23.223714  47.262344   \n",
       "\n",
       "ticker              T        WMT        XOM  \n",
       "date                                         \n",
       "2007-01-05  19.014008  36.640668  54.474224  \n",
       "2007-01-12  19.649297  37.096840  54.042834  \n",
       "2007-01-19  19.841660  37.351987  54.689920  \n",
       "2007-01-26  20.594138  36.857156  54.749422  \n",
       "2007-02-02  21.567268  37.174157  56.184911  "
      ]
     },
     "execution_count": 2,
     "metadata": {
     },
     "output_type": "execute_result"
    }
   ],
   "source": [
    "data = pd.read_csv('~/Data/basket_20171201_10y.csv')\n",
    "data['date']=pd.to_datetime(data['date'], yearfirst=True)\n",
    "P = data.pivot(index='date', columns='ticker', values='adj_close')\n",
    "P = P.resample('W-FRI').last()\n",
    "P.head()"
   ]
  },
  {
   "cell_type": "code",
   "execution_count": 3,
   "metadata": {
    "collapsed": false
   },
   "outputs": [
    {
     "data": {
      "text/html": [
       "<div>\n",
       "<style scoped>\n",
       "    .dataframe tbody tr th:only-of-type {\n",
       "        vertical-align: middle;\n",
       "    }\n",
       "\n",
       "    .dataframe tbody tr th {\n",
       "        vertical-align: top;\n",
       "    }\n",
       "\n",
       "    .dataframe thead th {\n",
       "        text-align: right;\n",
       "    }\n",
       "</style>\n",
       "<table border=\"1\" class=\"dataframe\">\n",
       "  <thead>\n",
       "    <tr style=\"text-align: right;\">\n",
       "      <th>ticker</th>\n",
       "      <th>BAC</th>\n",
       "      <th>C</th>\n",
       "      <th>GE</th>\n",
       "      <th>JNJ</th>\n",
       "      <th>MSFT</th>\n",
       "      <th>PG</th>\n",
       "      <th>T</th>\n",
       "      <th>WMT</th>\n",
       "      <th>XOM</th>\n",
       "    </tr>\n",
       "    <tr>\n",
       "      <th>date</th>\n",
       "      <th></th>\n",
       "      <th></th>\n",
       "      <th></th>\n",
       "      <th></th>\n",
       "      <th></th>\n",
       "      <th></th>\n",
       "      <th></th>\n",
       "      <th></th>\n",
       "      <th></th>\n",
       "    </tr>\n",
       "  </thead>\n",
       "  <tbody>\n",
       "    <tr>\n",
       "      <th>2007-01-12</th>\n",
       "      <td>0.002626</td>\n",
       "      <td>-0.007146</td>\n",
       "      <td>0.008748</td>\n",
       "      <td>0.000300</td>\n",
       "      <td>0.051614</td>\n",
       "      <td>0.023347</td>\n",
       "      <td>0.032866</td>\n",
       "      <td>0.012373</td>\n",
       "      <td>-0.007951</td>\n",
       "    </tr>\n",
       "    <tr>\n",
       "      <th>2007-01-19</th>\n",
       "      <td>0.003926</td>\n",
       "      <td>0.002204</td>\n",
       "      <td>-0.025122</td>\n",
       "      <td>0.016667</td>\n",
       "      <td>-0.003209</td>\n",
       "      <td>0.021362</td>\n",
       "      <td>0.009742</td>\n",
       "      <td>0.006854</td>\n",
       "      <td>0.011902</td>\n",
       "    </tr>\n",
       "    <tr>\n",
       "      <th>2007-01-26</th>\n",
       "      <td>-0.029350</td>\n",
       "      <td>0.003114</td>\n",
       "      <td>-0.024104</td>\n",
       "      <td>-0.025257</td>\n",
       "      <td>-0.016529</td>\n",
       "      <td>-0.018786</td>\n",
       "      <td>0.037223</td>\n",
       "      <td>-0.013336</td>\n",
       "      <td>0.001087</td>\n",
       "    </tr>\n",
       "    <tr>\n",
       "      <th>2007-02-02</th>\n",
       "      <td>0.013362</td>\n",
       "      <td>0.009635</td>\n",
       "      <td>0.005529</td>\n",
       "      <td>0.007689</td>\n",
       "      <td>-0.013489</td>\n",
       "      <td>0.007373</td>\n",
       "      <td>0.046170</td>\n",
       "      <td>0.008564</td>\n",
       "      <td>0.025881</td>\n",
       "    </tr>\n",
       "    <tr>\n",
       "      <th>2007-02-09</th>\n",
       "      <td>0.004729</td>\n",
       "      <td>-0.023321</td>\n",
       "      <td>-0.020614</td>\n",
       "      <td>-0.014829</td>\n",
       "      <td>-0.040905</td>\n",
       "      <td>-0.014025</td>\n",
       "      <td>-0.032528</td>\n",
       "      <td>-0.002290</td>\n",
       "      <td>0.000024</td>\n",
       "    </tr>\n",
       "  </tbody>\n",
       "</table>\n",
       "</div>"
      ],
      "text/plain": [
       "ticker           BAC         C        GE       JNJ      MSFT        PG  \\\n",
       "date                                                                     \n",
       "2007-01-12  0.002626 -0.007146  0.008748  0.000300  0.051614  0.023347   \n",
       "2007-01-19  0.003926  0.002204 -0.025122  0.016667 -0.003209  0.021362   \n",
       "2007-01-26 -0.029350  0.003114 -0.024104 -0.025257 -0.016529 -0.018786   \n",
       "2007-02-02  0.013362  0.009635  0.005529  0.007689 -0.013489  0.007373   \n",
       "2007-02-09  0.004729 -0.023321 -0.020614 -0.014829 -0.040905 -0.014025   \n",
       "\n",
       "ticker             T       WMT       XOM  \n",
       "date                                      \n",
       "2007-01-12  0.032866  0.012373 -0.007951  \n",
       "2007-01-19  0.009742  0.006854  0.011902  \n",
       "2007-01-26  0.037223 -0.013336  0.001087  \n",
       "2007-02-02  0.046170  0.008564  0.025881  \n",
       "2007-02-09 -0.032528 -0.002290  0.000024  "
      ]
     },
     "execution_count": 3,
     "metadata": {
     },
     "output_type": "execute_result"
    }
   ],
   "source": [
    "logR=np.log(P).diff()\n",
    "logR.drop(logR.index[0],inplace=True) # We drop the first line which produces NAN\n",
    "logR.head()"
   ]
  },
  {
   "cell_type": "markdown",
   "metadata": {
    "collapsed": false
   },
   "source": [
    "## Improving performance of a portfolio\n",
    "\n",
    "Assume that we have a **long only** portfolio. Assume for example that we have an equally weighted portfolio\n",
    "\n",
    "$$\\mathbf{\\pi} =  [\\frac 1 9, \\frac 1 9 , \\ldots, \\frac 1 9].$$\n",
    "\n",
    "Assume, for the exercise, that we have this portfolio on 2011-12-31. We will use the risk allocation technique and Sharpe ratio to progressively improve the performance of the portfolio. \n",
    "\n",
    "\n",
    "First, let us calculate the mean and variance of the portfolios using the 9 years prior to the date we have fixed.\n"
   ]
  },
  {
   "cell_type": "code",
   "execution_count": 4,
   "metadata": {
    "collapsed": false
   },
   "outputs": [
    {
     "name": "stdout",
     "output_type": "stream",
     "text": [
      "Mean: ticker\n",
      "BAC    -0.001473\n",
      "C      -0.004167\n",
      "GE      0.000337\n",
      "JNJ     0.001638\n",
      "MSFT    0.001850\n",
      "PG      0.001107\n",
      "T       0.001307\n",
      "WMT     0.001236\n",
      "XOM     0.000838\n",
      "dtype: float64\n",
      "Variances [0.00622047 0.00899841 0.00185316 0.00045822 0.00133477 0.00052352\n",
      " 0.00078705 0.00068348 0.00085506]\n",
      "Var-cov: ticker       BAC         C        GE       JNJ      MSFT        PG         T  \\\n",
      "ticker                                                                         \n",
      "BAC     0.006220  0.006109  0.002279  0.000734  0.000961  0.000650  0.000910   \n",
      "C       0.006109  0.008998  0.002623  0.000790  0.001084  0.000612  0.001161   \n",
      "GE      0.002279  0.002623  0.001853  0.000390  0.000583  0.000399  0.000500   \n",
      "JNJ     0.000734  0.000790  0.000390  0.000458  0.000347  0.000286  0.000308   \n",
      "MSFT    0.000961  0.001084  0.000583  0.000347  0.001335  0.000332  0.000386   \n",
      "PG      0.000650  0.000612  0.000399  0.000286  0.000332  0.000524  0.000320   \n",
      "T       0.000910  0.001161  0.000500  0.000308  0.000386  0.000320  0.000787   \n",
      "WMT     0.000594  0.000557  0.000330  0.000255  0.000344  0.000307  0.000325   \n",
      "XOM     0.000912  0.000951  0.000549  0.000341  0.000493  0.000331  0.000427   \n",
      "\n",
      "ticker       WMT       XOM  \n",
      "ticker                      \n",
      "BAC     0.000594  0.000912  \n",
      "C       0.000557  0.000951  \n",
      "GE      0.000330  0.000549  \n",
      "JNJ     0.000255  0.000341  \n",
      "MSFT    0.000344  0.000493  \n",
      "PG      0.000307  0.000331  \n",
      "T       0.000325  0.000427  \n",
      "WMT     0.000683  0.000298  \n",
      "XOM     0.000298  0.000855  \n",
      "Correlation ticker       BAC         C        GE       JNJ      MSFT        PG         T  \\\n",
      "ticker                                                                         \n",
      "BAC     1.000000  0.816495  0.671209  0.434770  0.333541  0.360150  0.411355   \n",
      "C       0.816495  1.000000  0.642261  0.389076  0.312820  0.281768  0.436317   \n",
      "GE      0.671209  0.642261  1.000000  0.422911  0.370724  0.405148  0.414015   \n",
      "JNJ     0.434770  0.389076  0.422911  1.000000  0.443119  0.584024  0.512466   \n",
      "MSFT    0.333541  0.312820  0.370724  0.443119  1.000000  0.396635  0.376291   \n",
      "PG      0.360150  0.281768  0.405148  0.584024  0.396635  1.000000  0.499200   \n",
      "T       0.411355  0.436317  0.414015  0.512466  0.376291  0.499200  1.000000   \n",
      "WMT     0.288191  0.224767  0.293084  0.455463  0.360466  0.513583  0.443629   \n",
      "XOM     0.395248  0.342841  0.436346  0.545207  0.461577  0.494555  0.520472   \n",
      "\n",
      "ticker       WMT       XOM  \n",
      "ticker                      \n",
      "BAC     0.288191  0.395248  \n",
      "C       0.224767  0.342841  \n",
      "GE      0.293084  0.436346  \n",
      "JNJ     0.455463  0.545207  \n",
      "MSFT    0.360466  0.461577  \n",
      "PG      0.513583  0.494555  \n",
      "T       0.443629  0.520472  \n",
      "WMT     1.000000  0.389416  \n",
      "XOM     0.389416  1.000000  \n"
     ]
    }
   ],
   "source": [
    "logR_sub = logR[logR.index< '2016-12-01']\n",
    "mu = logR_sub.mean()\n",
    "Sigma = logR_sub.cov()\n",
    "Rho = logR_sub.corr()\n",
    "\n",
    "print('Mean:', mu)\n",
    "print('Variances', np.diag(Sigma))\n",
    "print('Var-cov:', Sigma)\n",
    "print('Correlation', Rho)"
   ]
  },
  {
   "cell_type": "markdown",
   "metadata": {
    "collapsed": false
   },
   "source": [
    "We can now calculate the Sharpe ratio of each asset and the Sharpe ratio of the whole portfolio. For this exercise, we are going to assume that only risky assets are available. "
   ]
  },
  {
   "cell_type": "code",
   "execution_count": 5,
   "metadata": {
    "collapsed": false
   },
   "outputs": [
    {
     "name": "stdout",
     "output_type": "stream",
     "text": [
      "Sharpe ratio for each individual asset ticker\n",
      "BAC    -0.018674\n",
      "C      -0.043931\n",
      "GE      0.007824\n",
      "JNJ     0.076541\n",
      "MSFT    0.050625\n",
      "PG      0.048376\n",
      "T       0.046578\n",
      "WMT     0.047262\n",
      "XOM     0.028652\n",
      "dtype: float64\n"
     ]
    }
   ],
   "source": [
    "sharpe_ea = mu/np.diag(Sigma)**0.5\n",
    "print('Sharpe ratio for each individual asset',sharpe_ea)"
   ]
  },
  {
   "cell_type": "code",
   "execution_count": 6,
   "metadata": {
    "collapsed": false
   },
   "outputs": [
   ],
   "source": [
    "# Define a function that returns the Sharpe ratio of a portfolio on the given assets\n",
    "\n",
    "def sharpe_portfolio (pi, mmu=mu,msigma=Sigma ):\n",
    "    \n",
    "    mu_portfolio = pi @ mu\n",
    "    var_portfolio = (Sigma@pi)@pi   # This is equivalent to pi^T Sigma pi\n",
    "    \n",
    "    return mu_portfolio/var_portfolio**0.5\n",
    "\n",
    "# Test\n",
    "np.testing.assert_allclose(sharpe_portfolio(np.array([1,0,0,0,0,0,0,0,0])),sharpe_ea[0])"
   ]
  },
  {
   "cell_type": "code",
   "execution_count": 7,
   "metadata": {
    "collapsed": false
   },
   "outputs": [
    {
     "name": "stdout",
     "output_type": "stream",
     "text": [
      "The Sharpe ratio of the equally weighted portfolio is  0.00948921913278367\n"
     ]
    }
   ],
   "source": [
    "\n",
    "ref_pi = np.ones(9)/9\n",
    "print('The Sharpe ratio of the equally weighted portfolio is ',sharpe_portfolio( ref_pi ))\n",
    "\n",
    "\n",
    "\n",
    "\n"
   ]
  },
  {
   "cell_type": "markdown",
   "metadata": {
    "collapsed": false
   },
   "source": [
    "A naive way to try to improve the performance is to increment the investment in those assets whose Sharpe ratio are larger than the overall portfolio Sharpe ratio, while reducing it on the ones that fall below.\n",
    "\n",
    "\n",
    "A better way is to make a risk allocation following the Euler per unit allocation, and calculate the relative performance of each asset. Recall that when we use standard deviation to estimate risk, we obtain\n",
    "$$\\kappa_i = \\frac{\\mathrm{cov}(R^i,R^\\pi)}{ \\mathrm{sd}(R^\\pi)}$$\n"
   ]
  },
  {
   "cell_type": "code",
   "execution_count": 8,
   "metadata": {
    "collapsed": false
   },
   "outputs": [
   ],
   "source": [
    "def risk_allocation(pi, mmu=mu,msigma=Sigma ):\n",
    "    \n",
    "    cov_ea = Sigma @ pi   # The covariance of asset i would be e_i^T Sigma pi, where e_i is the vector with one only in the ith position. Here we calculate all simultaneously\n",
    "    var_portfolio = (Sigma@pi)@pi\n",
    "    \n",
    "    return cov_ea/var_portfolio**0.5\n",
    "    \n",
    "    "
   ]
  },
  {
   "cell_type": "markdown",
   "metadata": {
    "collapsed": false
   },
   "source": [
    "With the above function, we can calculate the relative Sharpe (also printing again the individual Sharpe for comparison)\n",
    "    "
   ]
  },
  {
   "cell_type": "code",
   "execution_count": 9,
   "metadata": {
    "collapsed": false
   },
   "outputs": [
    {
     "name": "stdout",
     "output_type": "stream",
     "text": [
      "Absolute Sharpe\n",
      "ticker\n",
      "BAC    -0.018674\n",
      "C      -0.043931\n",
      "GE      0.007824\n",
      "JNJ     0.076541\n",
      "MSFT    0.050625\n",
      "PG      0.048376\n",
      "T       0.046578\n",
      "WMT     0.047262\n",
      "XOM     0.028652\n",
      "dtype: float64\n",
      "Relative Sharpe\n",
      "ticker\n",
      "BAC    -0.021408\n",
      "C      -0.051269\n",
      "GE      0.009976\n",
      "JNJ     0.118024\n",
      "MSFT    0.088798\n",
      "PG      0.082878\n",
      "T       0.071791\n",
      "WMT     0.094162\n",
      "XOM     0.045743\n",
      "dtype: float64\n"
     ]
    }
   ],
   "source": [
    "print('Absolute Sharpe')\n",
    "print(sharpe_ea)\n",
    "\n",
    "print('Relative Sharpe')\n",
    "print(mu/risk_allocation(ref_pi))"
   ]
  },
  {
   "cell_type": "code",
   "execution_count": 10,
   "metadata": {
    "collapsed": false
   },
   "outputs": [
   ],
   "source": [
    "def update_portfolio(pi, step, epsilon , mmu=mu,msigma=Sigma ):\n",
    "    '''\n",
    "    The function returns an improvement on the long-only portfolio 'pi' such that changes are proportional \n",
    "    to how different are the overall Sharpe portfolio and the relative Sharpe portfolio calculated with the \n",
    "    per unit risk allocation. The function must satisfy that a minimum investment of epsilon must be kept on each \n",
    "    asset.\n",
    "    \n",
    "    '''\n",
    "    \n",
    "    # We calculate the difference between relative Sharpe and Sharpe of the portfolio\n",
    "    aux_positive = np.clip(mu/risk_allocation(pi) - sharpe_portfolio(pi),0,None)\n",
    "    aux_negative = np.clip(sharpe_portfolio(pi)-mu/risk_allocation(pi),0,None)\n",
    "\n",
    "    \n",
    "    # Determine the entries in the portfolio above the threshold\n",
    "    \n",
    "    aux_negative[pi<epsilon+1e-12] = 0    # The additional 1e-12 is to avoid roundup errors in this comparison.\n",
    "    aux_positive[pi<epsilon+1e-12] = 0\n",
    "    \n",
    "    # We cannot modify those entries below the threshold, or those with the same Sharpe as the overall portfolio.  \n",
    "    # The following if tests if there is nothing else to improve within the constraints\n",
    "    \n",
    "    \n",
    "    if aux_positive.sum() ==0 or aux_negative.sum() == 0 :\n",
    "        return pi\n",
    "    \n",
    "    # Now, we calculate the maximum step we can take without violating the minimal position constraint\n",
    "    \n",
    "    f_change = aux_positive/aux_positive.sum() - aux_negative/aux_negative.sum()\n",
    "    aux_v = (epsilon-pi)/f_change    # When f_change is zero, this generates some infinities, but this does not affect the following operation\n",
    "    aux_step = aux_v[aux_v>0 ].min()\n",
    "    \n",
    "    # Calculate effective change and return\n",
    "    \n",
    "    change = f_change*min(step, aux_step)\n",
    "    return pi+change\n",
    "    \n",
    "    \n",
    "    \n",
    "    \n",
    "    "
   ]
  },
  {
   "cell_type": "code",
   "execution_count": 11,
   "metadata": {
    "collapsed": false
   },
   "outputs": [
    {
     "name": "stdout",
     "output_type": "stream",
     "text": [
      "ticker\n",
      "BAC     0.059693\n",
      "C       0.010000\n",
      "GE      0.111278\n",
      "JNJ     0.148317\n",
      "MSFT    0.138298\n",
      "PG      0.136269\n",
      "T       0.132468\n",
      "WMT     0.140137\n",
      "XOM     0.123539\n",
      "dtype: float64\n",
      "0.04343099977491054\n"
     ]
    }
   ],
   "source": [
    "pi_new = update_portfolio(ref_pi,0.3,0.01)\n",
    "print(pi_new)\n",
    "\n",
    "new_sharpe = sharpe_portfolio(pi_new)\n",
    "print(new_sharpe)"
   ]
  },
  {
   "cell_type": "markdown",
   "metadata": {
    "collapsed": false
   },
   "source": [
    "Note that there is already a big improvement: the performance increased by an order of magnitude. We can repeat the process to improve even further until we cannot improve any more without violating our constraints."
   ]
  },
  {
   "cell_type": "code",
   "execution_count": 12,
   "metadata": {
    "collapsed": false
   },
   "outputs": [
    {
     "name": "stdout",
     "output_type": "stream",
     "text": [
      "Iteration 1\n",
      "ticker\n",
      "BAC     0.010000\n",
      "C       0.010000\n",
      "GE      0.087606\n",
      "JNJ     0.175204\n",
      "MSFT    0.152373\n",
      "PG      0.147521\n",
      "T       0.142151\n",
      "WMT     0.154487\n",
      "XOM     0.120657\n",
      "dtype: float64\n",
      "0.05584163800337831\n",
      "Iteration 2\n",
      "ticker\n",
      "BAC     0.010000\n",
      "C       0.010000\n",
      "GE      0.010000\n",
      "JNJ     0.227240\n",
      "MSFT    0.170425\n",
      "PG      0.158960\n",
      "T       0.150907\n",
      "WMT     0.172125\n",
      "XOM     0.090344\n",
      "dtype: float64\n",
      "0.06322960787509502\n",
      "Iteration 3\n",
      "ticker\n",
      "BAC     0.010000\n",
      "C       0.010000\n",
      "GE      0.010000\n",
      "JNJ     0.287353\n",
      "MSFT    0.181435\n",
      "PG      0.161034\n",
      "T       0.149848\n",
      "WMT     0.180329\n",
      "XOM     0.010000\n",
      "dtype: float64\n",
      "0.06668083717555018\n",
      "Iteration 4\n",
      "ticker\n",
      "BAC     0.010000\n",
      "C       0.010000\n",
      "GE      0.010000\n",
      "JNJ     0.517049\n",
      "MSFT    0.200847\n",
      "PG      0.047951\n",
      "T       0.010000\n",
      "WMT     0.184152\n",
      "XOM     0.010000\n",
      "dtype: float64\n",
      "0.07090709706485519\n",
      "Iteration 5\n",
      "ticker\n",
      "BAC     0.010000\n",
      "C       0.010000\n",
      "GE      0.010000\n",
      "JNJ     0.722536\n",
      "MSFT    0.010000\n",
      "PG      0.059241\n",
      "T       0.010000\n",
      "WMT     0.158223\n",
      "XOM     0.010000\n",
      "dtype: float64\n",
      "0.07109427388931822\n",
      "Iteration 6\n",
      "ticker\n",
      "BAC     0.010000\n",
      "C       0.010000\n",
      "GE      0.010000\n",
      "JNJ     0.722536\n",
      "MSFT    0.010000\n",
      "PG      0.059241\n",
      "T       0.010000\n",
      "WMT     0.158223\n",
      "XOM     0.010000\n",
      "dtype: float64\n",
      "0.07109427388931822"
     ]
    },
    {
     "name": "stdout",
     "output_type": "stream",
     "text": [
      "\n"
     ]
    }
   ],
   "source": [
    "\n",
    "k=1\n",
    "while k<1000:\n",
    "    print('Iteration', k)\n",
    "    pi_new = update_portfolio(pi_new,0.3,0.01)\n",
    "    print(pi_new)\n",
    "    old_sharpe = new_sharpe\n",
    "    new_sharpe = sharpe_portfolio(pi_new)\n",
    "    print(new_sharpe)\n",
    "    if abs(old_sharpe-new_sharpe)<1e-12:\n",
    "        break;\n",
    "    \n",
    "    k+=1"
   ]
  },
  {
   "cell_type": "markdown",
   "metadata": {
    "collapsed": false
   },
   "source": [
    "After 6 iterations, we found a portfolio whose Sharpe portfolio cannot be improved: it invest the minimal allowed amount on all assets except JNJ, PG, and WMT. Note that it does not focus on *just the asset with the largest Sharpe ratio*, although, due to the constraints, the obtained Sharpe is slightly worse than investing in JNJ alone... but if this investment is put together with the constraints on minimal portfolio, we would produce a less performing portfolio.\n",
    "\n",
    "Indeed,"
   ]
  },
  {
   "cell_type": "code",
   "execution_count": 13,
   "metadata": {
    "collapsed": false
   },
   "outputs": [
    {
     "name": "stdout",
     "output_type": "stream",
     "text": [
      "1.0\n"
     ]
    },
    {
     "data": {
      "text/plain": [
       "0.07087780201105662"
      ]
     },
     "execution_count": 13,
     "metadata": {
     },
     "output_type": "execute_result"
    }
   ],
   "source": [
    "another_pi = 0.01*np.ones(9) \n",
    "another_pi[3] += 1-0.09\n",
    "print(another_pi.sum())\n",
    "\n",
    "sharpe_portfolio(another_pi   )"
   ]
  },
  {
   "cell_type": "markdown",
   "metadata": {
    "collapsed": false
   },
   "source": [
    "This is smaller. The interaction between the two assets helps to obtain a more performant portfolio within the constraints."
   ]
  },
  {
   "cell_type": "markdown",
   "metadata": {
    "collapsed": false
   },
   "source": [
    "The above discussion is all 'static', that is, we are doing all changes as if we could go back and modify our portfolio several times. The idea of using such incremental steps is to slowly adjust the portfolio as *time passes by*. To do so, let us make evolve our portfolio and run again the improvement, but *updating the information*. \n",
    "\n",
    "A good tool for this purpose is the exponentially weighted moving average (EWMA). This is a way to smoothly decrease the influence of old observations: the idea is as follows: let $\\lambda>0$. We update a time average of asset $i$ by posing $mean^i_1=x_1$ and\n",
    "\n",
    "$$mean^i_{t+1} = \\lambda mean^i_t + (1-\\lambda) x^i_{t+1} $$\n",
    "\n",
    "This is a simple and common way of slowly 'forgetting' the information in the distant past. We use this to update our mean and standard deviation estimations. For one element in the variance-covariance matrix, we can use\n",
    "\n",
    "$$cov^{i,j}_{t+1} = \\lambda cov^{i,j}_t + (1-\\lambda) (x^i_{t+1}- mean^i_{t+1} )(x^j_{t+1}-mean^j_{t+1}) $$\n",
    "\n",
    "\n",
    "Then, we can simultaneously update our estimation for these parameters *and* the best portfolio. This is the purpose  of the following code\n",
    "\n"
   ]
  },
  {
   "cell_type": "code",
   "execution_count": 45,
   "metadata": {
    "collapsed": false
   },
   "outputs": [
    {
     "name": "stdout",
     "output_type": "stream",
     "text": [
      "ticker\n",
      "BAC     0.010000\n",
      "C       0.010000\n",
      "GE      0.010000\n",
      "JNJ     0.799978\n",
      "MSFT    0.010000\n",
      "PG      0.010000\n",
      "T       0.010000\n",
      "WMT     0.130022\n",
      "XOM     0.010000\n",
      "dtype: float64\n"
     ]
    },
    {
     "data": {
      "image/png": "[encoded data removed]",
      "text/plain": [
       "<Figure size 432x288 with 1 Axes>"
      ]
     },
     "execution_count": 45,
     "metadata": {
      "image/png": {
       "height": 263,
       "width": 378
      },
      "needs_background": "light"
     },
     "output_type": "execute_result"
    },
    {
     "data": {
      "text/plain": [
       "<Figure size 432x288 with 0 Axes>"
      ]
     },
     "execution_count": 45,
     "metadata": {
     },
     "output_type": "execute_result"
    },
    {
     "data": {
      "image/png": "[encoded data removed]",
      "text/plain": [
       "<Figure size 432x288 with 1 Axes>"
      ]
     },
     "execution_count": 45,
     "metadata": {
      "image/png": {
       "height": 288,
       "width": 381
      },
      "needs_background": "light"
     },
     "output_type": "execute_result"
    }
   ],
   "source": [
    "#Inititalise the mean and variance from historical observations\n",
    "\n",
    "mu = logR_sub.mean()\n",
    "Sigma = logR_sub.cov()\n",
    "\n",
    "mlambda = 519/520   # Roughly, one new observation counts like one week in 10 years (52 weeks x 10 years = 520 ). Also, we called it mlambda because lambda is a reserved kewyword\n",
    "logR_2 = logR[logR.index>= '2016-12-01']\n",
    "pi_new = ref_pi    # The initial equal weight portfolio\n",
    "\n",
    "sharpe = []\n",
    "\n",
    "\n",
    "out_dataframe = logR_2.copy()   # We are going to save here the investment protfolios for each date\n",
    "\n",
    "for date in logR_2.index:\n",
    "    lr = logR_2.loc[date]\n",
    "    mu = mlambda*mu + (1-mlambda)*lr   # Calculate the updated estimation of the mean\n",
    "    lr_hat = np.array(lr - mu)\n",
    "    Sigma = mlambda*Sigma + (1-mlambda)*lr_hat.reshape((-1,1))@ lr_hat.reshape((1,-1))    # Calculate the updated estimation of the covariance\n",
    "    \n",
    "    \n",
    "    #Use our algorithm to update the portfolio. Play with the step parameter and observe how the evolution of portfolios   and Sharpe ratio evolves\n",
    "    pi_new = update_portfolio(pi_new,0.2,0.01, mmu=mu,msigma=Sigma )    \n",
    "    new_sharpe = sharpe_portfolio(pi_new)   # Calculate the Sharpe ratio\n",
    "    \n",
    "    sharpe.append(new_sharpe)    #Save in a list for later plotting\n",
    "    \n",
    "    out_dataframe.loc[date]=pi_new   # Save the portfolio composition\n",
    "        \n",
    "     \n",
    "plt.plot(logR_2.index,sharpe)\n",
    "plt.title('Evolution of Sharpe ratio')\n",
    "\n",
    "plt.figure()\n",
    "out_dataframe.plot()\n",
    "plt.title('Evolution of portfolio composition')\n",
    "\n",
    "print(pi_new)\n"
   ]
  },
  {
   "cell_type": "markdown",
   "metadata": {
    "collapsed": false
   },
   "source": [
    "The figure shows that the strategy in this period becomes more and more concentrated on only one asset. Note, though that this process is not monotone, and sometimes the proportion changes. If the data starts supporting a more diversified portfolio.\n",
    "\n",
    "Before finishing, let us check that our estimation (through the use of the EWMA estimator ) is close to the one we would have obtained by using the whole data. This occurs since we chose a factor that roughly gives every new data the same weight as one week in a period of 10 years (which is how it works within the whole data series)."
   ]
  },
  {
   "cell_type": "code",
   "execution_count": 42,
   "metadata": {
    "collapsed": false
   },
   "outputs": [
    {
     "name": "stdout",
     "output_type": "stream",
     "text": [
      "ticker\n",
      "BAC    -0.000786\n",
      "C      -0.003253\n",
      "GE     -0.000627\n",
      "JNJ     0.001889\n",
      "MSFT    0.002297\n",
      "PG      0.001198\n",
      "T       0.001146\n",
      "WMT     0.001717\n",
      "XOM     0.000750\n",
      "dtype: float64 ticker\n",
      "BAC    -0.000756\n",
      "C      -0.003210\n",
      "GE     -0.000691\n",
      "JNJ     0.001899\n",
      "MSFT    0.002320\n",
      "PG      0.001197\n",
      "T       0.001135\n",
      "WMT     0.001753\n",
      "XOM     0.000752\n",
      "dtype: float64\n",
      "ticker       BAC         C        GE       JNJ      MSFT        PG         T  \\\n",
      "ticker                                                                         \n",
      "BAC     0.005745  0.005614  0.002074  0.000669  0.000883  0.000584  0.000844   \n",
      "C       0.005614  0.008234  0.002391  0.000721  0.000992  0.000550  0.001076   \n",
      "GE      0.002074  0.002391  0.001784  0.000361  0.000518  0.000362  0.000483   \n",
      "JNJ     0.000669  0.000721  0.000361  0.000442  0.000322  0.000264  0.000280   \n",
      "MSFT    0.000883  0.000992  0.000518  0.000322  0.001245  0.000303  0.000346   \n",
      "PG      0.000584  0.000550  0.000362  0.000264  0.000303  0.000495  0.000300   \n",
      "T       0.000844  0.001076  0.000483  0.000280  0.000346  0.000300  0.000770   \n",
      "WMT     0.000534  0.000500  0.000273  0.000237  0.000314  0.000281  0.000287   \n",
      "XOM     0.000839  0.000873  0.000506  0.000314  0.000450  0.000297  0.000390   \n",
      "\n",
      "ticker       WMT       XOM  \n",
      "ticker                      \n",
      "BAC     0.000534  0.000839  \n",
      "C       0.000500  0.000873  \n",
      "GE      0.000273  0.000506  \n",
      "JNJ     0.000237  0.000314  \n",
      "MSFT    0.000314  0.000450  \n",
      "PG      0.000281  0.000297  \n",
      "T       0.000287  0.000390  \n",
      "WMT     0.000672  0.000264  \n",
      "XOM     0.000264  0.000797   ticker       BAC         C        GE       JNJ      MSFT        PG         T  \\\n",
      "ticker                                                                         \n",
      "BAC     0.005726  0.005594  0.002066  0.000667  0.000880  0.000581  0.000842   \n",
      "C       0.005594  0.008203  0.002382  0.000719  0.000988  0.000548  0.001073   \n",
      "GE      0.002066  0.002382  0.001785  0.000360  0.000515  0.000360  0.000483   \n",
      "JNJ     0.000667  0.000719  0.000360  0.000442  0.000321  0.000263  0.000278   \n",
      "MSFT    0.000880  0.000988  0.000515  0.000321  0.001241  0.000301  0.000344   \n",
      "PG      0.000581  0.000548  0.000360  0.000263  0.000301  0.000494  0.000299   \n",
      "T       0.000842  0.001073  0.000483  0.000278  0.000344  0.000299  0.000770   \n",
      "WMT     0.000532  0.000498  0.000269  0.000236  0.000313  0.000280  0.000286   \n",
      "XOM     0.000836  0.000870  0.000505  0.000313  0.000449  0.000296  0.000389   \n",
      "\n",
      "ticker       WMT       XOM  \n",
      "ticker                      \n",
      "BAC     0.000532  0.000836  \n",
      "C       0.000498  0.000870  \n",
      "GE      0.000269  0.000505  \n",
      "JNJ     0.000236  0.000313  \n",
      "MSFT    0.000313  0.000449  \n",
      "PG      0.000280  0.000296  \n",
      "T       0.000286  0.000389  \n",
      "WMT     0.000673  0.000263  \n",
      "XOM     0.000263  0.000794  \n"
     ]
    }
   ],
   "source": [
    "print(logR.mean(), mu)\n",
    "print(logR.cov(),Sigma)\n"
   ]
  },
  {
   "cell_type": "markdown",
   "metadata": {
    "collapsed": false
   },
   "source": [
    "## Exercises"
   ]
  },
  {
   "cell_type": "markdown",
   "metadata": {
    "collapsed": false
   },
   "source": [
    "1. Download 5 years of history for the price of 10 of your favorite stocks (use, for example yahoo finance). Set, a priori, a long-only portfolio that you would constitute in those shares and a minimal proportion investment on each asset. then reproduce the above discussion to tune progressively your portfolio.\n",
    "\n"
   ]
  },
  {
   "cell_type": "code",
   "execution_count": 0,
   "metadata": {
    "collapsed": false
   },
   "outputs": [
   ],
   "source": [
   ]
  },
  {
   "cell_type": "markdown",
   "metadata": {
    "collapsed": false
   },
   "source": [
    "2. Assume you start with 100 pounds to invest. Moreover, assume that you have to pay a fee of 0.001 times the value of any operation you make in the market (for example, if you sell 50 pounds worth of one asset to buy 50 of another, you pay a fee of 0.0001*(50+50) = 1 cent). \n",
    "\n",
    "\n",
    "Modify your code above to include the effect of this fee in your calculations (ideally, code it with a variable for the transaction cost)"
   ]
  },
  {
   "cell_type": "code",
   "execution_count": 0,
   "metadata": {
    "collapsed": false
   },
   "outputs": [
   ],
   "source": [
   ]
  }
 ],
 "metadata": {
  "anaconda-cloud": {
  },
  "kernelspec": {
   "display_name": "Python 3 (system-wide)",
   "language": "python",
   "metadata": {
    "cocalc": {
     "description": "Python 3 programming language",
     "priority": 100,
     "url": "https://www.python.org/"
    }
   },
   "name": "python3"
  },
  "language_info": {
   "codemirror_mode": {
    "name": "ipython",
    "version": 3
   },
   "file_extension": ".py",
   "mimetype": "text/x-python",
   "name": "python",
   "nbconvert_exporter": "python",
   "pygments_lexer": "ipython3",
   "version": "3.8.5"
  },
  "toc": {
   "base_numbering": 1,
   "nav_menu": {
   },
   "number_sections": true,
   "sideBar": true,
   "skip_h1_title": true,
   "title_cell": "Table of Contents",
   "title_sidebar": "Contents",
   "toc_cell": true,
   "toc_position": {
   },
   "toc_section_display": true,
   "toc_window_display": false
  }
 },
 "nbformat": 4,
 "nbformat_minor": 4
}