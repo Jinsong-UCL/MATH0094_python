{
 "cells": [
  {
   "cell_type": "markdown",
   "metadata": {
    "collapsed": false,
    "nbgrader": {
     "grade": false,
     "grade_id": "bf73bd",
     "locked": true,
     "schema_version": 3,
     "solution": false,
     "task": false
    }
   },
   "source": [
    "# Assignment 1 - solution"
   ]
  },
  {
   "cell_type": "code",
   "execution_count": 8,
   "metadata": {
    "collapsed": false
   },
   "outputs": [],
   "source": [
    "# Some packages you might need in the following\n",
    "\n",
    "from nose.tools import assert_equal, assert_raises  # Some functions to produce some of the checks before\n",
    "\n",
    "import numpy as np\n",
    "import matplotlib.pylab as plt\n",
    "from numpy.random import default_rng\n",
    "from scipy.optimize import minimize \n",
    "\n",
    "?minimize\n"
   ]
  },
  {
   "cell_type": "markdown",
   "metadata": {
    "collapsed": false,
    "nbgrader": {
     "grade": false,
     "grade_id": "p1",
     "locked": true,
     "schema_version": 3,
     "solution": false,
     "task": false
    }
   },
   "source": [
    "## Question 1. [40 points]\n",
    "\n",
    "An investor has utility function $$u(x) = \\begin{cases} \\frac{|x|^{p}}{x} & \\text{ if } x\\neq 0;\\\\ 0 & \\text{ if } x=0\\end{cases},$$ for $p>1$."
   ]
  },
  {
   "cell_type": "markdown",
   "metadata": {
    "collapsed": false,
    "nbgrader": {
     "grade": false,
     "grade_id": "1e3480",
     "locked": true,
     "schema_version": 3,
     "solution": false,
     "task": false
    }
   },
   "source": [
    "- 1.1. Implement this utility function [10 points]"
   ]
  },
  {
   "cell_type": "code",
   "execution_count": 9,
   "metadata": {
    "collapsed": false,
    "nbgrader": {
     "grade": false,
     "grade_id": "q11",
     "locked": false,
     "schema_version": 3,
     "solution": true,
     "task": false
    }
   },
   "outputs": [],
   "source": [
    "def u(x, p): \n",
    "    \"\"\"\n",
    "    Compute the utility function $u$ defined above on a real 'x' and a given fixed value 'p'>1\n",
    "    \"\"\"\n",
    "    ### BEGIN SOLUTION\n",
    "    # Put correct code here.  This code is removed for the student version, but is used\n",
    "    # to confirm that your tests are valid.\n",
    "    \n",
    "    try: \n",
    "        x= float(x)\n",
    "    except:\n",
    "        raise TypeError('The variable x is not a real')\n",
    "    \n",
    "    \n",
    "    try: \n",
    "        p=float(p)\n",
    "    except:\n",
    "        raise TypeError('The variable p is not a real')\n",
    "    \n",
    "    if p<=1:\n",
    "        raise ValueError('The variable p must be larger than one')\n",
    "    \n",
    "    if x==0:\n",
    "        return 0\n",
    "    return abs(x)**p/x\n",
    "    \n",
    "    ### END SOLUTION"
   ]
  },
  {
   "cell_type": "markdown",
   "metadata": {
    "collapsed": false,
    "nbgrader": {
     "grade": false,
     "grade_id": "adfd52",
     "locked": true,
     "schema_version": 3,
     "solution": false,
     "task": false
    }
   },
   "source": [
    "- 1.2. Define now a function 'u_vec' that receives a numpy array or a list and a real p larger than one and returns an array with the utility function above applied entry-wise [10 points]."
   ]
  },
  {
   "cell_type": "code",
   "execution_count": 10,
   "metadata": {
    "collapsed": false,
    "nbgrader": {
     "grade": false,
     "grade_id": "q12",
     "locked": false,
     "schema_version": 3,
     "solution": true,
     "task": false
    }
   },
   "outputs": [],
   "source": [
    "def u_vec(xvec, p):  \n",
    "    \"\"\"\n",
    "    Receives a numpy array or a list 'xvec' and a real 'p'>1 and returns an array with the utility function above applied entry-wise\n",
    "    \"\"\"\n",
    "    ### BEGIN SOLUTION\n",
    "    # Put correct code here.  This code is removed for the student version, but is used\n",
    "    # to confirm that your tests are valid.\n",
    "    \n",
    "    try:\n",
    "        xvec=np.asarray(xvec)\n",
    "    except:\n",
    "        raise TypeError('xvec is not an object that can be treated like an array')\n",
    "    \n",
    "    return np.array([u(x,p) for x in xvec])\n",
    "    ### END SOLUTION"
   ]
  },
  {
   "cell_type": "markdown",
   "metadata": {
    "collapsed": false,
    "nbgrader": {
     "grade": false,
     "grade_id": "b8ce68",
     "locked": true,
     "schema_version": 3,
     "solution": false,
     "task": false
    }
   },
   "source": [
    "- 1.3 Create a function that calculates the coefficient of absolute risk aversion of this function for a given real 'x' [10 points]\n"
   ]
  },
  {
   "cell_type": "code",
   "execution_count": 11,
   "metadata": {
    "collapsed": false,
    "nbgrader": {
     "grade": false,
     "grade_id": "q13",
     "locked": false,
     "schema_version": 3,
     "solution": true,
     "task": false
    }
   },
   "outputs": [],
   "source": [
    "def ara(x,p):\n",
    "    \"\"\"\n",
    "    Compute the coefficient of absolute risk aversion \n",
    "    \"\"\"\n",
    "    ### BEGIN SOLUTION\n",
    "    # Put correct code here.  This code is removed for the student version, but is used\n",
    "    # to confirm that your tests are valid.\n",
    "    \n",
    "    try: \n",
    "        x= float(x)\n",
    "    except:\n",
    "        raise TypeError('The variable x is not a real')\n",
    "    \n",
    "    \n",
    "    try: \n",
    "        p=float(p)\n",
    "    except:\n",
    "        raise TypeError('The variable p is not a real')\n",
    "    \n",
    "    if p<=1:\n",
    "        raise ValueError('The variable p must be larger than one')\n",
    "    \n",
    "    \n",
    "    if x==0 and (p!= 2):\n",
    "        # The utility fucntion is not twice differenciable at zero if the coefficient is not 2.\n",
    "        raise ValueError('The coefficient of risk aversion is not defined for x=0 and p=',p)\n",
    "    if p==2:\n",
    "        return 0\n",
    "    return (2-p)/x\n",
    "    ### END SOLUTION"
   ]
  },
  {
   "cell_type": "markdown",
   "metadata": {
    "collapsed": false
   },
   "source": [
    "- 1.4. Comment on the risk behaviour of an investor with this function [10 points]\n"
   ]
  },
  {
   "cell_type": "markdown",
   "metadata": {
    "collapsed": false,
    "nbgrader": {
     "grade": true,
     "grade_id": "v14",
     "locked": false,
     "points": 10,
     "schema_version": 3,
     "solution": true,
     "task": false
    }
   },
   "source": [
    "Depends on the coefficient $p$: If $p=2$, then the utility function is just linear. If $p>2$, then the function is risk-averse for positive wealth and risk-seeking for negative wealth. If $1<p<2$ then is the opposite."
   ]
  },
  {
   "cell_type": "markdown",
   "metadata": {
    "collapsed": false,
    "nbgrader": {
     "grade": false,
     "grade_id": "e2",
     "locked": true,
     "remove": false,
     "schema_version": 3,
     "solution": false,
     "task": false
    }
   },
   "source": [
    "## Question 2. [20 points]\n",
    "\n",
    "Consider a market model in one-period with three assets: a risk free asset with unit return, and two risky assets with log normal returns\n",
    "\n",
    "$R^1_1\\sim \\exp(N_1), \\qquad R^2_1\\sim \\exp(N_2)$\n",
    "where $N_1\\sim \\mathcal N(m_1,\\sigma_1^2)$, $N_2\\sim \\mathcal N(m_2,\\sigma_2^2) $ and the Gaussian random variables are correlated $$\\mathrm{cor}(N_1,N_2)=\\rho.$$ \n",
    "\n"
   ]
  },
  {
   "cell_type": "markdown",
   "metadata": {
    "collapsed": false,
    "nbgrader": {
     "grade": false,
     "grade_id": "e21",
     "locked": true,
     "schema_version": 3,
     "solution": false,
     "task": false
    }
   },
   "source": [
    "- 2.1. Explain if this market is complete [10 points]\n"
   ]
  },
  {
   "cell_type": "markdown",
   "metadata": {
    "collapsed": false,
    "nbgrader": {
     "grade": true,
     "grade_id": "v21",
     "locked": false,
     "points": 10,
     "schema_version": 3,
     "solution": true,
     "task": false
    }
   },
   "source": [
    "The market is incomplete. Note that in one period the set of all attainable claims is only the linear combination of the payoffs of the three assets. But this does not cover integrable wealth profiles (like $(R_1^1)^2$ or $\\max\\{R^1_1,R^2_1\\}$ )"
   ]
  },
  {
   "cell_type": "markdown",
   "metadata": {
    "collapsed": false,
    "nbgrader": {
     "grade": false,
     "grade_id": "e22",
     "locked": true,
     "schema_version": 3,
     "solution": false,
     "task": false
    }
   },
   "source": [
    "- 2.2. Create a function that returns a sample of a given size of (${R}^1_1$, ${R}_1^2$). [10 points]\n"
   ]
  },
  {
   "cell_type": "code",
   "execution_count": 12,
   "metadata": {
    "collapsed": false,
    "nbgrader": {
     "grade": false,
     "grade_id": "q22",
     "locked": false,
     "schema_version": 3,
     "solution": true,
     "task": false
    }
   },
   "outputs": [],
   "source": [
    "def make_sample(n, m1,m2, sigma1,sigma2,rho): \n",
    "    \"\"\"\n",
    "    Create a sample of (${R}^1_1$, ${R}_1^2$) of size 'n', where the other parameters are defined as given. Returns a tuple (R1_sample,R2_sample)\n",
    "    \"\"\"\n",
    "    ### BEGIN SOLUTION\n",
    "    # Put correct code here.  This code is removed for the student version, but is used\n",
    "    # to confirm that your tests are valid.\n",
    "    \n",
    "    gen = default_rng()\n",
    "\n",
    "    z1 = gen.standard_normal(n)\n",
    "    z2 = gen.standard_normal(n)\n",
    "    \n",
    "    \n",
    "    R1_sample= np.exp(sigma1 * z1+ m1 )\n",
    "    R2_sample= np.exp( sigma2*(rho*z1 + ((1-rho**2)**0.5)*z2)+m2)        \n",
    "    \n",
    "    return R1_sample,R2_sample\n",
    "    \n",
    "    ### END SOLUTION\n",
    "    \n",
    "    \n",
    "    "
   ]
  },
  {
   "cell_type": "markdown",
   "metadata": {
    "collapsed": false
   },
   "source": [
    "## Question 3 [40 points]\n",
    "\n",
    "- 3.1. Let $\\pi$ be a strategy (in terms of percentages) in a market with three assets (one risk-free and two risky as in Question 2). Let $\\hat \\pi$ be the components of the strategy on the risky assets. Define a function that returns the expected utility for an investor with a utility function as in Question 1 and initial wealth $w_0$, after applying the strategy represented by $\\hat \\pi$ (recall that the investment on the risk-less asset can be deduced from the budget constraint). The function should also receive a sample of $\\hat R_1$. [20 points]"
   ]
  },
  {
   "cell_type": "code",
   "execution_count": 13,
   "metadata": {
    "collapsed": false,
    "nbgrader": {
     "grade": false,
     "grade_id": "q31",
     "locked": false,
     "schema_version": 3,
     "solution": true,
     "task": false
    }
   },
   "outputs": [],
   "source": [
    "def u_exp(pi_hat, w0,R_hat,p):  \n",
    "    \"\"\"\n",
    "    Returns the expected utility of Q1 (with parameter 'p') of the strategy characterised by 'pi_hat', from a sample 'R_hat'\n",
    "    \"\"\"\n",
    "    ### BEGIN SOLUTION\n",
    "    \n",
    "    W = w0*((1-pi_hat.sum()) + np.asarray(R_hat).T@pi_hat)\n",
    "    return u_vec(W,p).mean()\n",
    "    \n",
    "    \n",
    "    ### END SOLUTION"
   ]
  },
  {
   "cell_type": "markdown",
   "metadata": {
    "collapsed": false
   },
   "source": [
    "- 3.2. Write a function that approximates the solution of the optimal investment problem in the market defined in Question 2, for an investor as described in 3.1..  The function should return a couple, the strategy (as a vector of weights for the two risky assets) and the value of the utility for the optimal portfolio. If no solution is found, 'None' should be returned. [20 points]"
   ]
  },
  {
   "cell_type": "code",
   "execution_count": 14,
   "metadata": {
    "collapsed": false,
    "nbgrader": {
     "grade": false,
     "grade_id": "q32",
     "locked": false,
     "schema_version": 3,
     "solution": true,
     "task": false
    }
   },
   "outputs": [],
   "source": [
    "def optimal_investment(w0,m1,m2,sigma1,sigma2,rho,p):  # modify function name and parameters\n",
    "    \"\"\"\n",
    "    Return pi_hat and expected utility of optimal strategy for investor with utility function with param 'p', and market with params. 'm1,m2,sigma1,sigma2,rho'\n",
    "    \"\"\"\n",
    "    ### BEGIN SOLUTION\n",
    "    \n",
    "    \n",
    "    n = 640000\n",
    "    R_hat = np.array(make_sample(n,m1,m2,sigma1,sigma2,rho))\n",
    "    pi_hat = np.zeros(2)\n",
    "    \n",
    "    sol = minimize( lambda x: -u_exp(x,w0,R_hat,p), pi_hat )\n",
    "    \n",
    "    \n",
    "    if sol['success']:\n",
    "        return  sol['x'], -1*sol['fun']\n",
    "    return None\n",
    "    \n",
    "    \n",
    "    ### END SOLUTION"
   ]
  },
  {
   "cell_type": "code",
   "execution_count": 15,
   "outputs": [],
   "source": [
    "\n",
    "assert_equal(len(optimal_investment(100,0.01,0.01,0.1,0.2,0,1.5)[0]),2)\n",
    "aux_f = lambda x: np.append(x[0],x[1])\n",
    "np.testing.assert_allclose(aux_f(optimal_investment(100,0.01,0.02,0.16,0.16,-0.5,1.5)), np.array([2.75, 3.25,10.5 ]), rtol=5e-1, atol=2e-1)\n",
    "\n"
   ],
   "metadata": {
    "collapsed": false,
    "pycharm": {
     "name": "#%%\n"
    }
   }
  }
 ],
 "metadata": {
  "kernelspec": {
   "display_name": "Python 3 (system-wide)",
   "language": "python",
   "metadata": {
    "cocalc": {
     "description": "Python 3 programming language",
     "priority": 100,
     "url": "https://www.python.org/"
    }
   },
   "name": "python3"
  },
  "language_info": {
   "codemirror_mode": {
    "name": "ipython",
    "version": 3
   },
   "file_extension": ".py",
   "mimetype": "text/x-python",
   "name": "python",
   "nbconvert_exporter": "python",
   "pygments_lexer": "ipython3",
   "version": "3.8.5"
  }
 },
 "nbformat": 4,
 "nbformat_minor": 4
}