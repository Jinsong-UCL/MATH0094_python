{
 "cells": [
  {
   "cell_type": "markdown",
   "metadata": {
    "collapsed": false,
    "toc": true
   },
   "source": [
    "<h1>Table of Contents<span class=\"tocSkip\"></span></h1>\n",
    "<div class=\"toc\"><ul class=\"toc-item\"><li><span><a href=\"#In-this-notebook\" data-toc-modified-id=\"In-this-notebook-1\"><span class=\"toc-item-num\">1&nbsp;&nbsp;</span>In this notebook</a></span></li><li><span><a href=\"#PDF,-CDF-and-Quantile-functions\" data-toc-modified-id=\"PDF,-CDF-and-Quantile-functions-2\"><span class=\"toc-item-num\">2&nbsp;&nbsp;</span>PDF, CDF and Quantile functions</a></span><ul class=\"toc-item\"><li><span><a href=\"#Standard-Gaussian\" data-toc-modified-id=\"Standard-Gaussian-2.1\"><span class=\"toc-item-num\">2.1&nbsp;&nbsp;</span>Standard Gaussian</a></span></li><li><span><a href=\"#Other-examples-of-continuous-distributions\" data-toc-modified-id=\"Other-examples-of-continuous-distributions-2.2\"><span class=\"toc-item-num\">2.2&nbsp;&nbsp;</span>Other examples of continuous distributions</a></span></li><li><span><a href=\"#Examples-of-discrete-distributions\" data-toc-modified-id=\"Examples-of-discrete-distributions-2.3\"><span class=\"toc-item-num\">2.3&nbsp;&nbsp;</span>Examples of discrete distributions</a></span></li></ul></li><li><span><a href=\"#Calculating-V@R,-ES-using-quantiles\" data-toc-modified-id=\"Calculating-V@R,-ES-using-quantiles-3\"><span class=\"toc-item-num\">3&nbsp;&nbsp;</span>Calculating V@R, ES using quantiles</a></span><ul class=\"toc-item\"><li><span><a href=\"#Value-at-risk\" data-toc-modified-id=\"Value-at-risk-3.1\"><span class=\"toc-item-num\">3.1&nbsp;&nbsp;</span>Value at risk</a></span></li><li><span><a href=\"#Expected-shortfall\" data-toc-modified-id=\"Expected-shortfall-3.2\"><span class=\"toc-item-num\">3.2&nbsp;&nbsp;</span>Expected shortfall</a></span></li></ul></li><li><span><a href=\"#Monte-Carlo-approximations\" data-toc-modified-id=\"Monte-Carlo-approximations-4\"><span class=\"toc-item-num\">4&nbsp;&nbsp;</span>Monte Carlo approximations</a></span></li><li><span><a href=\"#Exercises\" data-toc-modified-id=\"Exercises-5\"><span class=\"toc-item-num\">5&nbsp;&nbsp;</span>Exercises</a></span></li></ul></div>"
   ]
  },
  {
   "cell_type": "markdown",
   "metadata": {
    "collapsed": false
   },
   "source": [
    "# Risk measures\n",
    "**Camilo A. Garcia Trillos - 2020**\n",
    "\n",
    "---"
   ]
  },
  {
   "cell_type": "markdown",
   "metadata": {
    "collapsed": false
   },
   "source": [
    "## In this notebook\n",
    "\n",
    "- we learn some probability distributions available in scipy.stats.\n",
    "- we use the associated functions to calculate V@R and ES\n",
    "- we introduce a Monte Carlo estimator for both V@R and ES"
   ]
  },
  {
   "cell_type": "markdown",
   "metadata": {
    "collapsed": false
   },
   "source": [
    "Some distributions do not have easy formulas for their value at risk or expeted shortfall. We introduce here some functions and procedures in Python to approximate their value."
   ]
  },
  {
   "cell_type": "markdown",
   "metadata": {
    "collapsed": false
   },
   "source": [
    "We start by importing the modules we use in this notebook. The package scipy.stats contains some statistical distributions and tests. We will use some of the functions on it."
   ]
  },
  {
   "cell_type": "code",
   "execution_count": 0,
   "metadata": {
    "collapsed": false
   },
   "outputs": [
   ],
   "source": [
    "import numpy as np\n",
    "from numpy.random import default_rng\n",
    "import matplotlib.pyplot as plt\n",
    "import scipy.stats as st"
   ]
  },
  {
   "cell_type": "markdown",
   "metadata": {
    "collapsed": false
   },
   "source": [
    "## PDF, CDF and Quantile functions\n",
    "\n",
    "It is possible to calculate directly the PDF, CDF and quantile function for several distributions in Pytho, thanks to the scipy.stats library. This is achieved with the following general structure: \n",
    "\n",
    "- PDF: *st.[name distribution].pdf(probability, parameters)*\n",
    "- CDF: *st.[name distribution].cdf(probability, parameters)*\n",
    "- Quantile function: *st.[name distribution].ppf(probability, parameters)*\n",
    "\n",
    "\n",
    "\n",
    "Let us illustrate with some examples."
   ]
  },
  {
   "cell_type": "markdown",
   "metadata": {
    "collapsed": false
   },
   "source": [
    "### Standard Gaussian"
   ]
  },
  {
   "cell_type": "code",
   "execution_count": 0,
   "metadata": {
    "collapsed": false
   },
   "outputs": [
   ],
   "source": [
    "# Plotting the pdf\n",
    "\n",
    "x = np.linspace(-3,3,50) #Take 50 equally spaced points between -3 and 3\n",
    "y = st.norm.pdf(x) # calculate the pdf for each one \n",
    "\n",
    "plt.plot(x, y) # plot\n",
    "plt.title('PDF standard Gaussian')\n",
    "plt.xlabel('x')\n",
    "plt.ylabel('pdf')"
   ]
  },
  {
   "cell_type": "markdown",
   "metadata": {
    "collapsed": false
   },
   "source": [
    "We recover the familiar bell-shaped pdf."
   ]
  },
  {
   "cell_type": "code",
   "execution_count": 0,
   "metadata": {
    "collapsed": false
   },
   "outputs": [
   ],
   "source": [
    "# Plotting the cdf\n",
    "\n",
    "x = np.linspace(-3,3,50) #Take 50 equally spaced points between -3 and 3\n",
    "y = st.norm.cdf(x) # calculate the pdf for each one \n",
    "\n",
    "plt.plot(x, y) # plot\n",
    "plt.title('CDF standard Gaussian')\n",
    "plt.xlabel('x')\n",
    "plt.ylabel('cdf')"
   ]
  },
  {
   "cell_type": "markdown",
   "metadata": {
    "collapsed": false
   },
   "source": [
    "The plot illustrates the properties of the cdf: non-decreasing, with limits and $-\\infty$ and $\\infty$ equal to 0 and 1 respectively."
   ]
  },
  {
   "cell_type": "code",
   "execution_count": 0,
   "metadata": {
    "collapsed": false
   },
   "outputs": [
   ],
   "source": [
    "# Plotting the quantile function\n",
    "\n",
    "x = np.linspace(0,1,100) #Take 100 equally spaced points between 0 and 1\n",
    "y = st.norm.ppf(x) # calculate the pdf for each one \n",
    "\n",
    "plt.plot(x, y) # plot\n",
    "plt.title('Quantile function -  standard Gaussian')\n",
    "plt.xlabel('probability')\n",
    "plt.ylabel('x')"
   ]
  },
  {
   "cell_type": "markdown",
   "metadata": {
    "collapsed": false
   },
   "source": [
    "Note how this is the reflection of the CDF plot around the x=y line.\n",
    "\n",
    "Some numbers that appear commonly are associated to the quantile at levels 0.95 and 0.99 for the Gaussian distribution:"
   ]
  },
  {
   "cell_type": "code",
   "execution_count": 0,
   "metadata": {
    "collapsed": false
   },
   "outputs": [
   ],
   "source": [
    "# Standard Gaussian, quantile 0.99\n",
    "\n",
    "print('Quantile at level 0.95: ', st.norm.ppf(0.95))\n",
    "print('Quantile at level 0.99: ', st.norm.ppf(0.99))"
   ]
  },
  {
   "cell_type": "markdown",
   "metadata": {
    "collapsed": false
   },
   "source": [
    "### Other examples of continuous distributions"
   ]
  },
  {
   "cell_type": "code",
   "execution_count": 0,
   "metadata": {
    "collapsed": false
   },
   "outputs": [
   ],
   "source": [
    "#Gaussian with mean 1 and variance 4, quantile 0.99\n",
    "print(st.norm.ppf(0.99,1,2))\n",
    "\n",
    "#Due to the specific structure of Gaussian variables, this coincides with a rescaling of the standard one:\n",
    "print(st.norm.ppf(0.99)*2+1)\n"
   ]
  },
  {
   "cell_type": "code",
   "execution_count": 0,
   "metadata": {
    "collapsed": false
   },
   "outputs": [
   ],
   "source": [
    "# The pdf of a standard - t with 4 degrees of freedom.\n",
    "\n",
    "\n",
    "x = np.linspace(-5,5,50) #Take 50 equally spaced points between -3 and 3\n",
    "y = st.t.pdf(x,4) # calculate the pdf for each one \n",
    "\n",
    "plt.plot(x, y) # plot\n",
    "plt.title('PDF - t with 4 d. of f.')\n",
    "plt.xlabel('x')\n",
    "plt.ylabel('pdf')"
   ]
  },
  {
   "cell_type": "code",
   "execution_count": 0,
   "metadata": {
    "collapsed": false
   },
   "outputs": [
   ],
   "source": [
    "# A t-distribution with 4 degrees of freedom and standard form, quantile 0.99\n",
    "\n",
    "st.t.ppf(0.99,4)"
   ]
  },
  {
   "cell_type": "code",
   "execution_count": 0,
   "metadata": {
    "collapsed": false
   },
   "outputs": [
   ],
   "source": [
    "# A chi-square distribution with 4 degrees of freedom\n",
    "\n",
    "st.chi.ppf(0.99,4)"
   ]
  },
  {
   "cell_type": "markdown",
   "metadata": {
    "collapsed": false
   },
   "source": [
    "There are many more distributions tahn the ones above. Have a look at the help to know more."
   ]
  },
  {
   "cell_type": "markdown",
   "metadata": {
    "collapsed": false
   },
   "source": [
    "### Examples of discrete distributions\n",
    "\n",
    "In the case of discrete distributions, there is no pdf function. Instead, we have a probabity function ($p(x):=\\P(X=x)$) which is calculated in the scipy.stats package using the following structure:\n",
    "\n",
    "- st.[name distribution].pdf(probability, parameters)\n",
    "\n",
    "The CDF and quantile are calculated as for the continuous case.\n",
    "\n",
    "Let us see one example with the Poisson distribution. Recall that if $X$ is distributed Poisson with parameter $\\mu$,\n",
    "$$P[X=n] = e^{-\\mu} \\frac{\\mu^n}{n!} $$"
   ]
  },
  {
   "cell_type": "code",
   "execution_count": 0,
   "metadata": {
    "collapsed": false
   },
   "outputs": [
   ],
   "source": [
    "# Plotting probability\n",
    "\n",
    "x = np.arange(15)\n",
    "y = st.poisson.pmf(x,5)\n",
    "\n",
    "plt.plot(x, y,'bo') # plot\n",
    "plt.title('Probability Poisson mu=5')\n",
    "plt.vlines(x, 0, y, colors='b', lw=1, alpha=0.2)\n",
    "plt.xlabel('x')\n",
    "plt.ylabel('probability')\n",
    "\n",
    "\n"
   ]
  },
  {
   "cell_type": "code",
   "execution_count": 0,
   "metadata": {
    "collapsed": false
   },
   "outputs": [
   ],
   "source": [
    "# Plotting cdf\n",
    "\n",
    "x = np.arange(15)\n",
    "y = st.poisson.cdf(x,5)\n",
    "\n",
    "plt.step(x, y, where='post') # the post label assumes a right continuous function\n",
    "plt.plot(x, y, 'bo') # plot\n",
    "plt.title('CDF Poisson mu=5')\n",
    "#plt.vlines(x, 0, y, colors='b', lw=1, alpha=0.2)\n",
    "plt.xlabel('x')\n",
    "plt.ylabel('probability');"
   ]
  },
  {
   "cell_type": "code",
   "execution_count": 0,
   "metadata": {
    "collapsed": false
   },
   "outputs": [
   ],
   "source": [
    "# Plotting quantile\n",
    "\n",
    "x = st.poisson.cdf(np.arange(15),5) #Take the values we plotted before\n",
    "y = st.poisson.ppf(x,5)\n",
    "\n",
    "plt.step(x, y, where='pre') # the pre label assumes a left continuous function\n",
    "plt.plot(x, y, 'bo') # plot\n",
    "plt.title('Quantile function Poisson mu=5')\n",
    "#plt.vlines(x, 0, y, colors='b', lw=1, alpha=0.2)\n",
    "plt.xlabel('probability')\n",
    "plt.ylabel('quantile');"
   ]
  },
  {
   "cell_type": "markdown",
   "metadata": {
    "collapsed": false
   },
   "source": [
    "## Calculating V@R, ES using quantiles\n",
    "\n",
    "Let us implement two functions that receive a (static) instance of a probability distribution from scipy.stats, and return V@R and ES.\n"
   ]
  },
  {
   "cell_type": "markdown",
   "metadata": {
    "collapsed": false
   },
   "source": [
    "### Value at risk\n",
    "\n",
    "Taking $X$ to be a random variable denoting, for example, profit and losses, we can easily calculate Value at Risk whenever $X$ is distributed following one of the distributions in scipy.stats, by using the quantile function.  \n",
    "\n",
    "We can show that (see lecture notes that)\n",
    "$$ \\mathrm{V@R}^\\alpha(X) = -q_{X}(1-\\alpha+ \\epsilon \\mathbb 1_{ F_X(q_X(1-\\alpha)) = 1-`alpha  }) ,$$\n",
    "for some $0<\\epsilon< P[X=q_X(1-\\alpha)]$.\n",
    "Note that in the case of a continuous distribution we get\n",
    "$$\\mathrm{V@R}^\\alpha(X) = -q_{X}(1-\\alpha).$$\n"
   ]
  },
  {
   "cell_type": "code",
   "execution_count": 0,
   "metadata": {
    "collapsed": false
   },
   "outputs": [
   ],
   "source": [
    "def varisk(dist, alpha):\n",
    "    \n",
    "    if alpha<=0 or alpha>=1:\n",
    "        raise ValueError('Alpha is outside of valid interval')\n",
    "    \n",
    "    x_aux = dist.ppf(1-alpha)\n",
    "    \n",
    "    try:  #check if calling the function pmf raises an error\n",
    "        dist.pmf(0)\n",
    "    except:  # if an error, the distribution is continuous because there is no prob. mass function\n",
    "        return -x_aux   \n",
    "    #Otherwise, the distribution is discrete\n",
    "    if dist.cdf(x_aux)==1-alpha:\n",
    "        return -1.*dist.ppf( 1-alpha+dist.pmf(x_aux)*alpha )\n",
    "    return -x_aux\n"
   ]
  },
  {
   "cell_type": "markdown",
   "metadata": {
    "collapsed": false
   },
   "source": [
    "Let us see some examples:"
   ]
  },
  {
   "cell_type": "code",
   "execution_count": 0,
   "metadata": {
    "collapsed": false
   },
   "outputs": [
   ],
   "source": [
    "\n",
    "# Value at risk at level 0.99 for a Gaussian with mean 1 and variance 4\n",
    "print(varisk(st.norm(1,2), 0.99))\n",
    "\n",
    "#The same from an exact formula (see lecture notes):\n",
    "print( 2*st.norm.ppf(0.99,0,1)-1  )\n",
    "\n"
   ]
  },
  {
   "cell_type": "markdown",
   "metadata": {
    "collapsed": false
   },
   "source": [
    "We got the value we were expecting. Let us now check the case of a bernoulli random variable with $P[X=1]=0.75$."
   ]
  },
  {
   "cell_type": "code",
   "execution_count": 0,
   "metadata": {
    "collapsed": false
   },
   "outputs": [
   ],
   "source": [
    "print('V@R level 0.99',varisk(st.bernoulli(0.75), 0.99))\n",
    "print('V@R level 0.75',varisk(st.bernoulli(0.75), 0.75))\n",
    "print('V@R level 0.60',varisk(st.bernoulli(0.75), 0.60))\n",
    "      \n"
   ]
  },
  {
   "cell_type": "markdown",
   "metadata": {
    "collapsed": false
   },
   "source": [
    "### Expected shortfall\n",
    "\n",
    "Recall (see the lecture notes) that\n",
    "\n",
    "$$\\begin{split} \n",
    "\\mathrm{ES}^\\alpha & = \\frac{1}{1-\\alpha} \\int_{\\alpha}^1 \\mathrm{V@R}^u(X)\\mathrm d u \\\\\n",
    "& =  \\frac  1 {1-\\alpha} \\left\\{ - \\mathbb{E}[X \\mathbb{1}_{X <-\\mathrm{V@R}^\\alpha(X)}] + (\\tilde \\alpha-\\alpha) \\mathrm{V@R}^\\alpha(X) \\right\\}\n",
    "\\end{split}$$\n",
    "\n",
    "where $\\tilde \\alpha:= F_{-X}(\\mathrm{V@R}^\\alpha(X)) = 1-F_{X}(-\\mathrm{V@R}^\\alpha(X)) + P[X = -\\mathrm{V@R}^\\alpha(X)]$.\n",
    "\n",
    "\n",
    "We are going to use the method 'expect' associated to a given distribution in scipy.stats. Look at the help of this function to understand more, but here are two examples of use:\n"
   ]
  },
  {
   "cell_type": "code",
   "execution_count": 0,
   "metadata": {
    "collapsed": false
   },
   "outputs": [
   ],
   "source": [
    "# Example for expect\n",
    "\n",
    "print('Expected value of a standard Gaussian:', st.norm(0,1).expect(lambda x: x)) \n",
    "print('Second moment of a standard Gaussian: ', st.norm(0,1).expect(lambda x: x**2)) \n",
    "print('Expected value of X in the interval [0,\\infty):',st.norm(0,1).expect(lambda x: x, lb =0)) \n"
   ]
  },
  {
   "cell_type": "markdown",
   "metadata": {
    "collapsed": false
   },
   "source": [
    "We can use this available fucntion to define our own function to calculate expected shortfall."
   ]
  },
  {
   "cell_type": "code",
   "execution_count": 0,
   "metadata": {
    "collapsed": false
   },
   "outputs": [
   ],
   "source": [
    "def es(dist,alpha):\n",
    "        \n",
    "    var_alpha = varisk(dist,alpha)\n",
    "    x_aux = (-1*dist.expect(func = lambda x: x, ub = -var_alpha))/(1-alpha)\n",
    "    \n",
    "    \n",
    "    try:  #check if calling the function pmf raises an error\n",
    "        dist.pmf(0)\n",
    "    except:  # if an error, the distribution is continuous because there is no prob. mass function\n",
    "        return x_aux\n",
    "    \n",
    "    p_varalpha = dist.pmf(-1*var_alpha)\n",
    "    \n",
    "    alpha_tilde = 1-dist.cdf(-1*var_alpha) + p_varalpha\n",
    "    return x_aux + (alpha_tilde-alpha-p_varalpha)*var_alpha/(1-alpha)\n",
    "     \n",
    "    "
   ]
  },
  {
   "cell_type": "code",
   "execution_count": 0,
   "metadata": {
    "collapsed": false
   },
   "outputs": [
   ],
   "source": [
    "# Expected shortfall at level 0.99 for a Gaussian with mean 1 and variance 4\n",
    "alpha = 0.99\n",
    "print(es(st.norm(1,2), alpha))\n",
    "\n",
    "#The same from an exact formula (see lecture notes):\n",
    "print( -1 + 2*( st.norm(0,1).pdf( st.norm(0,1).ppf(alpha))/(1-alpha)  ) )"
   ]
  },
  {
   "cell_type": "markdown",
   "metadata": {
    "collapsed": false
   },
   "source": [
    "As can be seen, there is a small difference due to the approximation error in the function \"expect\", but the approximation is very good.\n",
    "\n",
    "Let us compare both value at risk and expected shortfall for different values"
   ]
  },
  {
   "cell_type": "code",
   "execution_count": 0,
   "metadata": {
    "collapsed": false
   },
   "outputs": [
   ],
   "source": [
    "alpha_vec = np.arange(0.01,1,0.03)\n",
    "test_dist = st.norm(0,1)\n",
    "plt.plot(alpha_vec, [varisk(test_dist,i) for i in alpha_vec], label='V@R')\n",
    "plt.plot(alpha_vec, [es(test_dist,i) for i in alpha_vec], label='ES')\n",
    "plt.legend()\n",
    "plt.title('V@R and ES for standard Gaussian')\n",
    "plt.xlabel('Probability')\n",
    "plt.ylabel('Value');"
   ]
  },
  {
   "cell_type": "markdown",
   "metadata": {
    "collapsed": false
   },
   "source": [
    "We can verify visually several properties:\n",
    "- Expected shortfall is always larger or equal than value at risk\n",
    "- Expected shortfall tends to $-E[X]$ when $\\alpha\\downarrow 0$. "
   ]
  },
  {
   "cell_type": "markdown",
   "metadata": {
    "collapsed": false
   },
   "source": [
    "Let us now check the case of a Bernoulli random variable with $P[X=1]=0.75$."
   ]
  },
  {
   "cell_type": "code",
   "execution_count": 0,
   "metadata": {
    "collapsed": false
   },
   "outputs": [
   ],
   "source": [
    "print('ES level 0.99',es(st.bernoulli(0.75), 0.99))\n",
    "print('ES level 0.60',es(st.bernoulli(0.75), 0.6))"
   ]
  },
  {
   "cell_type": "code",
   "execution_count": 0,
   "metadata": {
    "collapsed": false
   },
   "outputs": [
   ],
   "source": [
    "alpha_vec = np.arange(0.01,1,0.03)\n",
    "test_dist = st.bernoulli(0.75)\n",
    "plt.plot(alpha_vec, [varisk(test_dist,i) for i in alpha_vec], label='V@R')\n",
    "plt.plot(alpha_vec, [es(test_dist,i) for i in alpha_vec], label='ES')\n",
    "plt.legend()\n",
    "plt.title('V@R and ES for Bernoulli(0.75)')\n",
    "plt.xlabel('Probability')\n",
    "plt.ylabel('Value');"
   ]
  },
  {
   "cell_type": "markdown",
   "metadata": {
    "collapsed": false
   },
   "source": [
    "This is an example that shows that expected shortfall is more regular with respect to the level. Here it is continuous in alpha while value at risk is not.\n"
   ]
  },
  {
   "cell_type": "markdown",
   "metadata": {
    "collapsed": false
   },
   "source": [
    "## Monte Carlo approximations\n",
    "\n",
    "A Monte Carlo approximation might be useful either to replace the calculation of integrals for expected shortfall as above, or to calculate both value at risk and expected shortfall in cases where we do not have an explicit expression for the pdf. \n",
    "\n",
    "The idea is simply replace the calculation of expected shortfall or value at risk on the distribution bu that of the empirical measure coming from a large sample of the distribution.\n",
    "\n",
    "Suppose that $X_1, \\ldots, X_n$ are all i.i.d. samples of the same distribution in $\\mathbb R$. Let us also denote by $X_{(1)}, \\ldots, X_{(n)} $ this sample after ordering (i.e. $X_{(i)} \\leq X_{(j)}$ if and only if $i\\leq j$). Then we have that\n",
    "$$\\begin{split}\n",
    "\\mathrm{V@R}^\\alpha(X) & \\approx -X_{( i_\\alpha )} \\\\\n",
    "\\mathrm{ES}^\\alpha(X) &\\approx -\\frac{1}{i_\\alpha }\\sum_{k=1}^{i_\\alpha} X_{( k )}\n",
    "\\end{split}\n",
    "$$\n",
    "\n",
    "where $i_\\alpha:= \\lfloor n(1-\\alpha)\\rfloor$.\n",
    "\n",
    "**Remark:** Naturally, this is not the only estimator, There are other choices of estimator that will be presented later in the lecture notes.\n",
    "\n",
    "\n",
    "\n"
   ]
  },
  {
   "cell_type": "markdown",
   "metadata": {
    "collapsed": false
   },
   "source": [
    "Let us define a function that calculate the approximation of value at risk and expected shortfall for any sample"
   ]
  },
  {
   "cell_type": "code",
   "execution_count": 0,
   "metadata": {
    "collapsed": false
   },
   "outputs": [
   ],
   "source": [
    "def var_es_sample(sample,alpha):    \n",
    "    ss=np.sort(sample)\n",
    "    ialpha = int(sample.size * (1-alpha))\n",
    "    return -ss[ialpha], -ss[:ialpha].mean()\n"
   ]
  },
  {
   "cell_type": "markdown",
   "metadata": {
    "collapsed": false
   },
   "source": [
    "We can test by comparing in cases as the ones we had before. Remember the use of the random number generator.\n",
    "\n",
    "We start with the standard normal case."
   ]
  },
  {
   "cell_type": "code",
   "execution_count": 0,
   "metadata": {
    "collapsed": false
   },
   "outputs": [
   ],
   "source": [
    "NMC = 1000000 # Number of samples\n",
    "rng = default_rng(0)\n",
    "sample_normal = rng.normal(1,2,size=NMC)\n",
    "var_es_sample(sample_normal, 0.99)"
   ]
  },
  {
   "cell_type": "markdown",
   "metadata": {
    "collapsed": false
   },
   "source": [
    "Comparing with the values before (3.6526957480816815, 4.330428440691612), this is not a bad approximation. Note, though that we required a large sample (here, 1000000). A larger sample might be required for higher levels in VAR and ES. \n",
    "\n",
    "Also, remember that this estimator is random (this is why we had to fix the seed of the generator). You can check this by removing the seed.\n",
    "\n",
    "Let us see also the case of the Bernoulli(0.75)."
   ]
  },
  {
   "cell_type": "code",
   "execution_count": 0,
   "metadata": {
    "collapsed": false
   },
   "outputs": [
   ],
   "source": [
    "rng = default_rng(123)\n",
    "sample_bernoulli=(rng.random(size = NMC)<=0.75) +0\n",
    "var_es_sample(sample_bernoulli, 0.99)"
   ]
  },
  {
   "cell_type": "code",
   "execution_count": 0,
   "metadata": {
    "collapsed": false
   },
   "outputs": [
   ],
   "source": [
    "var_es_sample(sample_bernoulli, 0.6)"
   ]
  },
  {
   "cell_type": "markdown",
   "metadata": {
    "collapsed": false
   },
   "source": [
    "Again, we get close enough values to the ones defined before."
   ]
  },
  {
   "cell_type": "markdown",
   "metadata": {
    "collapsed": false
   },
   "source": [
    "## Exercises\n",
    "\n",
    "1. Plot the values of value at risk for value at risk for a t-distribution as a function of the number of degrees of freedom. Repeat the exercise with expected shortfall. What do you observe?\n"
   ]
  },
  {
   "cell_type": "code",
   "execution_count": 0,
   "metadata": {
    "collapsed": false
   },
   "outputs": [
   ],
   "source": [
   ]
  },
  {
   "cell_type": "markdown",
   "metadata": {
    "collapsed": false
   },
   "source": [
    "2. Assume $X$ follows a standard Gaussian. Write a function $\\phi(\\alpha)$ such that $\\mathrm{V@R}^{\\phi(\\alpha)}(X) = \\mathrm{ES}^\\alpha(X)$. Test the function. What is the value associated to 0.975?"
   ]
  },
  {
   "cell_type": "code",
   "execution_count": 0,
   "metadata": {
    "collapsed": false
   },
   "outputs": [
   ],
   "source": [
   ]
  },
  {
   "cell_type": "markdown",
   "metadata": {
    "collapsed": false
   },
   "source": [
    "3. Assume that you have invested £100, equally, in two investments with P&L given respectively by a) A Gaussian random variable with mean 60 and sd 100; and b) An exponential random variable with mean 75. Assume further that both are independent. \n",
    "\n",
    "Calculate the value at risk and expected shortfall of your total P&L.\n",
    "\n",
    "\n"
   ]
  },
  {
   "cell_type": "code",
   "execution_count": 0,
   "metadata": {
    "collapsed": false
   },
   "outputs": [
   ],
   "source": [
   ]
  }
 ],
 "metadata": {
  "kernelspec": {
   "display_name": "Python 3 (system-wide)",
   "language": "python",
   "metadata": {
    "cocalc": {
     "description": "Python 3 programming language",
     "priority": 100,
     "url": "https://www.python.org/"
    }
   },
   "name": "python3"
  },
  "language_info": {
   "codemirror_mode": {
    "name": "ipython",
    "version": 3
   },
   "file_extension": ".py",
   "mimetype": "text/x-python",
   "name": "python",
   "nbconvert_exporter": "python",
   "pygments_lexer": "ipython3",
   "version": "3.8.5"
  },
  "toc": {
   "base_numbering": 1,
   "nav_menu": {
   },
   "number_sections": true,
   "sideBar": true,
   "skip_h1_title": true,
   "title_cell": "Table of Contents",
   "title_sidebar": "Contents",
   "toc_cell": true,
   "toc_position": {
   },
   "toc_section_display": true,
   "toc_window_display": false
  }
 },
 "nbformat": 4,
 "nbformat_minor": 4
}